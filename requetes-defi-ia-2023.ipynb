{
 "cells": [
  {
   "cell_type": "markdown",
   "metadata": {
    "papermill": {
     "duration": 0.005474,
     "end_time": "2022-10-06T11:59:40.379015",
     "exception": false,
     "start_time": "2022-10-06T11:59:40.373541",
     "status": "completed"
    },
    "tags": []
   },
   "source": [
    "# Tutoriel d'usage de l'API"
   ]
  },
  {
   "cell_type": "code",
   "execution_count": 1,
   "metadata": {
    "execution": {
     "iopub.execute_input": "2022-10-06T11:59:40.390301Z",
     "iopub.status.busy": "2022-10-06T11:59:40.389682Z",
     "iopub.status.idle": "2022-10-06T11:59:40.402447Z",
     "shell.execute_reply": "2022-10-06T11:59:40.401632Z"
    },
    "papermill": {
     "duration": 0.021302,
     "end_time": "2022-10-06T11:59:40.404818",
     "exception": false,
     "start_time": "2022-10-06T11:59:40.383516",
     "status": "completed"
    },
    "tags": []
   },
   "outputs": [],
   "source": [
    "import urllib.parse\n",
    "\n",
    "domain = \"51.91.251.0\"\n",
    "port = 3000\n",
    "host = f\"http://{domain}:{port}\"\n",
    "path = lambda x: urllib.parse.urljoin(host, x)"
   ]
  },
  {
   "cell_type": "code",
   "execution_count": 2,
   "metadata": {},
   "outputs": [],
   "source": [
    "import numpy as np "
   ]
  },
  {
   "cell_type": "code",
   "execution_count": 3,
   "metadata": {},
   "outputs": [
    {
     "ename": "SyntaxError",
     "evalue": "invalid syntax (<ipython-input-3-3b400d8b66f7>, line 1)",
     "output_type": "error",
     "traceback": [
      "\u001b[1;36m  File \u001b[1;32m\"<ipython-input-3-3b400d8b66f7>\"\u001b[1;36m, line \u001b[1;32m1\u001b[0m\n\u001b[1;33m    http://51.91.251.0:3000/remaining-requests/'12e1e6fc-456b-4738-ba59-b90c3386f583'\u001b[0m\n\u001b[1;37m          ^\u001b[0m\n\u001b[1;31mSyntaxError\u001b[0m\u001b[1;31m:\u001b[0m invalid syntax\n"
     ]
    }
   ],
   "source": [
    "http://51.91.251.0:3000/remaining-requests/12e1e6fc-456b-4738-ba59-b90c3386f583"
   ]
  },
  {
   "cell_type": "markdown",
   "metadata": {
    "papermill": {
     "duration": 0.003988,
     "end_time": "2022-10-06T11:59:40.413193",
     "exception": false,
     "start_time": "2022-10-06T11:59:40.409205",
     "status": "completed"
    },
    "tags": []
   },
   "source": [
    "## Creating an avatar"
   ]
  },
  {
   "cell_type": "markdown",
   "metadata": {
    "papermill": {
     "duration": 0.004024,
     "end_time": "2022-10-06T11:59:40.421441",
     "exception": false,
     "start_time": "2022-10-06T11:59:40.417417",
     "status": "completed"
    },
    "tags": []
   },
   "source": [
    "The admin of the competition can create users. A user can then create as many avatars as they wish."
   ]
  },
  {
   "cell_type": "code",
   "execution_count": 134,
   "metadata": {
    "execution": {
     "iopub.execute_input": "2022-10-06T11:59:40.432149Z",
     "iopub.status.busy": "2022-10-06T11:59:40.431498Z",
     "iopub.status.idle": "2022-10-06T11:59:40.654576Z",
     "shell.execute_reply": "2022-10-06T11:59:40.652630Z"
    },
    "papermill": {
     "duration": 0.23497,
     "end_time": "2022-10-06T11:59:40.660791",
     "exception": false,
     "start_time": "2022-10-06T11:59:40.425821",
     "status": "completed"
    },
    "tags": []
   },
   "outputs": [
    {
     "data": {
      "text/plain": [
       "<Response [200]>"
      ]
     },
     "execution_count": 134,
     "metadata": {},
     "output_type": "execute_result"
    }
   ],
   "source": [
    "import requests\n",
    "\n",
    "user_id = '12e1e6fc-456b-4738-ba59-b90c3386f583'\n",
    "name = 'ema-lithuanian1-avatar'\n",
    "r = requests.post(path(f'avatars/{user_id}/{name}'))\n",
    "r"
   ]
  },
  {
   "cell_type": "code",
   "execution_count": 91,
   "metadata": {
    "execution": {
     "iopub.execute_input": "2022-10-06T11:59:40.673570Z",
     "iopub.status.busy": "2022-10-06T11:59:40.672368Z",
     "iopub.status.idle": "2022-10-06T11:59:40.883155Z",
     "shell.execute_reply": "2022-10-06T11:59:40.881934Z"
    },
    "papermill": {
     "duration": 0.219214,
     "end_time": "2022-10-06T11:59:40.885475",
     "exception": false,
     "start_time": "2022-10-06T11:59:40.666261",
     "status": "completed"
    },
    "tags": []
   },
   "outputs": [],
   "source": [
    "# name = 'max-second-avatar'\n",
    "# r = requests.post(path(f\"avatars/{user_id}/{name}\"))\n",
    "# r"
   ]
  },
  {
   "cell_type": "code",
   "execution_count": 135,
   "metadata": {
    "execution": {
     "iopub.execute_input": "2022-10-06T11:59:40.896525Z",
     "iopub.status.busy": "2022-10-06T11:59:40.895549Z",
     "iopub.status.idle": "2022-10-06T11:59:41.102485Z",
     "shell.execute_reply": "2022-10-06T11:59:41.101223Z"
    },
    "papermill": {
     "duration": 0.215119,
     "end_time": "2022-10-06T11:59:41.105182",
     "exception": false,
     "start_time": "2022-10-06T11:59:40.890063",
     "status": "completed"
    },
    "tags": []
   },
   "outputs": [
    {
     "name": "stdout",
     "output_type": "stream",
     "text": [
      "6217 ema-first-avatar\n",
      "34250 ema-austrian1-avatar\n",
      "34256 ema-belgian1-avatar\n",
      "34257 ema-bulgarian1-avatar\n",
      "34258 ema-croatian1-avatar\n",
      "34305 ema-german1-avatar\n",
      "34259 ema-cypriot1-avatar\n",
      "34260 ema-czech1-avatar\n",
      "34264 ema-finnish1-avatar\n",
      "34265 ema-french1-avatar\n",
      "34261 ema-danish1-avatar\n",
      "34262 ema-dutch1-avatar\n",
      "34263 ema-estanian1-avatar\n",
      "34429 ema-greek1-avatar\n",
      "34457 ema-irish1-avatar\n",
      "34455 ema-hungarian2-avatar\n",
      "34456 ema-hungarian3-avatar\n",
      "34458 ema-italian1-avatar\n",
      "35123 ema-belgian3-avatar\n",
      "37849 ema-luxembourgish1-avatar\n",
      "38438 ema-luxembourgish2-avatar\n",
      "73369 ema-maltese1-avatar\n",
      "73371 ema-polish2-avatar\n",
      "73370 ema-polish1-avatar\n",
      "92219 ema-irish2-avatar\n",
      "92220 ema-italian2-avatar\n",
      "92221 ema-latvian1-avatar\n",
      "92222 ema-lithuanian1-avatar\n"
     ]
    }
   ],
   "source": [
    "r = requests.get(path(f\"avatars/{user_id}\"))\n",
    "for avatar in r.json():\n",
    "    print(avatar['id'], avatar['name'])"
   ]
  },
  {
   "cell_type": "markdown",
   "metadata": {
    "papermill": {
     "duration": 0.004317,
     "end_time": "2022-10-06T11:59:41.114227",
     "exception": false,
     "start_time": "2022-10-06T11:59:41.109910",
     "status": "completed"
    },
    "tags": []
   },
   "source": [
    "## Making pricing requests"
   ]
  },
  {
   "cell_type": "code",
   "execution_count": 93,
   "metadata": {},
   "outputs": [],
   "source": [
    "language_list=['austrian', 'belgian', 'bulgarian', 'croatian', 'cypriot', 'czech', 'danish', 'dutch', 'estonian', 'finnish', 'french', 'german', 'greek', 'hungarian', 'irish', 'italian', 'latvian', 'lithuanian', 'luxembourgish', 'maltese', 'polish', 'portuguese', 'romanian', 'slovakian', 'slovene', 'spanish' ,'swedish']\n",
    "\n",
    "city_list=['amsterdam', 'copenhagen', 'madrid', 'paris', 'rome', 'sofia', 'valletta', 'vienna','vilnius']\n",
    "\n",
    "date_list=list(np.arange(1,45,1))"
   ]
  },
  {
   "cell_type": "code",
   "execution_count": 94,
   "metadata": {},
   "outputs": [],
   "source": [
    "## A modifier logiquement selon dates souhaitées\n",
    "\n",
    "date_list_soon=[2,4,5]\n",
    "\n",
    "date_list_middle=[9,11,13,14]\n",
    "\n",
    "date_list_away=[35,37,40,41]\n",
    "\n"
   ]
  },
  {
   "cell_type": "code",
   "execution_count": 149,
   "metadata": {},
   "outputs": [],
   "source": [
    "language_test='lithuanian'\n",
    "avatar_test='ema-lithuanian1-avatar'\n",
    "date_test=date_list_middle"
   ]
  },
  {
   "cell_type": "code",
   "execution_count": 150,
   "metadata": {},
   "outputs": [
    {
     "name": "stdout",
     "output_type": "stream",
     "text": [
      "ema-lithuanian1-avatar lithuanian [9, 11, 13, 14]\n"
     ]
    }
   ],
   "source": [
    "print(avatar_test, language_test,date_test)"
   ]
  },
  {
   "cell_type": "code",
   "execution_count": 151,
   "metadata": {},
   "outputs": [],
   "source": [
    "requests_list=[]\n",
    "\n",
    "for date in reversed(date_test) : \n",
    "    for city in city_list : \n",
    "        params = {\n",
    "            \"avatar_name\": avatar_test,\n",
    "            \"language\": language_test,\n",
    "            \"city\": city,\n",
    "            \"date\": date,\n",
    "            \"mobile\": np.random.randint(0,2),\n",
    "        }\n",
    "        r = requests.get(path(f\"pricing/{user_id}\"), params=params)\n",
    "        r.json()\n",
    "        \n",
    "        requests_list.append(r)\n",
    "       "
   ]
  },
  {
   "cell_type": "markdown",
   "metadata": {
    "papermill": {
     "duration": 0.004871,
     "end_time": "2022-10-06T11:59:41.890316",
     "exception": false,
     "start_time": "2022-10-06T11:59:41.885445",
     "status": "completed"
    },
    "tags": []
   },
   "source": [
    "## Build a training set"
   ]
  },
  {
   "cell_type": "code",
   "execution_count": 152,
   "metadata": {},
   "outputs": [
    {
     "data": {
      "text/html": [
       "<div>\n",
       "<style scoped>\n",
       "    .dataframe tbody tr th:only-of-type {\n",
       "        vertical-align: middle;\n",
       "    }\n",
       "\n",
       "    .dataframe tbody tr th {\n",
       "        vertical-align: top;\n",
       "    }\n",
       "\n",
       "    .dataframe thead th {\n",
       "        text-align: right;\n",
       "    }\n",
       "</style>\n",
       "<table border=\"1\" class=\"dataframe\">\n",
       "  <thead>\n",
       "    <tr style=\"text-align: right;\">\n",
       "      <th></th>\n",
       "      <th>hotel_id</th>\n",
       "      <th>price</th>\n",
       "      <th>stock</th>\n",
       "      <th>city</th>\n",
       "      <th>date</th>\n",
       "      <th>language</th>\n",
       "      <th>mobile</th>\n",
       "      <th>avatar_id</th>\n",
       "    </tr>\n",
       "  </thead>\n",
       "  <tbody>\n",
       "    <tr>\n",
       "      <td>0</td>\n",
       "      <td>750</td>\n",
       "      <td>116</td>\n",
       "      <td>10</td>\n",
       "      <td>amsterdam</td>\n",
       "      <td>14</td>\n",
       "      <td>lithuanian</td>\n",
       "      <td>0</td>\n",
       "      <td>92222</td>\n",
       "    </tr>\n",
       "    <tr>\n",
       "      <td>1</td>\n",
       "      <td>529</td>\n",
       "      <td>247</td>\n",
       "      <td>20</td>\n",
       "      <td>amsterdam</td>\n",
       "      <td>14</td>\n",
       "      <td>lithuanian</td>\n",
       "      <td>0</td>\n",
       "      <td>92222</td>\n",
       "    </tr>\n",
       "    <tr>\n",
       "      <td>2</td>\n",
       "      <td>193</td>\n",
       "      <td>153</td>\n",
       "      <td>9</td>\n",
       "      <td>amsterdam</td>\n",
       "      <td>14</td>\n",
       "      <td>lithuanian</td>\n",
       "      <td>0</td>\n",
       "      <td>92222</td>\n",
       "    </tr>\n",
       "    <tr>\n",
       "      <td>3</td>\n",
       "      <td>760</td>\n",
       "      <td>229</td>\n",
       "      <td>14</td>\n",
       "      <td>amsterdam</td>\n",
       "      <td>14</td>\n",
       "      <td>lithuanian</td>\n",
       "      <td>0</td>\n",
       "      <td>92222</td>\n",
       "    </tr>\n",
       "    <tr>\n",
       "      <td>4</td>\n",
       "      <td>212</td>\n",
       "      <td>244</td>\n",
       "      <td>12</td>\n",
       "      <td>amsterdam</td>\n",
       "      <td>14</td>\n",
       "      <td>lithuanian</td>\n",
       "      <td>0</td>\n",
       "      <td>92222</td>\n",
       "    </tr>\n",
       "  </tbody>\n",
       "</table>\n",
       "</div>"
      ],
      "text/plain": [
       "   hotel_id  price  stock       city  date    language  mobile  avatar_id\n",
       "0       750    116     10  amsterdam    14  lithuanian       0      92222\n",
       "1       529    247     20  amsterdam    14  lithuanian       0      92222\n",
       "2       193    153      9  amsterdam    14  lithuanian       0      92222\n",
       "3       760    229     14  amsterdam    14  lithuanian       0      92222\n",
       "4       212    244     12  amsterdam    14  lithuanian       0      92222"
      ]
     },
     "execution_count": 152,
     "metadata": {},
     "output_type": "execute_result"
    }
   ],
   "source": [
    "import pandas as pd\n",
    "\n",
    "pricing_requests = []\n",
    "\n",
    "for r in requests_list:\n",
    "    pricing_requests.append(\n",
    "        pd.DataFrame(r.json()['prices']).assign(**r.json()['request'])\n",
    "    )\n",
    "\n",
    "pricing_requests = pd.concat(pricing_requests)\n",
    "pricing_requests.head()"
   ]
  },
  {
   "cell_type": "code",
   "execution_count": 153,
   "metadata": {},
   "outputs": [
    {
     "data": {
      "text/plain": [
       "3952"
      ]
     },
     "execution_count": 153,
     "metadata": {},
     "output_type": "execute_result"
    }
   ],
   "source": [
    "len(pricing_requests)"
   ]
  },
  {
   "cell_type": "code",
   "execution_count": 154,
   "metadata": {
    "scrolled": true
   },
   "outputs": [],
   "source": [
    "# print(pricing_requests[ pricing_requests['mobile'] == 0])"
   ]
  },
  {
   "cell_type": "code",
   "execution_count": 155,
   "metadata": {},
   "outputs": [],
   "source": [
    "data=pd.read_csv('./Datatrain/test_requete.csv')"
   ]
  },
  {
   "cell_type": "code",
   "execution_count": 156,
   "metadata": {},
   "outputs": [],
   "source": [
    "data=data.drop(['Unnamed: 0'],axis=1)"
   ]
  },
  {
   "cell_type": "code",
   "execution_count": 157,
   "metadata": {},
   "outputs": [],
   "source": [
    "pricing_requests=pd.concat([data,pricing_requests])"
   ]
  },
  {
   "cell_type": "code",
   "execution_count": 158,
   "metadata": {},
   "outputs": [
    {
     "data": {
      "text/html": [
       "<div>\n",
       "<style scoped>\n",
       "    .dataframe tbody tr th:only-of-type {\n",
       "        vertical-align: middle;\n",
       "    }\n",
       "\n",
       "    .dataframe tbody tr th {\n",
       "        vertical-align: top;\n",
       "    }\n",
       "\n",
       "    .dataframe thead th {\n",
       "        text-align: right;\n",
       "    }\n",
       "</style>\n",
       "<table border=\"1\" class=\"dataframe\">\n",
       "  <thead>\n",
       "    <tr style=\"text-align: right;\">\n",
       "      <th></th>\n",
       "      <th>hotel_id</th>\n",
       "      <th>price</th>\n",
       "      <th>stock</th>\n",
       "      <th>city</th>\n",
       "      <th>date</th>\n",
       "      <th>language</th>\n",
       "      <th>mobile</th>\n",
       "      <th>avatar_id</th>\n",
       "    </tr>\n",
       "  </thead>\n",
       "  <tbody>\n",
       "    <tr>\n",
       "      <td>0</td>\n",
       "      <td>556</td>\n",
       "      <td>175</td>\n",
       "      <td>60</td>\n",
       "      <td>copenhagen</td>\n",
       "      <td>30</td>\n",
       "      <td>hungarian</td>\n",
       "      <td>0</td>\n",
       "      <td>6217</td>\n",
       "    </tr>\n",
       "    <tr>\n",
       "      <td>1</td>\n",
       "      <td>664</td>\n",
       "      <td>284</td>\n",
       "      <td>111</td>\n",
       "      <td>copenhagen</td>\n",
       "      <td>30</td>\n",
       "      <td>hungarian</td>\n",
       "      <td>0</td>\n",
       "      <td>6217</td>\n",
       "    </tr>\n",
       "    <tr>\n",
       "      <td>2</td>\n",
       "      <td>96</td>\n",
       "      <td>124</td>\n",
       "      <td>37</td>\n",
       "      <td>copenhagen</td>\n",
       "      <td>30</td>\n",
       "      <td>hungarian</td>\n",
       "      <td>0</td>\n",
       "      <td>6217</td>\n",
       "    </tr>\n",
       "    <tr>\n",
       "      <td>3</td>\n",
       "      <td>865</td>\n",
       "      <td>277</td>\n",
       "      <td>107</td>\n",
       "      <td>copenhagen</td>\n",
       "      <td>30</td>\n",
       "      <td>hungarian</td>\n",
       "      <td>0</td>\n",
       "      <td>6217</td>\n",
       "    </tr>\n",
       "    <tr>\n",
       "      <td>4</td>\n",
       "      <td>58</td>\n",
       "      <td>203</td>\n",
       "      <td>65</td>\n",
       "      <td>copenhagen</td>\n",
       "      <td>30</td>\n",
       "      <td>hungarian</td>\n",
       "      <td>0</td>\n",
       "      <td>6217</td>\n",
       "    </tr>\n",
       "    <tr>\n",
       "      <td>...</td>\n",
       "      <td>...</td>\n",
       "      <td>...</td>\n",
       "      <td>...</td>\n",
       "      <td>...</td>\n",
       "      <td>...</td>\n",
       "      <td>...</td>\n",
       "      <td>...</td>\n",
       "      <td>...</td>\n",
       "    </tr>\n",
       "    <tr>\n",
       "      <td>88</td>\n",
       "      <td>654</td>\n",
       "      <td>227</td>\n",
       "      <td>6</td>\n",
       "      <td>vilnius</td>\n",
       "      <td>9</td>\n",
       "      <td>lithuanian</td>\n",
       "      <td>1</td>\n",
       "      <td>92222</td>\n",
       "    </tr>\n",
       "    <tr>\n",
       "      <td>89</td>\n",
       "      <td>881</td>\n",
       "      <td>188</td>\n",
       "      <td>8</td>\n",
       "      <td>vilnius</td>\n",
       "      <td>9</td>\n",
       "      <td>lithuanian</td>\n",
       "      <td>1</td>\n",
       "      <td>92222</td>\n",
       "    </tr>\n",
       "    <tr>\n",
       "      <td>90</td>\n",
       "      <td>221</td>\n",
       "      <td>59</td>\n",
       "      <td>1</td>\n",
       "      <td>vilnius</td>\n",
       "      <td>9</td>\n",
       "      <td>lithuanian</td>\n",
       "      <td>1</td>\n",
       "      <td>92222</td>\n",
       "    </tr>\n",
       "    <tr>\n",
       "      <td>91</td>\n",
       "      <td>887</td>\n",
       "      <td>136</td>\n",
       "      <td>8</td>\n",
       "      <td>vilnius</td>\n",
       "      <td>9</td>\n",
       "      <td>lithuanian</td>\n",
       "      <td>1</td>\n",
       "      <td>92222</td>\n",
       "    </tr>\n",
       "    <tr>\n",
       "      <td>92</td>\n",
       "      <td>498</td>\n",
       "      <td>147</td>\n",
       "      <td>4</td>\n",
       "      <td>vilnius</td>\n",
       "      <td>9</td>\n",
       "      <td>lithuanian</td>\n",
       "      <td>1</td>\n",
       "      <td>92222</td>\n",
       "    </tr>\n",
       "  </tbody>\n",
       "</table>\n",
       "<p>151711 rows × 8 columns</p>\n",
       "</div>"
      ],
      "text/plain": [
       "    hotel_id  price  stock        city  date    language  mobile  avatar_id\n",
       "0        556    175     60  copenhagen    30   hungarian       0       6217\n",
       "1        664    284    111  copenhagen    30   hungarian       0       6217\n",
       "2         96    124     37  copenhagen    30   hungarian       0       6217\n",
       "3        865    277    107  copenhagen    30   hungarian       0       6217\n",
       "4         58    203     65  copenhagen    30   hungarian       0       6217\n",
       "..       ...    ...    ...         ...   ...         ...     ...        ...\n",
       "88       654    227      6     vilnius     9  lithuanian       1      92222\n",
       "89       881    188      8     vilnius     9  lithuanian       1      92222\n",
       "90       221     59      1     vilnius     9  lithuanian       1      92222\n",
       "91       887    136      8     vilnius     9  lithuanian       1      92222\n",
       "92       498    147      4     vilnius     9  lithuanian       1      92222\n",
       "\n",
       "[151711 rows x 8 columns]"
      ]
     },
     "execution_count": 158,
     "metadata": {},
     "output_type": "execute_result"
    }
   ],
   "source": [
    "pricing_requests"
   ]
  },
  {
   "cell_type": "code",
   "execution_count": 159,
   "metadata": {},
   "outputs": [],
   "source": [
    "pricing_requests.to_csv('./Datatrain/test_requete.csv')"
   ]
  },
  {
   "cell_type": "code",
   "execution_count": 160,
   "metadata": {
    "execution": {
     "iopub.execute_input": "2022-10-06T11:59:41.985831Z",
     "iopub.status.busy": "2022-10-06T11:59:41.985407Z",
     "iopub.status.idle": "2022-10-06T11:59:42.027564Z",
     "shell.execute_reply": "2022-10-06T11:59:42.026492Z"
    },
    "papermill": {
     "duration": 0.052663,
     "end_time": "2022-10-06T11:59:42.030016",
     "exception": false,
     "start_time": "2022-10-06T11:59:41.977353",
     "status": "completed"
    },
    "tags": []
   },
   "outputs": [
    {
     "data": {
      "text/html": [
       "<div>\n",
       "<style scoped>\n",
       "    .dataframe tbody tr th:only-of-type {\n",
       "        vertical-align: middle;\n",
       "    }\n",
       "\n",
       "    .dataframe tbody tr th {\n",
       "        vertical-align: top;\n",
       "    }\n",
       "\n",
       "    .dataframe thead th {\n",
       "        text-align: right;\n",
       "    }\n",
       "</style>\n",
       "<table border=\"1\" class=\"dataframe\">\n",
       "  <thead>\n",
       "    <tr style=\"text-align: right;\">\n",
       "      <th></th>\n",
       "      <th>hotel_id</th>\n",
       "      <th>price</th>\n",
       "      <th>stock</th>\n",
       "      <th>city</th>\n",
       "      <th>date</th>\n",
       "      <th>language</th>\n",
       "      <th>mobile</th>\n",
       "      <th>avatar_id</th>\n",
       "      <th>group</th>\n",
       "      <th>brand</th>\n",
       "      <th>parking</th>\n",
       "      <th>pool</th>\n",
       "      <th>children_policy</th>\n",
       "    </tr>\n",
       "  </thead>\n",
       "  <tbody>\n",
       "    <tr>\n",
       "      <td>0</td>\n",
       "      <td>556</td>\n",
       "      <td>175</td>\n",
       "      <td>60</td>\n",
       "      <td>copenhagen</td>\n",
       "      <td>30</td>\n",
       "      <td>hungarian</td>\n",
       "      <td>0</td>\n",
       "      <td>6217</td>\n",
       "      <td>Boss Western</td>\n",
       "      <td>J.Halliday Inn</td>\n",
       "      <td>1</td>\n",
       "      <td>0</td>\n",
       "      <td>0</td>\n",
       "    </tr>\n",
       "    <tr>\n",
       "      <td>1</td>\n",
       "      <td>664</td>\n",
       "      <td>284</td>\n",
       "      <td>111</td>\n",
       "      <td>copenhagen</td>\n",
       "      <td>30</td>\n",
       "      <td>hungarian</td>\n",
       "      <td>0</td>\n",
       "      <td>6217</td>\n",
       "      <td>Accar Hotels</td>\n",
       "      <td>Safitel</td>\n",
       "      <td>0</td>\n",
       "      <td>1</td>\n",
       "      <td>0</td>\n",
       "    </tr>\n",
       "    <tr>\n",
       "      <td>2</td>\n",
       "      <td>96</td>\n",
       "      <td>124</td>\n",
       "      <td>37</td>\n",
       "      <td>copenhagen</td>\n",
       "      <td>30</td>\n",
       "      <td>hungarian</td>\n",
       "      <td>0</td>\n",
       "      <td>6217</td>\n",
       "      <td>Boss Western</td>\n",
       "      <td>Boss Western</td>\n",
       "      <td>0</td>\n",
       "      <td>0</td>\n",
       "      <td>0</td>\n",
       "    </tr>\n",
       "    <tr>\n",
       "      <td>3</td>\n",
       "      <td>865</td>\n",
       "      <td>277</td>\n",
       "      <td>107</td>\n",
       "      <td>copenhagen</td>\n",
       "      <td>30</td>\n",
       "      <td>hungarian</td>\n",
       "      <td>0</td>\n",
       "      <td>6217</td>\n",
       "      <td>Chillton Worldwide</td>\n",
       "      <td>Chill Garden Inn</td>\n",
       "      <td>1</td>\n",
       "      <td>1</td>\n",
       "      <td>0</td>\n",
       "    </tr>\n",
       "    <tr>\n",
       "      <td>4</td>\n",
       "      <td>58</td>\n",
       "      <td>203</td>\n",
       "      <td>65</td>\n",
       "      <td>copenhagen</td>\n",
       "      <td>30</td>\n",
       "      <td>hungarian</td>\n",
       "      <td>0</td>\n",
       "      <td>6217</td>\n",
       "      <td>Yin Yang</td>\n",
       "      <td>Royal Lotus</td>\n",
       "      <td>1</td>\n",
       "      <td>0</td>\n",
       "      <td>2</td>\n",
       "    </tr>\n",
       "  </tbody>\n",
       "</table>\n",
       "</div>"
      ],
      "text/plain": [
       "   hotel_id  price  stock        city  date   language  mobile  avatar_id  \\\n",
       "0       556    175     60  copenhagen    30  hungarian       0       6217   \n",
       "1       664    284    111  copenhagen    30  hungarian       0       6217   \n",
       "2        96    124     37  copenhagen    30  hungarian       0       6217   \n",
       "3       865    277    107  copenhagen    30  hungarian       0       6217   \n",
       "4        58    203     65  copenhagen    30  hungarian       0       6217   \n",
       "\n",
       "                group             brand  parking  pool  children_policy  \n",
       "0        Boss Western    J.Halliday Inn        1     0                0  \n",
       "1        Accar Hotels           Safitel        0     1                0  \n",
       "2        Boss Western      Boss Western        0     0                0  \n",
       "3  Chillton Worldwide  Chill Garden Inn        1     1                0  \n",
       "4            Yin Yang       Royal Lotus        1     0                2  "
      ]
     },
     "execution_count": 160,
     "metadata": {},
     "output_type": "execute_result"
    }
   ],
   "source": [
    "hotels = pd.read_csv('features_hotels.csv', index_col=['hotel_id', 'city'])\n",
    "pricing_requests = pricing_requests.join(hotels, on=['hotel_id', 'city'])\n",
    "pricing_requests.head()"
   ]
  },
  {
   "cell_type": "code",
   "execution_count": 161,
   "metadata": {},
   "outputs": [],
   "source": [
    "pricing_requests.to_csv('./Datatrain/test_requete_features.csv')"
   ]
  },
  {
   "cell_type": "code",
   "execution_count": 116,
   "metadata": {
    "execution": {
     "iopub.execute_input": "2022-10-06T11:59:42.043357Z",
     "iopub.status.busy": "2022-10-06T11:59:42.042987Z",
     "iopub.status.idle": "2022-10-06T11:59:42.061602Z",
     "shell.execute_reply": "2022-10-06T11:59:42.060529Z"
    },
    "papermill": {
     "duration": 0.028018,
     "end_time": "2022-10-06T11:59:42.063852",
     "exception": false,
     "start_time": "2022-10-06T11:59:42.035834",
     "status": "completed"
    },
    "tags": []
   },
   "outputs": [],
   "source": [
    "# sample_submission = pd.read_csv('../input/defi-ia-2023/sample_submission.csv')\n",
    "# sample_submission.head()"
   ]
  },
  {
   "cell_type": "code",
   "execution_count": 117,
   "metadata": {
    "execution": {
     "iopub.execute_input": "2022-10-06T11:59:42.077543Z",
     "iopub.status.busy": "2022-10-06T11:59:42.077158Z",
     "iopub.status.idle": "2022-10-06T11:59:42.094916Z",
     "shell.execute_reply": "2022-10-06T11:59:42.093676Z"
    },
    "papermill": {
     "duration": 0.027487,
     "end_time": "2022-10-06T11:59:42.097411",
     "exception": false,
     "start_time": "2022-10-06T11:59:42.069924",
     "status": "completed"
    },
    "tags": []
   },
   "outputs": [],
   "source": [
    "# sample_submission.to_csv('submission.csv', index=False)"
   ]
  },
  {
   "cell_type": "code",
   "execution_count": null,
   "metadata": {},
   "outputs": [],
   "source": []
  }
 ],
 "metadata": {
  "kernelspec": {
   "display_name": "Python 3",
   "language": "python",
   "name": "python3"
  },
  "language_info": {
   "codemirror_mode": {
    "name": "ipython",
    "version": 3
   },
   "file_extension": ".py",
   "mimetype": "text/x-python",
   "name": "python",
   "nbconvert_exporter": "python",
   "pygments_lexer": "ipython3",
   "version": "3.7.4"
  },
  "papermill": {
   "default_parameters": {},
   "duration": 11.143049,
   "end_time": "2022-10-06T11:59:42.724449",
   "environment_variables": {},
   "exception": null,
   "input_path": "__notebook__.ipynb",
   "output_path": "__notebook__.ipynb",
   "parameters": {},
   "start_time": "2022-10-06T11:59:31.581400",
   "version": "2.3.4"
  }
 },
 "nbformat": 4,
 "nbformat_minor": 5
}
