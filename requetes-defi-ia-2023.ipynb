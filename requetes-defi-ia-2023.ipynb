{
 "cells": [
  {
   "cell_type": "markdown",
   "id": "a9e26064",
   "metadata": {
    "papermill": {
     "duration": 0.005474,
     "end_time": "2022-10-06T11:59:40.379015",
     "exception": false,
     "start_time": "2022-10-06T11:59:40.373541",
     "status": "completed"
    },
    "tags": []
   },
   "source": [
    "# Tutoriel d'usage de l'API"
   ]
  },
  {
   "cell_type": "code",
   "execution_count": 1,
   "id": "51f47e17",
   "metadata": {
    "execution": {
     "iopub.execute_input": "2022-10-06T11:59:40.390301Z",
     "iopub.status.busy": "2022-10-06T11:59:40.389682Z",
     "iopub.status.idle": "2022-10-06T11:59:40.402447Z",
     "shell.execute_reply": "2022-10-06T11:59:40.401632Z"
    },
    "papermill": {
     "duration": 0.021302,
     "end_time": "2022-10-06T11:59:40.404818",
     "exception": false,
     "start_time": "2022-10-06T11:59:40.383516",
     "status": "completed"
    },
    "tags": []
   },
   "outputs": [],
   "source": [
    "import urllib.parse\n",
    "\n",
    "domain = \"51.91.251.0\"\n",
    "port = 3000\n",
    "host = f\"http://{domain}:{port}\"\n",
    "path = lambda x: urllib.parse.urljoin(host, x)"
   ]
  },
  {
   "cell_type": "code",
   "execution_count": 2,
   "id": "aecfd499",
   "metadata": {},
   "outputs": [],
   "source": [
    "import numpy as np "
   ]
  },
  {
   "cell_type": "code",
   "execution_count": 23,
   "id": "a55c6729",
   "metadata": {},
   "outputs": [
    {
     "ename": "SyntaxError",
     "evalue": "invalid syntax (Temp/ipykernel_14288/3564080021.py, line 1)",
     "output_type": "error",
     "traceback": [
      "\u001b[1;36m  File \u001b[1;32m\"C:\\Users\\Alex\\AppData\\Local\\Temp/ipykernel_14288/3564080021.py\"\u001b[1;36m, line \u001b[1;32m1\u001b[0m\n\u001b[1;33m    http://51.91.251.0:3000/remaining-requests/'12e1e6fc-456b-4738-ba59-b90c3386f583'\u001b[0m\n\u001b[1;37m         ^\u001b[0m\n\u001b[1;31mSyntaxError\u001b[0m\u001b[1;31m:\u001b[0m invalid syntax\n"
     ]
    }
   ],
   "source": [
    "http://51.91.251.0:3000/remaining-requests/'12e1e6fc-456b-4738-ba59-b90c3386f583'"
   ]
  },
  {
   "cell_type": "markdown",
   "id": "5fc7f5cd",
   "metadata": {
    "papermill": {
     "duration": 0.003988,
     "end_time": "2022-10-06T11:59:40.413193",
     "exception": false,
     "start_time": "2022-10-06T11:59:40.409205",
     "status": "completed"
    },
    "tags": []
   },
   "source": [
    "## Creating an avatar"
   ]
  },
  {
   "cell_type": "markdown",
   "id": "6ef2f9dc",
   "metadata": {
    "papermill": {
     "duration": 0.004024,
     "end_time": "2022-10-06T11:59:40.421441",
     "exception": false,
     "start_time": "2022-10-06T11:59:40.417417",
     "status": "completed"
    },
    "tags": []
   },
   "source": [
    "The admin of the competition can create users. A user can then create as many avatars as they wish."
   ]
  },
  {
   "cell_type": "code",
   "execution_count": 97,
   "id": "f1910a51",
   "metadata": {
    "execution": {
     "iopub.execute_input": "2022-10-06T11:59:40.432149Z",
     "iopub.status.busy": "2022-10-06T11:59:40.431498Z",
     "iopub.status.idle": "2022-10-06T11:59:40.654576Z",
     "shell.execute_reply": "2022-10-06T11:59:40.652630Z"
    },
    "papermill": {
     "duration": 0.23497,
     "end_time": "2022-10-06T11:59:40.660791",
     "exception": false,
     "start_time": "2022-10-06T11:59:40.425821",
     "status": "completed"
    },
    "tags": []
   },
   "outputs": [
    {
     "data": {
      "text/plain": [
       "<Response [200]>"
      ]
     },
     "execution_count": 97,
     "metadata": {},
     "output_type": "execute_result"
    }
   ],
   "source": [
    "import requests\n",
    "\n",
    "user_id = '12e1e6fc-456b-4738-ba59-b90c3386f583'\n",
    "name = 'ema-polish2-avatar'\n",
    "r = requests.post(path(f'avatars/{user_id}/{name}'))\n",
    "r"
   ]
  },
  {
   "cell_type": "code",
   "execution_count": 98,
   "id": "a68f476f",
   "metadata": {
    "execution": {
     "iopub.execute_input": "2022-10-06T11:59:40.673570Z",
     "iopub.status.busy": "2022-10-06T11:59:40.672368Z",
     "iopub.status.idle": "2022-10-06T11:59:40.883155Z",
     "shell.execute_reply": "2022-10-06T11:59:40.881934Z"
    },
    "papermill": {
     "duration": 0.219214,
     "end_time": "2022-10-06T11:59:40.885475",
     "exception": false,
     "start_time": "2022-10-06T11:59:40.666261",
     "status": "completed"
    },
    "tags": []
   },
   "outputs": [],
   "source": [
    "# name = 'max-second-avatar'\n",
    "# r = requests.post(path(f\"avatars/{user_id}/{name}\"))\n",
    "# r"
   ]
  },
  {
   "cell_type": "code",
   "execution_count": 99,
   "id": "30e4f047",
   "metadata": {
    "execution": {
     "iopub.execute_input": "2022-10-06T11:59:40.896525Z",
     "iopub.status.busy": "2022-10-06T11:59:40.895549Z",
     "iopub.status.idle": "2022-10-06T11:59:41.102485Z",
     "shell.execute_reply": "2022-10-06T11:59:41.101223Z"
    },
    "papermill": {
     "duration": 0.215119,
     "end_time": "2022-10-06T11:59:41.105182",
     "exception": false,
     "start_time": "2022-10-06T11:59:40.890063",
     "status": "completed"
    },
    "tags": []
   },
   "outputs": [
    {
     "name": "stdout",
     "output_type": "stream",
     "text": [
      "6217 ema-first-avatar\n",
      "34250 ema-austrian1-avatar\n",
      "34256 ema-belgian1-avatar\n",
      "34257 ema-bulgarian1-avatar\n",
      "34258 ema-croatian1-avatar\n",
      "34305 ema-german1-avatar\n",
      "34259 ema-cypriot1-avatar\n",
      "34260 ema-czech1-avatar\n",
      "34264 ema-finnish1-avatar\n",
      "34265 ema-french1-avatar\n",
      "34261 ema-danish1-avatar\n",
      "34262 ema-dutch1-avatar\n",
      "34263 ema-estanian1-avatar\n",
      "34429 ema-greek1-avatar\n",
      "34457 ema-irish1-avatar\n",
      "34455 ema-hungarian2-avatar\n",
      "34456 ema-hungarian3-avatar\n",
      "34458 ema-italian1-avatar\n",
      "35123 ema-belgian3-avatar\n",
      "37849 ema-luxembourgish1-avatar\n",
      "38438 ema-luxembourgish2-avatar\n",
      "73369 ema-maltese1-avatar\n",
      "73371 ema-polish2-avatar\n",
      "73370 ema-polish1-avatar\n"
     ]
    }
   ],
   "source": [
    "r = requests.get(path(f\"avatars/{user_id}\"))\n",
    "for avatar in r.json():\n",
    "    print(avatar['id'], avatar['name'])"
   ]
  },
  {
   "cell_type": "markdown",
   "id": "b4ccba9b",
   "metadata": {
    "papermill": {
     "duration": 0.004317,
     "end_time": "2022-10-06T11:59:41.114227",
     "exception": false,
     "start_time": "2022-10-06T11:59:41.109910",
     "status": "completed"
    },
    "tags": []
   },
   "source": [
    "## Making pricing requests"
   ]
  },
  {
   "cell_type": "code",
   "execution_count": 100,
   "id": "9efabd0f",
   "metadata": {},
   "outputs": [],
   "source": [
    "language_list=['austrian', 'belgian', 'bulgarian', 'croatian', 'cypriot', 'czech', 'danish', 'dutch', 'estonian', 'finnish', 'french', 'german', 'greek', 'hungarian', 'irish', 'italian', 'latvian', 'lithuanian', 'luxembourgish', 'maltese', 'polish', 'portuguese', 'romanian', 'slovakian', 'slovene', 'spanish' ,'swedish']\n",
    "\n",
    "city_list=['amsterdam', 'copenhagen', 'madrid', 'paris', 'rome', 'sofia', 'valletta', 'vienna','vilnius']\n",
    "\n",
    "date_list=list(np.arange(1,45,1))"
   ]
  },
  {
   "cell_type": "code",
   "execution_count": 101,
   "id": "21cbff88",
   "metadata": {},
   "outputs": [],
   "source": [
    "## A modifier logiquement selon dates souhaitées\n",
    "\n",
    "date_list_soon=[2,4,5]\n",
    "\n",
    "date_list_middle=[9,11,13,14]\n",
    "\n",
    "date_list_away=[35,37,40,41]\n",
    "\n"
   ]
  },
  {
   "cell_type": "code",
   "execution_count": 103,
   "id": "a06f7bd8",
   "metadata": {},
   "outputs": [],
   "source": [
    "language_test='polish'\n",
    "avatar_test='ema-polish2-avatar'\n",
    "date_test=date_list_away"
   ]
  },
  {
   "cell_type": "code",
   "execution_count": 104,
   "id": "88362b05",
   "metadata": {},
   "outputs": [
    {
     "name": "stdout",
     "output_type": "stream",
     "text": [
      "ema-polish2-avatar polish [35, 37, 40, 41]\n"
     ]
    }
   ],
   "source": [
    "print(avatar_test, language_test,date_test)"
   ]
  },
  {
   "cell_type": "code",
   "execution_count": 105,
   "id": "67c917f0",
   "metadata": {},
   "outputs": [],
   "source": [
    "requests_list=[]\n",
    "\n",
    "for date in reversed(date_test) : \n",
    "    for city in city_list : \n",
    "        params = {\n",
    "            \"avatar_name\": avatar_test,\n",
    "            \"language\": language_test,\n",
    "            \"city\": city,\n",
    "            \"date\": date,\n",
    "            \"mobile\": np.random.randint(0,2),\n",
    "        }\n",
    "        r = requests.get(path(f\"pricing/{user_id}\"), params=params)\n",
    "        r.json()\n",
    "        \n",
    "        requests_list.append(r)\n",
    "       "
   ]
  },
  {
   "cell_type": "markdown",
   "id": "266f7d0a",
   "metadata": {
    "papermill": {
     "duration": 0.004871,
     "end_time": "2022-10-06T11:59:41.890316",
     "exception": false,
     "start_time": "2022-10-06T11:59:41.885445",
     "status": "completed"
    },
    "tags": []
   },
   "source": [
    "## Build a training set"
   ]
  },
  {
   "cell_type": "code",
   "execution_count": 106,
   "id": "d4e28faa",
   "metadata": {},
   "outputs": [
    {
     "data": {
      "text/html": [
       "<div>\n",
       "<style scoped>\n",
       "    .dataframe tbody tr th:only-of-type {\n",
       "        vertical-align: middle;\n",
       "    }\n",
       "\n",
       "    .dataframe tbody tr th {\n",
       "        vertical-align: top;\n",
       "    }\n",
       "\n",
       "    .dataframe thead th {\n",
       "        text-align: right;\n",
       "    }\n",
       "</style>\n",
       "<table border=\"1\" class=\"dataframe\">\n",
       "  <thead>\n",
       "    <tr style=\"text-align: right;\">\n",
       "      <th></th>\n",
       "      <th>hotel_id</th>\n",
       "      <th>price</th>\n",
       "      <th>stock</th>\n",
       "      <th>city</th>\n",
       "      <th>date</th>\n",
       "      <th>language</th>\n",
       "      <th>mobile</th>\n",
       "      <th>avatar_id</th>\n",
       "    </tr>\n",
       "  </thead>\n",
       "  <tbody>\n",
       "    <tr>\n",
       "      <th>0</th>\n",
       "      <td>724</td>\n",
       "      <td>226</td>\n",
       "      <td>229</td>\n",
       "      <td>amsterdam</td>\n",
       "      <td>41</td>\n",
       "      <td>polish</td>\n",
       "      <td>0</td>\n",
       "      <td>73371</td>\n",
       "    </tr>\n",
       "    <tr>\n",
       "      <th>1</th>\n",
       "      <td>450</td>\n",
       "      <td>166</td>\n",
       "      <td>167</td>\n",
       "      <td>amsterdam</td>\n",
       "      <td>41</td>\n",
       "      <td>polish</td>\n",
       "      <td>0</td>\n",
       "      <td>73371</td>\n",
       "    </tr>\n",
       "    <tr>\n",
       "      <th>2</th>\n",
       "      <td>303</td>\n",
       "      <td>169</td>\n",
       "      <td>166</td>\n",
       "      <td>amsterdam</td>\n",
       "      <td>41</td>\n",
       "      <td>polish</td>\n",
       "      <td>0</td>\n",
       "      <td>73371</td>\n",
       "    </tr>\n",
       "    <tr>\n",
       "      <th>3</th>\n",
       "      <td>750</td>\n",
       "      <td>101</td>\n",
       "      <td>46</td>\n",
       "      <td>amsterdam</td>\n",
       "      <td>41</td>\n",
       "      <td>polish</td>\n",
       "      <td>0</td>\n",
       "      <td>73371</td>\n",
       "    </tr>\n",
       "    <tr>\n",
       "      <th>4</th>\n",
       "      <td>752</td>\n",
       "      <td>236</td>\n",
       "      <td>238</td>\n",
       "      <td>amsterdam</td>\n",
       "      <td>41</td>\n",
       "      <td>polish</td>\n",
       "      <td>0</td>\n",
       "      <td>73371</td>\n",
       "    </tr>\n",
       "  </tbody>\n",
       "</table>\n",
       "</div>"
      ],
      "text/plain": [
       "   hotel_id  price  stock       city  date language  mobile  avatar_id\n",
       "0       724    226    229  amsterdam    41   polish       0      73371\n",
       "1       450    166    167  amsterdam    41   polish       0      73371\n",
       "2       303    169    166  amsterdam    41   polish       0      73371\n",
       "3       750    101     46  amsterdam    41   polish       0      73371\n",
       "4       752    236    238  amsterdam    41   polish       0      73371"
      ]
     },
     "execution_count": 106,
     "metadata": {},
     "output_type": "execute_result"
    }
   ],
   "source": [
    "import pandas as pd\n",
    "\n",
    "pricing_requests = []\n",
    "\n",
    "for r in requests_list:\n",
    "    pricing_requests.append(\n",
    "        pd.DataFrame(r.json()['prices']).assign(**r.json()['request'])\n",
    "    )\n",
    "\n",
    "pricing_requests = pd.concat(pricing_requests)\n",
    "pricing_requests.head()"
   ]
  },
  {
   "cell_type": "code",
   "execution_count": 107,
   "id": "acb78fcd",
   "metadata": {},
   "outputs": [
    {
     "data": {
      "text/plain": [
       "3794"
      ]
     },
     "execution_count": 107,
     "metadata": {},
     "output_type": "execute_result"
    }
   ],
   "source": [
    "len(pricing_requests)"
   ]
  },
  {
   "cell_type": "code",
   "execution_count": 108,
   "id": "28072c76",
   "metadata": {
    "scrolled": true
   },
   "outputs": [],
   "source": [
    "# print(pricing_requests[ pricing_requests['mobile'] == 0])"
   ]
  },
  {
   "cell_type": "code",
   "execution_count": 109,
   "id": "a0d669fd",
   "metadata": {},
   "outputs": [],
   "source": [
    "data=pd.read_csv('./Datatrain/test_requete.csv')"
   ]
  },
  {
   "cell_type": "code",
   "execution_count": 110,
   "id": "bc9b8fe8",
   "metadata": {},
   "outputs": [],
   "source": [
    "data=data.drop(['Unnamed: 0'],axis=1)"
   ]
  },
  {
   "cell_type": "code",
   "execution_count": 111,
   "id": "3a38c838",
   "metadata": {},
   "outputs": [],
   "source": [
    "pricing_requests=pd.concat([data,pricing_requests])"
   ]
  },
  {
   "cell_type": "code",
   "execution_count": 112,
   "id": "9a505d13",
   "metadata": {},
   "outputs": [
    {
     "data": {
      "text/html": [
       "<div>\n",
       "<style scoped>\n",
       "    .dataframe tbody tr th:only-of-type {\n",
       "        vertical-align: middle;\n",
       "    }\n",
       "\n",
       "    .dataframe tbody tr th {\n",
       "        vertical-align: top;\n",
       "    }\n",
       "\n",
       "    .dataframe thead th {\n",
       "        text-align: right;\n",
       "    }\n",
       "</style>\n",
       "<table border=\"1\" class=\"dataframe\">\n",
       "  <thead>\n",
       "    <tr style=\"text-align: right;\">\n",
       "      <th></th>\n",
       "      <th>hotel_id</th>\n",
       "      <th>price</th>\n",
       "      <th>stock</th>\n",
       "      <th>city</th>\n",
       "      <th>date</th>\n",
       "      <th>language</th>\n",
       "      <th>mobile</th>\n",
       "      <th>avatar_id</th>\n",
       "    </tr>\n",
       "  </thead>\n",
       "  <tbody>\n",
       "    <tr>\n",
       "      <th>0</th>\n",
       "      <td>556</td>\n",
       "      <td>175</td>\n",
       "      <td>60</td>\n",
       "      <td>copenhagen</td>\n",
       "      <td>30</td>\n",
       "      <td>hungarian</td>\n",
       "      <td>0</td>\n",
       "      <td>6217</td>\n",
       "    </tr>\n",
       "    <tr>\n",
       "      <th>1</th>\n",
       "      <td>664</td>\n",
       "      <td>284</td>\n",
       "      <td>111</td>\n",
       "      <td>copenhagen</td>\n",
       "      <td>30</td>\n",
       "      <td>hungarian</td>\n",
       "      <td>0</td>\n",
       "      <td>6217</td>\n",
       "    </tr>\n",
       "    <tr>\n",
       "      <th>2</th>\n",
       "      <td>96</td>\n",
       "      <td>124</td>\n",
       "      <td>37</td>\n",
       "      <td>copenhagen</td>\n",
       "      <td>30</td>\n",
       "      <td>hungarian</td>\n",
       "      <td>0</td>\n",
       "      <td>6217</td>\n",
       "    </tr>\n",
       "    <tr>\n",
       "      <th>3</th>\n",
       "      <td>865</td>\n",
       "      <td>277</td>\n",
       "      <td>107</td>\n",
       "      <td>copenhagen</td>\n",
       "      <td>30</td>\n",
       "      <td>hungarian</td>\n",
       "      <td>0</td>\n",
       "      <td>6217</td>\n",
       "    </tr>\n",
       "    <tr>\n",
       "      <th>4</th>\n",
       "      <td>58</td>\n",
       "      <td>203</td>\n",
       "      <td>65</td>\n",
       "      <td>copenhagen</td>\n",
       "      <td>30</td>\n",
       "      <td>hungarian</td>\n",
       "      <td>0</td>\n",
       "      <td>6217</td>\n",
       "    </tr>\n",
       "    <tr>\n",
       "      <th>...</th>\n",
       "      <td>...</td>\n",
       "      <td>...</td>\n",
       "      <td>...</td>\n",
       "      <td>...</td>\n",
       "      <td>...</td>\n",
       "      <td>...</td>\n",
       "      <td>...</td>\n",
       "      <td>...</td>\n",
       "    </tr>\n",
       "    <tr>\n",
       "      <th>81</th>\n",
       "      <td>794</td>\n",
       "      <td>211</td>\n",
       "      <td>155</td>\n",
       "      <td>vilnius</td>\n",
       "      <td>35</td>\n",
       "      <td>polish</td>\n",
       "      <td>1</td>\n",
       "      <td>73371</td>\n",
       "    </tr>\n",
       "    <tr>\n",
       "      <th>82</th>\n",
       "      <td>204</td>\n",
       "      <td>58</td>\n",
       "      <td>33</td>\n",
       "      <td>vilnius</td>\n",
       "      <td>35</td>\n",
       "      <td>polish</td>\n",
       "      <td>1</td>\n",
       "      <td>73371</td>\n",
       "    </tr>\n",
       "    <tr>\n",
       "      <th>83</th>\n",
       "      <td>765</td>\n",
       "      <td>61</td>\n",
       "      <td>35</td>\n",
       "      <td>vilnius</td>\n",
       "      <td>35</td>\n",
       "      <td>polish</td>\n",
       "      <td>1</td>\n",
       "      <td>73371</td>\n",
       "    </tr>\n",
       "    <tr>\n",
       "      <th>84</th>\n",
       "      <td>451</td>\n",
       "      <td>110</td>\n",
       "      <td>85</td>\n",
       "      <td>vilnius</td>\n",
       "      <td>35</td>\n",
       "      <td>polish</td>\n",
       "      <td>1</td>\n",
       "      <td>73371</td>\n",
       "    </tr>\n",
       "    <tr>\n",
       "      <th>85</th>\n",
       "      <td>59</td>\n",
       "      <td>112</td>\n",
       "      <td>80</td>\n",
       "      <td>vilnius</td>\n",
       "      <td>35</td>\n",
       "      <td>polish</td>\n",
       "      <td>1</td>\n",
       "      <td>73371</td>\n",
       "    </tr>\n",
       "  </tbody>\n",
       "</table>\n",
       "<p>112375 rows × 8 columns</p>\n",
       "</div>"
      ],
      "text/plain": [
       "    hotel_id  price  stock        city  date   language  mobile  avatar_id\n",
       "0        556    175     60  copenhagen    30  hungarian       0       6217\n",
       "1        664    284    111  copenhagen    30  hungarian       0       6217\n",
       "2         96    124     37  copenhagen    30  hungarian       0       6217\n",
       "3        865    277    107  copenhagen    30  hungarian       0       6217\n",
       "4         58    203     65  copenhagen    30  hungarian       0       6217\n",
       "..       ...    ...    ...         ...   ...        ...     ...        ...\n",
       "81       794    211    155     vilnius    35     polish       1      73371\n",
       "82       204     58     33     vilnius    35     polish       1      73371\n",
       "83       765     61     35     vilnius    35     polish       1      73371\n",
       "84       451    110     85     vilnius    35     polish       1      73371\n",
       "85        59    112     80     vilnius    35     polish       1      73371\n",
       "\n",
       "[112375 rows x 8 columns]"
      ]
     },
     "execution_count": 112,
     "metadata": {},
     "output_type": "execute_result"
    }
   ],
   "source": [
    "pricing_requests"
   ]
  },
  {
   "cell_type": "code",
   "execution_count": 113,
   "id": "c526bd0a",
   "metadata": {},
   "outputs": [],
   "source": [
    "pricing_requests.to_csv('./Datatrain/test_requete.csv')"
   ]
  },
  {
   "cell_type": "code",
   "execution_count": 114,
   "id": "d80db591",
   "metadata": {
    "execution": {
     "iopub.execute_input": "2022-10-06T11:59:41.985831Z",
     "iopub.status.busy": "2022-10-06T11:59:41.985407Z",
     "iopub.status.idle": "2022-10-06T11:59:42.027564Z",
     "shell.execute_reply": "2022-10-06T11:59:42.026492Z"
    },
    "papermill": {
     "duration": 0.052663,
     "end_time": "2022-10-06T11:59:42.030016",
     "exception": false,
     "start_time": "2022-10-06T11:59:41.977353",
     "status": "completed"
    },
    "tags": []
   },
   "outputs": [
    {
     "data": {
      "text/html": [
       "<div>\n",
       "<style scoped>\n",
       "    .dataframe tbody tr th:only-of-type {\n",
       "        vertical-align: middle;\n",
       "    }\n",
       "\n",
       "    .dataframe tbody tr th {\n",
       "        vertical-align: top;\n",
       "    }\n",
       "\n",
       "    .dataframe thead th {\n",
       "        text-align: right;\n",
       "    }\n",
       "</style>\n",
       "<table border=\"1\" class=\"dataframe\">\n",
       "  <thead>\n",
       "    <tr style=\"text-align: right;\">\n",
       "      <th></th>\n",
       "      <th>hotel_id</th>\n",
       "      <th>price</th>\n",
       "      <th>stock</th>\n",
       "      <th>city</th>\n",
       "      <th>date</th>\n",
       "      <th>language</th>\n",
       "      <th>mobile</th>\n",
       "      <th>avatar_id</th>\n",
       "      <th>group</th>\n",
       "      <th>brand</th>\n",
       "      <th>parking</th>\n",
       "      <th>pool</th>\n",
       "      <th>children_policy</th>\n",
       "    </tr>\n",
       "  </thead>\n",
       "  <tbody>\n",
       "    <tr>\n",
       "      <th>0</th>\n",
       "      <td>556</td>\n",
       "      <td>175</td>\n",
       "      <td>60</td>\n",
       "      <td>copenhagen</td>\n",
       "      <td>30</td>\n",
       "      <td>hungarian</td>\n",
       "      <td>0</td>\n",
       "      <td>6217</td>\n",
       "      <td>Boss Western</td>\n",
       "      <td>J.Halliday Inn</td>\n",
       "      <td>1</td>\n",
       "      <td>0</td>\n",
       "      <td>0</td>\n",
       "    </tr>\n",
       "    <tr>\n",
       "      <th>1</th>\n",
       "      <td>664</td>\n",
       "      <td>284</td>\n",
       "      <td>111</td>\n",
       "      <td>copenhagen</td>\n",
       "      <td>30</td>\n",
       "      <td>hungarian</td>\n",
       "      <td>0</td>\n",
       "      <td>6217</td>\n",
       "      <td>Accar Hotels</td>\n",
       "      <td>Safitel</td>\n",
       "      <td>0</td>\n",
       "      <td>1</td>\n",
       "      <td>0</td>\n",
       "    </tr>\n",
       "    <tr>\n",
       "      <th>2</th>\n",
       "      <td>96</td>\n",
       "      <td>124</td>\n",
       "      <td>37</td>\n",
       "      <td>copenhagen</td>\n",
       "      <td>30</td>\n",
       "      <td>hungarian</td>\n",
       "      <td>0</td>\n",
       "      <td>6217</td>\n",
       "      <td>Boss Western</td>\n",
       "      <td>Boss Western</td>\n",
       "      <td>0</td>\n",
       "      <td>0</td>\n",
       "      <td>0</td>\n",
       "    </tr>\n",
       "    <tr>\n",
       "      <th>3</th>\n",
       "      <td>865</td>\n",
       "      <td>277</td>\n",
       "      <td>107</td>\n",
       "      <td>copenhagen</td>\n",
       "      <td>30</td>\n",
       "      <td>hungarian</td>\n",
       "      <td>0</td>\n",
       "      <td>6217</td>\n",
       "      <td>Chillton Worldwide</td>\n",
       "      <td>Chill Garden Inn</td>\n",
       "      <td>1</td>\n",
       "      <td>1</td>\n",
       "      <td>0</td>\n",
       "    </tr>\n",
       "    <tr>\n",
       "      <th>4</th>\n",
       "      <td>58</td>\n",
       "      <td>203</td>\n",
       "      <td>65</td>\n",
       "      <td>copenhagen</td>\n",
       "      <td>30</td>\n",
       "      <td>hungarian</td>\n",
       "      <td>0</td>\n",
       "      <td>6217</td>\n",
       "      <td>Yin Yang</td>\n",
       "      <td>Royal Lotus</td>\n",
       "      <td>1</td>\n",
       "      <td>0</td>\n",
       "      <td>2</td>\n",
       "    </tr>\n",
       "  </tbody>\n",
       "</table>\n",
       "</div>"
      ],
      "text/plain": [
       "   hotel_id  price  stock        city  date   language  mobile  avatar_id  \\\n",
       "0       556    175     60  copenhagen    30  hungarian       0       6217   \n",
       "1       664    284    111  copenhagen    30  hungarian       0       6217   \n",
       "2        96    124     37  copenhagen    30  hungarian       0       6217   \n",
       "3       865    277    107  copenhagen    30  hungarian       0       6217   \n",
       "4        58    203     65  copenhagen    30  hungarian       0       6217   \n",
       "\n",
       "                group             brand  parking  pool  children_policy  \n",
       "0        Boss Western    J.Halliday Inn        1     0                0  \n",
       "1        Accar Hotels           Safitel        0     1                0  \n",
       "2        Boss Western      Boss Western        0     0                0  \n",
       "3  Chillton Worldwide  Chill Garden Inn        1     1                0  \n",
       "4            Yin Yang       Royal Lotus        1     0                2  "
      ]
     },
     "execution_count": 114,
     "metadata": {},
     "output_type": "execute_result"
    }
   ],
   "source": [
    "hotels = pd.read_csv('features_hotels.csv', index_col=['hotel_id', 'city'])\n",
    "pricing_requests = pricing_requests.join(hotels, on=['hotel_id', 'city'])\n",
    "pricing_requests.head()"
   ]
  },
  {
   "cell_type": "code",
   "execution_count": 115,
   "id": "91630612",
   "metadata": {},
   "outputs": [],
   "source": [
    "pricing_requests.to_csv('./Datatrain/test_requete_features.csv')"
   ]
  },
  {
   "cell_type": "code",
   "execution_count": 116,
   "id": "1ecdf1d5",
   "metadata": {
    "execution": {
     "iopub.execute_input": "2022-10-06T11:59:42.043357Z",
     "iopub.status.busy": "2022-10-06T11:59:42.042987Z",
     "iopub.status.idle": "2022-10-06T11:59:42.061602Z",
     "shell.execute_reply": "2022-10-06T11:59:42.060529Z"
    },
    "papermill": {
     "duration": 0.028018,
     "end_time": "2022-10-06T11:59:42.063852",
     "exception": false,
     "start_time": "2022-10-06T11:59:42.035834",
     "status": "completed"
    },
    "tags": []
   },
   "outputs": [],
   "source": [
    "# sample_submission = pd.read_csv('../input/defi-ia-2023/sample_submission.csv')\n",
    "# sample_submission.head()"
   ]
  },
  {
   "cell_type": "code",
   "execution_count": 117,
   "id": "7566344f",
   "metadata": {
    "execution": {
     "iopub.execute_input": "2022-10-06T11:59:42.077543Z",
     "iopub.status.busy": "2022-10-06T11:59:42.077158Z",
     "iopub.status.idle": "2022-10-06T11:59:42.094916Z",
     "shell.execute_reply": "2022-10-06T11:59:42.093676Z"
    },
    "papermill": {
     "duration": 0.027487,
     "end_time": "2022-10-06T11:59:42.097411",
     "exception": false,
     "start_time": "2022-10-06T11:59:42.069924",
     "status": "completed"
    },
    "tags": []
   },
   "outputs": [],
   "source": [
    "# sample_submission.to_csv('submission.csv', index=False)"
   ]
  },
  {
   "cell_type": "code",
   "execution_count": null,
   "id": "44a98ccf",
   "metadata": {},
   "outputs": [],
   "source": []
  }
 ],
 "metadata": {
  "kernelspec": {
   "display_name": "Python 3 (ipykernel)",
   "language": "python",
   "name": "python3"
  },
  "language_info": {
   "codemirror_mode": {
    "name": "ipython",
    "version": 3
   },
   "file_extension": ".py",
   "mimetype": "text/x-python",
   "name": "python",
   "nbconvert_exporter": "python",
   "pygments_lexer": "ipython3",
   "version": "3.9.7"
  },
  "papermill": {
   "default_parameters": {},
   "duration": 11.143049,
   "end_time": "2022-10-06T11:59:42.724449",
   "environment_variables": {},
   "exception": null,
   "input_path": "__notebook__.ipynb",
   "output_path": "__notebook__.ipynb",
   "parameters": {},
   "start_time": "2022-10-06T11:59:31.581400",
   "version": "2.3.4"
  }
 },
 "nbformat": 4,
 "nbformat_minor": 5
}
