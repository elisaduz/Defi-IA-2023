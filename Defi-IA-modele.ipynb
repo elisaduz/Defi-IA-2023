{
 "cells": [
  {
   "cell_type": "code",
   "execution_count": 1,
   "metadata": {},
   "outputs": [],
   "source": [
    "import pandas as pd\n",
    "import numpy as np\n",
    "import matplotlib.pyplot as plt \n",
    "import seaborn as sns\n",
    "from math import sqrt, log\n",
    "from pandas.plotting import scatter_matrix\n",
    "import warnings\n",
    "warnings.filterwarnings('ignore')"
   ]
  },
  {
   "cell_type": "markdown",
   "metadata": {},
   "source": [
    "## Chargement des données"
   ]
  },
  {
   "cell_type": "code",
   "execution_count": 2,
   "metadata": {},
   "outputs": [
    {
     "data": {
      "text/html": [
       "<div>\n",
       "<style scoped>\n",
       "    .dataframe tbody tr th:only-of-type {\n",
       "        vertical-align: middle;\n",
       "    }\n",
       "\n",
       "    .dataframe tbody tr th {\n",
       "        vertical-align: top;\n",
       "    }\n",
       "\n",
       "    .dataframe thead th {\n",
       "        text-align: right;\n",
       "    }\n",
       "</style>\n",
       "<table border=\"1\" class=\"dataframe\">\n",
       "  <thead>\n",
       "    <tr style=\"text-align: right;\">\n",
       "      <th></th>\n",
       "      <th>hotel_id</th>\n",
       "      <th>price</th>\n",
       "      <th>stock</th>\n",
       "      <th>city</th>\n",
       "      <th>date</th>\n",
       "      <th>language</th>\n",
       "      <th>mobile</th>\n",
       "      <th>avatar_id</th>\n",
       "      <th>group</th>\n",
       "      <th>brand</th>\n",
       "      <th>parking</th>\n",
       "      <th>pool</th>\n",
       "      <th>children_policy</th>\n",
       "    </tr>\n",
       "  </thead>\n",
       "  <tbody>\n",
       "    <tr>\n",
       "      <th>0</th>\n",
       "      <td>556</td>\n",
       "      <td>175</td>\n",
       "      <td>60</td>\n",
       "      <td>copenhagen</td>\n",
       "      <td>30</td>\n",
       "      <td>hungarian</td>\n",
       "      <td>0</td>\n",
       "      <td>6217</td>\n",
       "      <td>Boss Western</td>\n",
       "      <td>J.Halliday Inn</td>\n",
       "      <td>1</td>\n",
       "      <td>0</td>\n",
       "      <td>0</td>\n",
       "    </tr>\n",
       "    <tr>\n",
       "      <th>1</th>\n",
       "      <td>664</td>\n",
       "      <td>284</td>\n",
       "      <td>111</td>\n",
       "      <td>copenhagen</td>\n",
       "      <td>30</td>\n",
       "      <td>hungarian</td>\n",
       "      <td>0</td>\n",
       "      <td>6217</td>\n",
       "      <td>Accar Hotels</td>\n",
       "      <td>Safitel</td>\n",
       "      <td>0</td>\n",
       "      <td>1</td>\n",
       "      <td>0</td>\n",
       "    </tr>\n",
       "    <tr>\n",
       "      <th>2</th>\n",
       "      <td>96</td>\n",
       "      <td>124</td>\n",
       "      <td>37</td>\n",
       "      <td>copenhagen</td>\n",
       "      <td>30</td>\n",
       "      <td>hungarian</td>\n",
       "      <td>0</td>\n",
       "      <td>6217</td>\n",
       "      <td>Boss Western</td>\n",
       "      <td>Boss Western</td>\n",
       "      <td>0</td>\n",
       "      <td>0</td>\n",
       "      <td>0</td>\n",
       "    </tr>\n",
       "    <tr>\n",
       "      <th>3</th>\n",
       "      <td>865</td>\n",
       "      <td>277</td>\n",
       "      <td>107</td>\n",
       "      <td>copenhagen</td>\n",
       "      <td>30</td>\n",
       "      <td>hungarian</td>\n",
       "      <td>0</td>\n",
       "      <td>6217</td>\n",
       "      <td>Chillton Worldwide</td>\n",
       "      <td>Chill Garden Inn</td>\n",
       "      <td>1</td>\n",
       "      <td>1</td>\n",
       "      <td>0</td>\n",
       "    </tr>\n",
       "    <tr>\n",
       "      <th>4</th>\n",
       "      <td>58</td>\n",
       "      <td>203</td>\n",
       "      <td>65</td>\n",
       "      <td>copenhagen</td>\n",
       "      <td>30</td>\n",
       "      <td>hungarian</td>\n",
       "      <td>0</td>\n",
       "      <td>6217</td>\n",
       "      <td>Yin Yang</td>\n",
       "      <td>Royal Lotus</td>\n",
       "      <td>1</td>\n",
       "      <td>0</td>\n",
       "      <td>2</td>\n",
       "    </tr>\n",
       "  </tbody>\n",
       "</table>\n",
       "</div>"
      ],
      "text/plain": [
       "   hotel_id  price  stock        city  date   language  mobile  avatar_id  \\\n",
       "0       556    175     60  copenhagen    30  hungarian       0       6217   \n",
       "1       664    284    111  copenhagen    30  hungarian       0       6217   \n",
       "2        96    124     37  copenhagen    30  hungarian       0       6217   \n",
       "3       865    277    107  copenhagen    30  hungarian       0       6217   \n",
       "4        58    203     65  copenhagen    30  hungarian       0       6217   \n",
       "\n",
       "                group             brand  parking  pool  children_policy  \n",
       "0        Boss Western    J.Halliday Inn        1     0                0  \n",
       "1        Accar Hotels           Safitel        0     1                0  \n",
       "2        Boss Western      Boss Western        0     0                0  \n",
       "3  Chillton Worldwide  Chill Garden Inn        1     1                0  \n",
       "4            Yin Yang       Royal Lotus        1     0                2  "
      ]
     },
     "execution_count": 2,
     "metadata": {},
     "output_type": "execute_result"
    }
   ],
   "source": [
    "# Lecture des données\n",
    "\n",
    "data=pd.read_csv('./Datatrain/test_requete_features.csv')\n",
    "data=data.drop(['Unnamed: 0'],axis=1)\n",
    "\n",
    "# Vérification du contenu\n",
    "data.head()"
   ]
  },
  {
   "cell_type": "code",
   "execution_count": 3,
   "metadata": {},
   "outputs": [
    {
     "data": {
      "text/plain": [
       "112375"
      ]
     },
     "execution_count": 3,
     "metadata": {},
     "output_type": "execute_result"
    }
   ],
   "source": [
    "len(data)"
   ]
  },
  {
   "cell_type": "code",
   "execution_count": 4,
   "metadata": {},
   "outputs": [
    {
     "data": {
      "text/html": [
       "<div>\n",
       "<style scoped>\n",
       "    .dataframe tbody tr th:only-of-type {\n",
       "        vertical-align: middle;\n",
       "    }\n",
       "\n",
       "    .dataframe tbody tr th {\n",
       "        vertical-align: top;\n",
       "    }\n",
       "\n",
       "    .dataframe thead th {\n",
       "        text-align: right;\n",
       "    }\n",
       "</style>\n",
       "<table border=\"1\" class=\"dataframe\">\n",
       "  <thead>\n",
       "    <tr style=\"text-align: right;\">\n",
       "      <th></th>\n",
       "      <th>hotel_id</th>\n",
       "      <th>price</th>\n",
       "      <th>stock</th>\n",
       "      <th>date</th>\n",
       "      <th>mobile</th>\n",
       "      <th>avatar_id</th>\n",
       "      <th>parking</th>\n",
       "      <th>pool</th>\n",
       "      <th>children_policy</th>\n",
       "    </tr>\n",
       "  </thead>\n",
       "  <tbody>\n",
       "    <tr>\n",
       "      <th>count</th>\n",
       "      <td>112375.000000</td>\n",
       "      <td>112375.000000</td>\n",
       "      <td>112375.000000</td>\n",
       "      <td>112375.000000</td>\n",
       "      <td>112375.000000</td>\n",
       "      <td>112375.000000</td>\n",
       "      <td>112375.000000</td>\n",
       "      <td>112375.000000</td>\n",
       "      <td>112375.000000</td>\n",
       "    </tr>\n",
       "    <tr>\n",
       "      <th>mean</th>\n",
       "      <td>499.065762</td>\n",
       "      <td>154.157001</td>\n",
       "      <td>60.165090</td>\n",
       "      <td>25.577086</td>\n",
       "      <td>0.535101</td>\n",
       "      <td>37272.050705</td>\n",
       "      <td>0.437953</td>\n",
       "      <td>0.172111</td>\n",
       "      <td>0.066394</td>\n",
       "    </tr>\n",
       "    <tr>\n",
       "      <th>std</th>\n",
       "      <td>287.991977</td>\n",
       "      <td>76.665386</td>\n",
       "      <td>61.268925</td>\n",
       "      <td>13.748032</td>\n",
       "      <td>0.498769</td>\n",
       "      <td>15820.812649</td>\n",
       "      <td>0.496137</td>\n",
       "      <td>0.377479</td>\n",
       "      <td>0.304650</td>\n",
       "    </tr>\n",
       "    <tr>\n",
       "      <th>min</th>\n",
       "      <td>0.000000</td>\n",
       "      <td>38.000000</td>\n",
       "      <td>0.000000</td>\n",
       "      <td>2.000000</td>\n",
       "      <td>0.000000</td>\n",
       "      <td>6217.000000</td>\n",
       "      <td>0.000000</td>\n",
       "      <td>0.000000</td>\n",
       "      <td>0.000000</td>\n",
       "    </tr>\n",
       "    <tr>\n",
       "      <th>25%</th>\n",
       "      <td>250.000000</td>\n",
       "      <td>96.000000</td>\n",
       "      <td>8.000000</td>\n",
       "      <td>11.000000</td>\n",
       "      <td>0.000000</td>\n",
       "      <td>34258.000000</td>\n",
       "      <td>0.000000</td>\n",
       "      <td>0.000000</td>\n",
       "      <td>0.000000</td>\n",
       "    </tr>\n",
       "    <tr>\n",
       "      <th>50%</th>\n",
       "      <td>502.000000</td>\n",
       "      <td>139.000000</td>\n",
       "      <td>42.000000</td>\n",
       "      <td>31.000000</td>\n",
       "      <td>1.000000</td>\n",
       "      <td>34264.000000</td>\n",
       "      <td>0.000000</td>\n",
       "      <td>0.000000</td>\n",
       "      <td>0.000000</td>\n",
       "    </tr>\n",
       "    <tr>\n",
       "      <th>75%</th>\n",
       "      <td>748.000000</td>\n",
       "      <td>190.000000</td>\n",
       "      <td>95.000000</td>\n",
       "      <td>37.000000</td>\n",
       "      <td>1.000000</td>\n",
       "      <td>34429.000000</td>\n",
       "      <td>1.000000</td>\n",
       "      <td>0.000000</td>\n",
       "      <td>0.000000</td>\n",
       "    </tr>\n",
       "    <tr>\n",
       "      <th>max</th>\n",
       "      <td>998.000000</td>\n",
       "      <td>547.000000</td>\n",
       "      <td>284.000000</td>\n",
       "      <td>44.000000</td>\n",
       "      <td>1.000000</td>\n",
       "      <td>73371.000000</td>\n",
       "      <td>1.000000</td>\n",
       "      <td>1.000000</td>\n",
       "      <td>2.000000</td>\n",
       "    </tr>\n",
       "  </tbody>\n",
       "</table>\n",
       "</div>"
      ],
      "text/plain": [
       "            hotel_id          price          stock           date  \\\n",
       "count  112375.000000  112375.000000  112375.000000  112375.000000   \n",
       "mean      499.065762     154.157001      60.165090      25.577086   \n",
       "std       287.991977      76.665386      61.268925      13.748032   \n",
       "min         0.000000      38.000000       0.000000       2.000000   \n",
       "25%       250.000000      96.000000       8.000000      11.000000   \n",
       "50%       502.000000     139.000000      42.000000      31.000000   \n",
       "75%       748.000000     190.000000      95.000000      37.000000   \n",
       "max       998.000000     547.000000     284.000000      44.000000   \n",
       "\n",
       "              mobile      avatar_id        parking           pool  \\\n",
       "count  112375.000000  112375.000000  112375.000000  112375.000000   \n",
       "mean        0.535101   37272.050705       0.437953       0.172111   \n",
       "std         0.498769   15820.812649       0.496137       0.377479   \n",
       "min         0.000000    6217.000000       0.000000       0.000000   \n",
       "25%         0.000000   34258.000000       0.000000       0.000000   \n",
       "50%         1.000000   34264.000000       0.000000       0.000000   \n",
       "75%         1.000000   34429.000000       1.000000       0.000000   \n",
       "max         1.000000   73371.000000       1.000000       1.000000   \n",
       "\n",
       "       children_policy  \n",
       "count    112375.000000  \n",
       "mean          0.066394  \n",
       "std           0.304650  \n",
       "min           0.000000  \n",
       "25%           0.000000  \n",
       "50%           0.000000  \n",
       "75%           0.000000  \n",
       "max           2.000000  "
      ]
     },
     "execution_count": 4,
     "metadata": {},
     "output_type": "execute_result"
    }
   ],
   "source": [
    "## Peut être enlever les variables comme hotel_id, avatar_id ? \n",
    "\n",
    "data.describe()"
   ]
  },
  {
   "cell_type": "markdown",
   "metadata": {},
   "source": [
    "## Analyse descriptive"
   ]
  },
  {
   "cell_type": "markdown",
   "metadata": {},
   "source": [
    "### Distribution de la variable à prédire 'price'"
   ]
  },
  {
   "cell_type": "code",
   "execution_count": 5,
   "metadata": {},
   "outputs": [
    {
     "data": {
      "text/plain": [
       "Text(0.5, 1.0, 'Distribution of price after log transform')"
      ]
     },
     "execution_count": 5,
     "metadata": {},
     "output_type": "execute_result"
    },
    {
     "data": {
      "image/png": "[encoded data removed]",
      "text/plain": [
       "<Figure size 1152x288 with 2 Axes>"
      ]
     },
     "metadata": {
      "needs_background": "light"
     },
     "output_type": "display_data"
    }
   ],
   "source": [
    "fig, (ax1, ax2) = plt.subplots(1,2,figsize=(16, 4))\n",
    "sns.distplot(data[\"price\"], ax=ax1)\n",
    "ax1.set_title('Distribution of price')\n",
    "\n",
    "data[\"log_price\"]=data[\"price\"].map(lambda x : log(x))\n",
    "sns.distplot(data[\"log_price\"].rename('log10(price)'), ax=ax2)\n",
    "ax2.set_title('Distribution of price after log transform')"
   ]
  },
  {
   "cell_type": "markdown",
   "metadata": {},
   "source": [
    "### Distribution des variables quantitatives"
   ]
  },
  {
   "cell_type": "code",
   "execution_count": 6,
   "metadata": {},
   "outputs": [
    {
     "data": {
      "text/plain": [
       "Text(0.5, 1.0, 'Distribution of date')"
      ]
     },
     "execution_count": 6,
     "metadata": {},
     "output_type": "execute_result"
    },
    {
     "data": {
      "image/png": "[encoded data removed]",
      "text/plain": [
       "<Figure size 1152x288 with 2 Axes>"
      ]
     },
     "metadata": {
      "needs_background": "light"
     },
     "output_type": "display_data"
    }
   ],
   "source": [
    "numerical=['stock','date']\n",
    "\n",
    "fig, (ax1, ax2) = plt.subplots(1,2,figsize=(16, 4))\n",
    "sns.distplot(data[\"stock\"], ax=ax1)\n",
    "ax1.set_title('Distribution of stock')\n",
    "\n",
    "\n",
    "## Date peut être pas pertinent ? \n",
    "sns.distplot(data[\"date\"], ax=ax2)\n",
    "ax2.set_title('Distribution of date')"
   ]
  },
  {
   "cell_type": "code",
   "execution_count": 7,
   "metadata": {},
   "outputs": [
    {
     "data": {
      "text/html": [
       "<div>\n",
       "<style scoped>\n",
       "    .dataframe tbody tr th:only-of-type {\n",
       "        vertical-align: middle;\n",
       "    }\n",
       "\n",
       "    .dataframe tbody tr th {\n",
       "        vertical-align: top;\n",
       "    }\n",
       "\n",
       "    .dataframe thead th {\n",
       "        text-align: right;\n",
       "    }\n",
       "</style>\n",
       "<table border=\"1\" class=\"dataframe\">\n",
       "  <thead>\n",
       "    <tr style=\"text-align: right;\">\n",
       "      <th></th>\n",
       "      <th>stock</th>\n",
       "      <th>date</th>\n",
       "    </tr>\n",
       "  </thead>\n",
       "  <tbody>\n",
       "    <tr>\n",
       "      <th>stock</th>\n",
       "      <td>1.000000</td>\n",
       "      <td>0.769171</td>\n",
       "    </tr>\n",
       "    <tr>\n",
       "      <th>date</th>\n",
       "      <td>0.769171</td>\n",
       "      <td>1.000000</td>\n",
       "    </tr>\n",
       "  </tbody>\n",
       "</table>\n",
       "</div>"
      ],
      "text/plain": [
       "          stock      date\n",
       "stock  1.000000  0.769171\n",
       "date   0.769171  1.000000"
      ]
     },
     "execution_count": 7,
     "metadata": {},
     "output_type": "execute_result"
    }
   ],
   "source": [
    "data[numerical].corr()"
   ]
  },
  {
   "cell_type": "markdown",
   "metadata": {},
   "source": [
    "### Distribution variables qualitatives"
   ]
  },
  {
   "cell_type": "code",
   "execution_count": 8,
   "metadata": {},
   "outputs": [],
   "source": [
    "list_parking=data[\"parking\"].tolist()\n",
    "list_parking2=[list_parking.count(0),list_parking.count(1)]\n",
    "\n",
    "list_pool=data[\"pool\"].tolist()\n",
    "list_pool2=[list_pool.count(0),list_pool.count(1)]\n",
    "\n",
    "list_children=data[\"children_policy\"].tolist()\n",
    "list_children2=[list_children.count(0),list_children.count(1),list_children.count(2)]\n",
    "\n",
    "list_mobile=data[\"mobile\"].tolist()\n",
    "list_mobile2=[list_mobile.count(0),list_mobile.count(1)]\n"
   ]
  },
  {
   "cell_type": "code",
   "execution_count": 9,
   "metadata": {},
   "outputs": [
    {
     "data": {
      "text/plain": [
       "Text(0.5, 1.0, 'mobile')"
      ]
     },
     "execution_count": 9,
     "metadata": {},
     "output_type": "execute_result"
    },
    {
     "data": {
      "image/png": "[encoded data removed]",
      "text/plain": [
       "<Figure size 1080x720 with 4 Axes>"
      ]
     },
     "metadata": {},
     "output_type": "display_data"
    }
   ],
   "source": [
    "fig, axis = plt.subplots(2,2,figsize=(15,10))\n",
    "axis[0,0].pie(list_parking2, labels = ['no_parking','parking'])\n",
    "axis[0,0].set_title('parking')\n",
    "\n",
    "axis[0,1].pie(list_pool2, labels = ['no_pool','pool'])\n",
    "axis[0,1].set_title('pool')\n",
    "\n",
    "axis[1,0].pie(list_children2, labels = ['no restriction','only > 12 yo','only > 18/21 yo' ])\n",
    "axis[1,0].set_title('children')\n",
    "\n",
    "axis[1,1].pie(list_mobile2, labels = ['computer','mobile'])\n",
    "axis[1,1].set_title('mobile')"
   ]
  },
  {
   "cell_type": "markdown",
   "metadata": {},
   "source": [
    "### Distribution du prix par rapport aux variables qualitatives"
   ]
  },
  {
   "cell_type": "code",
   "execution_count": 10,
   "metadata": {},
   "outputs": [],
   "source": [
    "## Comprend pas pourquoi ça ne fonctionne pas de tous les afficher d'un coup ? \n",
    "\n",
    "\n",
    "# fig, axis = plt.subplots(2,2,figsize=(20,15))\n",
    "# sns.boxplot(x=data[\"parking\"], y=data[\"price\"]).set(xlabel=None)\n",
    "# axis[0,0].set_title('parking')\n",
    "\n",
    "# sns.boxplot(x=data[\"pool\"], y=data[\"price\"]).set(xlabel=None)\n",
    "# axis[0,1].set_title('pool')\n",
    "\n",
    "# sns.boxplot(x=data[\"children_policy\"], y=data[\"price\"]).set(xlabel=None)\n",
    "# axis[1,0].set_title('children')\n",
    "\n",
    "# sns.boxplot(x=data[\"mobile\"], y=data[\"price\"]).set(xlabel=None)\n",
    "# axis[1,1].set_title('mobile')"
   ]
  },
  {
   "cell_type": "code",
   "execution_count": 11,
   "metadata": {},
   "outputs": [
    {
     "data": {
      "text/plain": [
       "[Text(0.5, 0, '')]"
      ]
     },
     "execution_count": 11,
     "metadata": {},
     "output_type": "execute_result"
    },
    {
     "data": {
      "image/png": "[encoded data removed]",
      "text/plain": [
       "<Figure size 720x360 with 1 Axes>"
      ]
     },
     "metadata": {},
     "output_type": "display_data"
    }
   ],
   "source": [
    "sns.set(rc={'figure.figsize':(10,5)})\n",
    "sns.boxplot(x=data[\"parking\"], y=data[\"price\"]).set(xlabel=None)"
   ]
  },
  {
   "cell_type": "code",
   "execution_count": 12,
   "metadata": {},
   "outputs": [
    {
     "data": {
      "text/plain": [
       "[Text(0.5, 0, '')]"
      ]
     },
     "execution_count": 12,
     "metadata": {},
     "output_type": "execute_result"
    },
    {
     "data": {
      "image/png": "[encoded data removed]",
      "text/plain": [
       "<Figure size 720x360 with 1 Axes>"
      ]
     },
     "metadata": {},
     "output_type": "display_data"
    }
   ],
   "source": [
    "sns.set(rc={'figure.figsize':(10,5)})\n",
    "sns.boxplot(x=data[\"pool\"], y=data[\"price\"]).set(xlabel=None)"
   ]
  },
  {
   "cell_type": "code",
   "execution_count": 13,
   "metadata": {},
   "outputs": [
    {
     "data": {
      "text/plain": [
       "[Text(0.5, 0, '')]"
      ]
     },
     "execution_count": 13,
     "metadata": {},
     "output_type": "execute_result"
    },
    {
     "data": {
      "image/png": "[encoded data removed]",
      "text/plain": [
       "<Figure size 720x360 with 1 Axes>"
      ]
     },
     "metadata": {},
     "output_type": "display_data"
    }
   ],
   "source": [
    "# Est-ce que l’hôtel a des restrictions concernant les enfants. 2 si l’hôtel interdit les enfants de moins de 18 ou 21 ans, \n",
    "# 1 si l’hôtel interdit les enfants de moins de 12 ans, 0 s’il autorise les enfants sans restrictions.\n",
    "\n",
    "sns.set(rc={'figure.figsize':(10,5)})\n",
    "sns.boxplot(x=data[\"children_policy\"], y=data[\"price\"]).set(xlabel=None)"
   ]
  },
  {
   "cell_type": "code",
   "execution_count": 14,
   "metadata": {},
   "outputs": [
    {
     "data": {
      "text/plain": [
       "[Text(0.5, 0, '')]"
      ]
     },
     "execution_count": 14,
     "metadata": {},
     "output_type": "execute_result"
    },
    {
     "data": {
      "image/png": "[encoded data removed]",
      "text/plain": [
       "<Figure size 720x360 with 1 Axes>"
      ]
     },
     "metadata": {},
     "output_type": "display_data"
    }
   ],
   "source": [
    "sns.set(rc={'figure.figsize':(10,5)})\n",
    "sns.boxplot(x=data[\"mobile\"], y=data[\"price\"]).set(xlabel=None)"
   ]
  },
  {
   "cell_type": "markdown",
   "metadata": {},
   "source": [
    "## Modele"
   ]
  },
  {
   "cell_type": "code",
   "execution_count": 15,
   "metadata": {},
   "outputs": [],
   "source": [
    "from sklearn.model_selection import train_test_split\n",
    "from sklearn.ensemble import RandomForestClassifier, RandomForestRegressor\n",
    "from sklearn.neural_network import MLPClassifier, MLPRegressor\n",
    "from sklearn.model_selection import GridSearchCV\n",
    "from sklearn import linear_model\n",
    "from sklearn.metrics import mean_squared_error, confusion_matrix\n",
    "from sklearn.metrics import r2_score\n",
    "from sklearn.model_selection import GridSearchCV\n",
    "from sklearn.linear_model import LassoCV, LassoLarsCV\n",
    "from itertools import cycle\n",
    "from sklearn.linear_model import lasso_path\n",
    "from sklearn.linear_model import LogisticRegression\n",
    "from sklearn.metrics import roc_curve\n",
    "from sklearn.ensemble import GradientBoostingClassifier, GradientBoostingRegressor\n",
    "from sklearn.model_selection import train_test_split \n",
    "from sklearn.preprocessing import StandardScaler  \n",
    "from sklearn.svm import SVC, SVR\n",
    "from sklearn.tree import DecisionTreeClassifier, DecisionTreeRegressor\n",
    "from sklearn.tree import export_graphviz\n",
    "from sklearn.decomposition import PCA\n",
    "from sklearn.preprocessing import OneHotEncoder, LabelEncoder, StandardScaler\n",
    "from sklearn.impute import SimpleImputer\n",
    "from sklearn.compose import make_column_transformer"
   ]
  },
  {
   "cell_type": "code",
   "execution_count": 16,
   "metadata": {},
   "outputs": [],
   "source": [
    "data=data.drop(['log_price','avatar_id'],axis=1)"
   ]
  },
  {
   "cell_type": "code",
   "execution_count": 17,
   "metadata": {},
   "outputs": [],
   "source": [
    "## equivalent méthode OneHotEncoding, a potentiellement modifier\n",
    "## pour ne pas avoir de string \n",
    "\n",
    "\n",
    "data=pd.get_dummies(data, columns=['city', 'language', 'group', 'brand'])"
   ]
  },
  {
   "cell_type": "code",
   "execution_count": 18,
   "metadata": {},
   "outputs": [
    {
     "data": {
      "text/html": [
       "<div>\n",
       "<style scoped>\n",
       "    .dataframe tbody tr th:only-of-type {\n",
       "        vertical-align: middle;\n",
       "    }\n",
       "\n",
       "    .dataframe tbody tr th {\n",
       "        vertical-align: top;\n",
       "    }\n",
       "\n",
       "    .dataframe thead th {\n",
       "        text-align: right;\n",
       "    }\n",
       "</style>\n",
       "<table border=\"1\" class=\"dataframe\">\n",
       "  <thead>\n",
       "    <tr style=\"text-align: right;\">\n",
       "      <th></th>\n",
       "      <th>hotel_id</th>\n",
       "      <th>price</th>\n",
       "      <th>stock</th>\n",
       "      <th>date</th>\n",
       "      <th>mobile</th>\n",
       "      <th>parking</th>\n",
       "      <th>pool</th>\n",
       "      <th>children_policy</th>\n",
       "      <th>city_amsterdam</th>\n",
       "      <th>city_copenhagen</th>\n",
       "      <th>...</th>\n",
       "      <th>brand_Ibas</th>\n",
       "      <th>brand_Independant</th>\n",
       "      <th>brand_J.Halliday Inn</th>\n",
       "      <th>brand_Marcure</th>\n",
       "      <th>brand_Morriot</th>\n",
       "      <th>brand_Navatel</th>\n",
       "      <th>brand_Quadrupletree</th>\n",
       "      <th>brand_Royal Lotus</th>\n",
       "      <th>brand_Safitel</th>\n",
       "      <th>brand_Tripletree</th>\n",
       "    </tr>\n",
       "  </thead>\n",
       "  <tbody>\n",
       "    <tr>\n",
       "      <th>0</th>\n",
       "      <td>556</td>\n",
       "      <td>175</td>\n",
       "      <td>60</td>\n",
       "      <td>30</td>\n",
       "      <td>0</td>\n",
       "      <td>1</td>\n",
       "      <td>0</td>\n",
       "      <td>0</td>\n",
       "      <td>0</td>\n",
       "      <td>1</td>\n",
       "      <td>...</td>\n",
       "      <td>0</td>\n",
       "      <td>0</td>\n",
       "      <td>1</td>\n",
       "      <td>0</td>\n",
       "      <td>0</td>\n",
       "      <td>0</td>\n",
       "      <td>0</td>\n",
       "      <td>0</td>\n",
       "      <td>0</td>\n",
       "      <td>0</td>\n",
       "    </tr>\n",
       "    <tr>\n",
       "      <th>1</th>\n",
       "      <td>664</td>\n",
       "      <td>284</td>\n",
       "      <td>111</td>\n",
       "      <td>30</td>\n",
       "      <td>0</td>\n",
       "      <td>0</td>\n",
       "      <td>1</td>\n",
       "      <td>0</td>\n",
       "      <td>0</td>\n",
       "      <td>1</td>\n",
       "      <td>...</td>\n",
       "      <td>0</td>\n",
       "      <td>0</td>\n",
       "      <td>0</td>\n",
       "      <td>0</td>\n",
       "      <td>0</td>\n",
       "      <td>0</td>\n",
       "      <td>0</td>\n",
       "      <td>0</td>\n",
       "      <td>1</td>\n",
       "      <td>0</td>\n",
       "    </tr>\n",
       "    <tr>\n",
       "      <th>2</th>\n",
       "      <td>96</td>\n",
       "      <td>124</td>\n",
       "      <td>37</td>\n",
       "      <td>30</td>\n",
       "      <td>0</td>\n",
       "      <td>0</td>\n",
       "      <td>0</td>\n",
       "      <td>0</td>\n",
       "      <td>0</td>\n",
       "      <td>1</td>\n",
       "      <td>...</td>\n",
       "      <td>0</td>\n",
       "      <td>0</td>\n",
       "      <td>0</td>\n",
       "      <td>0</td>\n",
       "      <td>0</td>\n",
       "      <td>0</td>\n",
       "      <td>0</td>\n",
       "      <td>0</td>\n",
       "      <td>0</td>\n",
       "      <td>0</td>\n",
       "    </tr>\n",
       "    <tr>\n",
       "      <th>3</th>\n",
       "      <td>865</td>\n",
       "      <td>277</td>\n",
       "      <td>107</td>\n",
       "      <td>30</td>\n",
       "      <td>0</td>\n",
       "      <td>1</td>\n",
       "      <td>1</td>\n",
       "      <td>0</td>\n",
       "      <td>0</td>\n",
       "      <td>1</td>\n",
       "      <td>...</td>\n",
       "      <td>0</td>\n",
       "      <td>0</td>\n",
       "      <td>0</td>\n",
       "      <td>0</td>\n",
       "      <td>0</td>\n",
       "      <td>0</td>\n",
       "      <td>0</td>\n",
       "      <td>0</td>\n",
       "      <td>0</td>\n",
       "      <td>0</td>\n",
       "    </tr>\n",
       "    <tr>\n",
       "      <th>4</th>\n",
       "      <td>58</td>\n",
       "      <td>203</td>\n",
       "      <td>65</td>\n",
       "      <td>30</td>\n",
       "      <td>0</td>\n",
       "      <td>1</td>\n",
       "      <td>0</td>\n",
       "      <td>2</td>\n",
       "      <td>0</td>\n",
       "      <td>1</td>\n",
       "      <td>...</td>\n",
       "      <td>0</td>\n",
       "      <td>0</td>\n",
       "      <td>0</td>\n",
       "      <td>0</td>\n",
       "      <td>0</td>\n",
       "      <td>0</td>\n",
       "      <td>0</td>\n",
       "      <td>1</td>\n",
       "      <td>0</td>\n",
       "      <td>0</td>\n",
       "    </tr>\n",
       "    <tr>\n",
       "      <th>...</th>\n",
       "      <td>...</td>\n",
       "      <td>...</td>\n",
       "      <td>...</td>\n",
       "      <td>...</td>\n",
       "      <td>...</td>\n",
       "      <td>...</td>\n",
       "      <td>...</td>\n",
       "      <td>...</td>\n",
       "      <td>...</td>\n",
       "      <td>...</td>\n",
       "      <td>...</td>\n",
       "      <td>...</td>\n",
       "      <td>...</td>\n",
       "      <td>...</td>\n",
       "      <td>...</td>\n",
       "      <td>...</td>\n",
       "      <td>...</td>\n",
       "      <td>...</td>\n",
       "      <td>...</td>\n",
       "      <td>...</td>\n",
       "      <td>...</td>\n",
       "    </tr>\n",
       "    <tr>\n",
       "      <th>112370</th>\n",
       "      <td>794</td>\n",
       "      <td>211</td>\n",
       "      <td>155</td>\n",
       "      <td>35</td>\n",
       "      <td>1</td>\n",
       "      <td>1</td>\n",
       "      <td>0</td>\n",
       "      <td>0</td>\n",
       "      <td>0</td>\n",
       "      <td>0</td>\n",
       "      <td>...</td>\n",
       "      <td>0</td>\n",
       "      <td>0</td>\n",
       "      <td>0</td>\n",
       "      <td>0</td>\n",
       "      <td>0</td>\n",
       "      <td>0</td>\n",
       "      <td>0</td>\n",
       "      <td>0</td>\n",
       "      <td>0</td>\n",
       "      <td>0</td>\n",
       "    </tr>\n",
       "    <tr>\n",
       "      <th>112371</th>\n",
       "      <td>204</td>\n",
       "      <td>58</td>\n",
       "      <td>33</td>\n",
       "      <td>35</td>\n",
       "      <td>1</td>\n",
       "      <td>1</td>\n",
       "      <td>0</td>\n",
       "      <td>0</td>\n",
       "      <td>0</td>\n",
       "      <td>0</td>\n",
       "      <td>...</td>\n",
       "      <td>0</td>\n",
       "      <td>1</td>\n",
       "      <td>0</td>\n",
       "      <td>0</td>\n",
       "      <td>0</td>\n",
       "      <td>0</td>\n",
       "      <td>0</td>\n",
       "      <td>0</td>\n",
       "      <td>0</td>\n",
       "      <td>0</td>\n",
       "    </tr>\n",
       "    <tr>\n",
       "      <th>112372</th>\n",
       "      <td>765</td>\n",
       "      <td>61</td>\n",
       "      <td>35</td>\n",
       "      <td>35</td>\n",
       "      <td>1</td>\n",
       "      <td>0</td>\n",
       "      <td>0</td>\n",
       "      <td>0</td>\n",
       "      <td>0</td>\n",
       "      <td>0</td>\n",
       "      <td>...</td>\n",
       "      <td>0</td>\n",
       "      <td>1</td>\n",
       "      <td>0</td>\n",
       "      <td>0</td>\n",
       "      <td>0</td>\n",
       "      <td>0</td>\n",
       "      <td>0</td>\n",
       "      <td>0</td>\n",
       "      <td>0</td>\n",
       "      <td>0</td>\n",
       "    </tr>\n",
       "    <tr>\n",
       "      <th>112373</th>\n",
       "      <td>451</td>\n",
       "      <td>110</td>\n",
       "      <td>85</td>\n",
       "      <td>35</td>\n",
       "      <td>1</td>\n",
       "      <td>1</td>\n",
       "      <td>0</td>\n",
       "      <td>0</td>\n",
       "      <td>0</td>\n",
       "      <td>0</td>\n",
       "      <td>...</td>\n",
       "      <td>0</td>\n",
       "      <td>1</td>\n",
       "      <td>0</td>\n",
       "      <td>0</td>\n",
       "      <td>0</td>\n",
       "      <td>0</td>\n",
       "      <td>0</td>\n",
       "      <td>0</td>\n",
       "      <td>0</td>\n",
       "      <td>0</td>\n",
       "    </tr>\n",
       "    <tr>\n",
       "      <th>112374</th>\n",
       "      <td>59</td>\n",
       "      <td>112</td>\n",
       "      <td>80</td>\n",
       "      <td>35</td>\n",
       "      <td>1</td>\n",
       "      <td>1</td>\n",
       "      <td>0</td>\n",
       "      <td>0</td>\n",
       "      <td>0</td>\n",
       "      <td>0</td>\n",
       "      <td>...</td>\n",
       "      <td>0</td>\n",
       "      <td>0</td>\n",
       "      <td>1</td>\n",
       "      <td>0</td>\n",
       "      <td>0</td>\n",
       "      <td>0</td>\n",
       "      <td>0</td>\n",
       "      <td>0</td>\n",
       "      <td>0</td>\n",
       "      <td>0</td>\n",
       "    </tr>\n",
       "  </tbody>\n",
       "</table>\n",
       "<p>112375 rows × 56 columns</p>\n",
       "</div>"
      ],
      "text/plain": [
       "        hotel_id  price  stock  date  mobile  parking  pool  children_policy  \\\n",
       "0            556    175     60    30       0        1     0                0   \n",
       "1            664    284    111    30       0        0     1                0   \n",
       "2             96    124     37    30       0        0     0                0   \n",
       "3            865    277    107    30       0        1     1                0   \n",
       "4             58    203     65    30       0        1     0                2   \n",
       "...          ...    ...    ...   ...     ...      ...   ...              ...   \n",
       "112370       794    211    155    35       1        1     0                0   \n",
       "112371       204     58     33    35       1        1     0                0   \n",
       "112372       765     61     35    35       1        0     0                0   \n",
       "112373       451    110     85    35       1        1     0                0   \n",
       "112374        59    112     80    35       1        1     0                0   \n",
       "\n",
       "        city_amsterdam  city_copenhagen  ...  brand_Ibas  brand_Independant  \\\n",
       "0                    0                1  ...           0                  0   \n",
       "1                    0                1  ...           0                  0   \n",
       "2                    0                1  ...           0                  0   \n",
       "3                    0                1  ...           0                  0   \n",
       "4                    0                1  ...           0                  0   \n",
       "...                ...              ...  ...         ...                ...   \n",
       "112370               0                0  ...           0                  0   \n",
       "112371               0                0  ...           0                  1   \n",
       "112372               0                0  ...           0                  1   \n",
       "112373               0                0  ...           0                  1   \n",
       "112374               0                0  ...           0                  0   \n",
       "\n",
       "        brand_J.Halliday Inn  brand_Marcure  brand_Morriot  brand_Navatel  \\\n",
       "0                          1              0              0              0   \n",
       "1                          0              0              0              0   \n",
       "2                          0              0              0              0   \n",
       "3                          0              0              0              0   \n",
       "4                          0              0              0              0   \n",
       "...                      ...            ...            ...            ...   \n",
       "112370                     0              0              0              0   \n",
       "112371                     0              0              0              0   \n",
       "112372                     0              0              0              0   \n",
       "112373                     0              0              0              0   \n",
       "112374                     1              0              0              0   \n",
       "\n",
       "        brand_Quadrupletree  brand_Royal Lotus  brand_Safitel  \\\n",
       "0                         0                  0              0   \n",
       "1                         0                  0              1   \n",
       "2                         0                  0              0   \n",
       "3                         0                  0              0   \n",
       "4                         0                  1              0   \n",
       "...                     ...                ...            ...   \n",
       "112370                    0                  0              0   \n",
       "112371                    0                  0              0   \n",
       "112372                    0                  0              0   \n",
       "112373                    0                  0              0   \n",
       "112374                    0                  0              0   \n",
       "\n",
       "        brand_Tripletree  \n",
       "0                      0  \n",
       "1                      0  \n",
       "2                      0  \n",
       "3                      0  \n",
       "4                      0  \n",
       "...                  ...  \n",
       "112370                 0  \n",
       "112371                 0  \n",
       "112372                 0  \n",
       "112373                 0  \n",
       "112374                 0  \n",
       "\n",
       "[112375 rows x 56 columns]"
      ]
     },
     "execution_count": 18,
     "metadata": {},
     "output_type": "execute_result"
    }
   ],
   "source": [
    "data"
   ]
  },
  {
   "cell_type": "code",
   "execution_count": 19,
   "metadata": {},
   "outputs": [],
   "source": [
    "price=data['price']\n",
    "X_train, X_test, Y_train, Y_test = train_test_split(data,price,test_size=0.25,random_state=11)\n",
    "X_train=X_train.drop(['price'],axis=1)\n",
    "X_test=X_test.drop(['price'],axis=1)"
   ]
  },
  {
   "cell_type": "code",
   "execution_count": 20,
   "metadata": {},
   "outputs": [
    {
     "data": {
      "text/html": [
       "<div>\n",
       "<style scoped>\n",
       "    .dataframe tbody tr th:only-of-type {\n",
       "        vertical-align: middle;\n",
       "    }\n",
       "\n",
       "    .dataframe tbody tr th {\n",
       "        vertical-align: top;\n",
       "    }\n",
       "\n",
       "    .dataframe thead th {\n",
       "        text-align: right;\n",
       "    }\n",
       "</style>\n",
       "<table border=\"1\" class=\"dataframe\">\n",
       "  <thead>\n",
       "    <tr style=\"text-align: right;\">\n",
       "      <th></th>\n",
       "      <th>hotel_id</th>\n",
       "      <th>stock</th>\n",
       "      <th>date</th>\n",
       "      <th>mobile</th>\n",
       "      <th>parking</th>\n",
       "      <th>pool</th>\n",
       "      <th>children_policy</th>\n",
       "      <th>city_amsterdam</th>\n",
       "      <th>city_copenhagen</th>\n",
       "      <th>city_madrid</th>\n",
       "      <th>...</th>\n",
       "      <th>brand_Ibas</th>\n",
       "      <th>brand_Independant</th>\n",
       "      <th>brand_J.Halliday Inn</th>\n",
       "      <th>brand_Marcure</th>\n",
       "      <th>brand_Morriot</th>\n",
       "      <th>brand_Navatel</th>\n",
       "      <th>brand_Quadrupletree</th>\n",
       "      <th>brand_Royal Lotus</th>\n",
       "      <th>brand_Safitel</th>\n",
       "      <th>brand_Tripletree</th>\n",
       "    </tr>\n",
       "  </thead>\n",
       "  <tbody>\n",
       "    <tr>\n",
       "      <th>8432</th>\n",
       "      <td>277</td>\n",
       "      <td>166</td>\n",
       "      <td>35</td>\n",
       "      <td>0</td>\n",
       "      <td>0</td>\n",
       "      <td>0</td>\n",
       "      <td>0</td>\n",
       "      <td>0</td>\n",
       "      <td>0</td>\n",
       "      <td>1</td>\n",
       "      <td>...</td>\n",
       "      <td>0</td>\n",
       "      <td>0</td>\n",
       "      <td>0</td>\n",
       "      <td>0</td>\n",
       "      <td>0</td>\n",
       "      <td>0</td>\n",
       "      <td>0</td>\n",
       "      <td>0</td>\n",
       "      <td>0</td>\n",
       "      <td>0</td>\n",
       "    </tr>\n",
       "    <tr>\n",
       "      <th>20966</th>\n",
       "      <td>212</td>\n",
       "      <td>193</td>\n",
       "      <td>44</td>\n",
       "      <td>1</td>\n",
       "      <td>0</td>\n",
       "      <td>1</td>\n",
       "      <td>0</td>\n",
       "      <td>1</td>\n",
       "      <td>0</td>\n",
       "      <td>0</td>\n",
       "      <td>...</td>\n",
       "      <td>0</td>\n",
       "      <td>0</td>\n",
       "      <td>0</td>\n",
       "      <td>0</td>\n",
       "      <td>0</td>\n",
       "      <td>0</td>\n",
       "      <td>0</td>\n",
       "      <td>1</td>\n",
       "      <td>0</td>\n",
       "      <td>0</td>\n",
       "    </tr>\n",
       "    <tr>\n",
       "      <th>55957</th>\n",
       "      <td>182</td>\n",
       "      <td>118</td>\n",
       "      <td>41</td>\n",
       "      <td>0</td>\n",
       "      <td>1</td>\n",
       "      <td>0</td>\n",
       "      <td>0</td>\n",
       "      <td>0</td>\n",
       "      <td>0</td>\n",
       "      <td>0</td>\n",
       "      <td>...</td>\n",
       "      <td>0</td>\n",
       "      <td>0</td>\n",
       "      <td>1</td>\n",
       "      <td>0</td>\n",
       "      <td>0</td>\n",
       "      <td>0</td>\n",
       "      <td>0</td>\n",
       "      <td>0</td>\n",
       "      <td>0</td>\n",
       "      <td>0</td>\n",
       "    </tr>\n",
       "    <tr>\n",
       "      <th>107992</th>\n",
       "      <td>413</td>\n",
       "      <td>192</td>\n",
       "      <td>35</td>\n",
       "      <td>0</td>\n",
       "      <td>0</td>\n",
       "      <td>0</td>\n",
       "      <td>0</td>\n",
       "      <td>0</td>\n",
       "      <td>0</td>\n",
       "      <td>1</td>\n",
       "      <td>...</td>\n",
       "      <td>0</td>\n",
       "      <td>0</td>\n",
       "      <td>0</td>\n",
       "      <td>0</td>\n",
       "      <td>0</td>\n",
       "      <td>0</td>\n",
       "      <td>0</td>\n",
       "      <td>0</td>\n",
       "      <td>0</td>\n",
       "      <td>0</td>\n",
       "    </tr>\n",
       "    <tr>\n",
       "      <th>10285</th>\n",
       "      <td>624</td>\n",
       "      <td>63</td>\n",
       "      <td>28</td>\n",
       "      <td>0</td>\n",
       "      <td>0</td>\n",
       "      <td>1</td>\n",
       "      <td>0</td>\n",
       "      <td>0</td>\n",
       "      <td>1</td>\n",
       "      <td>0</td>\n",
       "      <td>...</td>\n",
       "      <td>0</td>\n",
       "      <td>0</td>\n",
       "      <td>0</td>\n",
       "      <td>0</td>\n",
       "      <td>0</td>\n",
       "      <td>0</td>\n",
       "      <td>1</td>\n",
       "      <td>0</td>\n",
       "      <td>0</td>\n",
       "      <td>0</td>\n",
       "    </tr>\n",
       "  </tbody>\n",
       "</table>\n",
       "<p>5 rows × 55 columns</p>\n",
       "</div>"
      ],
      "text/plain": [
       "        hotel_id  stock  date  mobile  parking  pool  children_policy  \\\n",
       "8432         277    166    35       0        0     0                0   \n",
       "20966        212    193    44       1        0     1                0   \n",
       "55957        182    118    41       0        1     0                0   \n",
       "107992       413    192    35       0        0     0                0   \n",
       "10285        624     63    28       0        0     1                0   \n",
       "\n",
       "        city_amsterdam  city_copenhagen  city_madrid  ...  brand_Ibas  \\\n",
       "8432                 0                0            1  ...           0   \n",
       "20966                1                0            0  ...           0   \n",
       "55957                0                0            0  ...           0   \n",
       "107992               0                0            1  ...           0   \n",
       "10285                0                1            0  ...           0   \n",
       "\n",
       "        brand_Independant  brand_J.Halliday Inn  brand_Marcure  brand_Morriot  \\\n",
       "8432                    0                     0              0              0   \n",
       "20966                   0                     0              0              0   \n",
       "55957                   0                     1              0              0   \n",
       "107992                  0                     0              0              0   \n",
       "10285                   0                     0              0              0   \n",
       "\n",
       "        brand_Navatel  brand_Quadrupletree  brand_Royal Lotus  brand_Safitel  \\\n",
       "8432                0                    0                  0              0   \n",
       "20966               0                    0                  1              0   \n",
       "55957               0                    0                  0              0   \n",
       "107992              0                    0                  0              0   \n",
       "10285               0                    1                  0              0   \n",
       "\n",
       "        brand_Tripletree  \n",
       "8432                   0  \n",
       "20966                  0  \n",
       "55957                  0  \n",
       "107992                 0  \n",
       "10285                  0  \n",
       "\n",
       "[5 rows x 55 columns]"
      ]
     },
     "execution_count": 20,
     "metadata": {},
     "output_type": "execute_result"
    }
   ],
   "source": [
    "X_train.head()"
   ]
  },
  {
   "cell_type": "code",
   "execution_count": null,
   "metadata": {},
   "outputs": [],
   "source": []
  },
  {
   "cell_type": "code",
   "execution_count": 21,
   "metadata": {},
   "outputs": [],
   "source": [
    "# scaler = StandardScaler()  \n",
    "# scaler.fit(X_train)  \n",
    "# Xr_train = scaler.transform(X_train)  \n",
    "# # Meme transformation sur le test\n",
    "# Xr_test = scaler.transform(X_test)"
   ]
  },
  {
   "cell_type": "code",
   "execution_count": 22,
   "metadata": {},
   "outputs": [
    {
     "name": "stdout",
     "output_type": "stream",
     "text": [
      "Meilleur score = 0.950579, Meilleur paramètre = {'max_features': 9}\n",
      "MSE :  254.81480031323414\n",
      "R2 :  0.9571254702694952\n"
     ]
    }
   ],
   "source": [
    "param=[{\"max_features\":list(range(2,10))}]\n",
    "regrf= GridSearchCV(DecisionTreeRegressor(),param,cv=5,n_jobs=-1)\n",
    "regrfOpt=regrf.fit(X_train, Y_train)\n",
    "# paramètre optimal\n",
    "print(\"Meilleur score = %f, Meilleur paramètre = %s\" % (regrfOpt.best_score_,regrfOpt.best_params_))\n",
    "\n",
    "Ypred_regrf = regrfOpt.predict(X_test)\n",
    "\n",
    "print(\"MSE : \",mean_squared_error(Ypred_regrf,Y_test))\n",
    "print(\"R2 : \",r2_score(Y_test,Ypred_regrf))\n"
   ]
  },
  {
   "cell_type": "code",
   "execution_count": 23,
   "metadata": {},
   "outputs": [
    {
     "name": "stdout",
     "output_type": "stream",
     "text": [
      "Meilleur score = 0.963516, Meilleur paramètre = {'learning_rate': 1.0, 'max_depth': 3}\n",
      "MSE :  224.89086365519125\n",
      "R2 :  0.9621604003847078\n"
     ]
    }
   ],
   "source": [
    "param=[{\"max_depth\":[1,2,3], \"learning_rate\":[0.1,0.5,1.0]}]\n",
    "reggradboost = GridSearchCV(GradientBoostingRegressor(n_estimators=100), param, cv=10,n_jobs=-1)\n",
    "\n",
    "reggradboost_Opt=reggradboost.fit(X_train, Y_train)\n",
    "\n",
    "print(\"Meilleur score = %f, Meilleur paramètre = %s\" % (reggradboost_Opt.best_score_,reggradboost_Opt.best_params_))\n",
    "\n",
    "Ypred_gbreg = reggradboost_Opt.predict(X_test)\n",
    "\n",
    "print(\"MSE : \",mean_squared_error(Ypred_gbreg,Y_test))\n",
    "print(\"R2 : \",r2_score(Y_test,Ypred_gbreg))\n"
   ]
  },
  {
   "cell_type": "markdown",
   "metadata": {},
   "source": [
    "#### Sans pénalisation"
   ]
  },
  {
   "cell_type": "code",
   "execution_count": 24,
   "metadata": {},
   "outputs": [
    {
     "name": "stdout",
     "output_type": "stream",
     "text": [
      "MSE :  634.369499244183\n",
      "R2 :  0.8932625031119216\n"
     ]
    }
   ],
   "source": [
    "reg_lin = linear_model.LinearRegression()\n",
    "\n",
    "reglin = reg_lin.fit(X_train,Y_train)\n",
    "Ypred_reglin = reglin.predict(X_test)\n",
    "\n",
    "print(\"MSE : \",mean_squared_error(Ypred_reglin,Y_test))\n",
    "print(\"R2 : \",r2_score(Y_test,Ypred_reglin))"
   ]
  },
  {
   "cell_type": "markdown",
   "metadata": {},
   "source": [
    "#### Avec pénalisation Lasso"
   ]
  },
  {
   "cell_type": "code",
   "execution_count": 25,
   "metadata": {},
   "outputs": [
    {
     "name": "stdout",
     "output_type": "stream",
     "text": [
      "Meilleur R2 = 0.892210, Meilleur paramètre = {'alpha': 0.05}\n",
      "MSE :  637.7878099281975\n",
      "R2 :  0.8926873463201271\n"
     ]
    }
   ],
   "source": [
    "param=[{\"alpha\":[0.05,0.1,0.2,0.3,0.4,0.5,1]}]\n",
    "regLasso = GridSearchCV(linear_model.Lasso(), param,cv=5,n_jobs=-1)\n",
    "regLassOpt=regLasso.fit(X_train, Y_train)\n",
    "# paramètre optimal\n",
    "print(\"Meilleur R2 = %f, Meilleur paramètre = %s\" % (regLassOpt.best_score_,regLassOpt.best_params_))\n",
    "\n",
    "Ypred_regLasso=regLassOpt.predict(X_test)\n",
    "\n",
    "print(\"MSE : \",mean_squared_error(Ypred_regLasso,Y_test))\n",
    "print(\"R2 : \",r2_score(Y_test,Ypred_regLasso))"
   ]
  },
  {
   "cell_type": "code",
   "execution_count": null,
   "metadata": {},
   "outputs": [],
   "source": [
    "regLasso=linear_model.Lasso(alpha=regLassOpt.best_params_['alpha'])\n",
    "regCoef=regLasso.fit(X_train,Y_train).coef_\n",
    "print(regCoef)"
   ]
  },
  {
   "cell_type": "code",
   "execution_count": null,
   "metadata": {},
   "outputs": [],
   "source": [
    "coef = pd.Series(regCoef, index = X_train.columns)\n",
    "print(\"Lasso conserve \" + str(sum(coef != 0)) + \n",
    "      \" variables et en supprime \" +  str(sum(coef == 0)))"
   ]
  },
  {
   "cell_type": "code",
   "execution_count": null,
   "metadata": {},
   "outputs": [],
   "source": [
    "imp_coef = coef.sort_values()\n",
    "plt.rcParams['figure.figsize'] = (6.0, 6.0)\n",
    "imp_coef.plot(kind = \"barh\")\n",
    "plt.title(u\"Coefficients du modèle lasso\")"
   ]
  },
  {
   "cell_type": "code",
   "execution_count": null,
   "metadata": {},
   "outputs": [],
   "source": [
    "model = LassoCV(cv=5, alphas=np.array(range(1,50,1))/20.,n_jobs=-1,random_state=13).fit(X_train,Y_train)\n",
    "m_log_alphas = -np.log10(model.alphas_)\n",
    "\n",
    "plt.figure()\n",
    "# ymin, ymax = 2300, 3800\n",
    "plt.plot(m_log_alphas, model.mse_path_, ':')\n",
    "plt.plot(m_log_alphas, model.mse_path_.mean(axis=-1), 'k',\n",
    "         label='MSE moyen', linewidth=2)\n",
    "plt.axvline(-np.log10(model.alpha_), linestyle='--', color='k',\n",
    "            label='alpha: optimal par VC')\n",
    "\n",
    "plt.legend()\n",
    "\n",
    "plt.xlabel('-log(alpha)')\n",
    "plt.ylabel('MSE')\n",
    "plt.title('MSE de chaque validation: coordinate descent ')\n",
    "plt.show()"
   ]
  },
  {
   "cell_type": "markdown",
   "metadata": {},
   "source": [
    "#### SVM Noyau linéaire"
   ]
  },
  {
   "cell_type": "code",
   "execution_count": null,
   "metadata": {},
   "outputs": [],
   "source": [
    "param=[{\"C\":[0.01,0.03,0.05,0.1,0.2,0.3,0.5,1,1.2,1.5,1.7,2,3,4]}]\n",
    "regsvm_l = GridSearchCV(SVR(kernel=\"linear\"), param, cv=5, n_jobs=-1)  # try kernel=\"rbf\" instead\n",
    "\n",
    "regsvmOpt_l=regsvm_l.fit(X_train, Y_train)\n",
    "\n",
    "print(\"Meilleur score = %f, Meilleur paramètre = %s\" % (regsvmOpt_l.best_score_,regsvmOpt_l.best_params_))\n",
    "\n",
    "Ypred_regsvml = regsvmOpt_l.predict(X_test)\n",
    "\n",
    "print(\"MSE : \",mean_squared_error(Ypred_regsvml,Y_test))\n",
    "print(\"R2 : \",r2_score(Y_test,Ypred_regsvml))\n",
    "\n"
   ]
  },
  {
   "cell_type": "markdown",
   "metadata": {},
   "source": [
    "#### SVM Noyau gaussien"
   ]
  },
  {
   "cell_type": "code",
   "execution_count": null,
   "metadata": {},
   "outputs": [],
   "source": [
    "param=[{\"C\":[0.01,0.03,0.05,0.1,0.2,0.3,0.5,1,1.2,1.5,1.7,2,3,4],\"gamma\":[0.01,0.02,0.05,0.07,0.1,0.15,0.2]}]\n",
    "regsvm_g = GridSearchCV(SVR(kernel=\"rbf\"), param, cv=5, n_jobs=-1)  \n",
    "\n",
    "regsvmOpt_g=regsvm_g.fit(X_train, Y_train)\n",
    "\n",
    "print(\"Meilleur score = %f, Meilleur paramètre = %s\" % (regsvmOpt_g.best_score_,regsvmOpt_g.best_params_))\n",
    "\n",
    "Ypred_regsvmg = regsvmOpt_g.predict(X_test)\n",
    "\n",
    "print(\"MSE : \",mean_squared_error(Ypred_regsvmg,Y_test))\n",
    "print(\"R2 : \",r2_score(Y_test,Ypred_regsvmg))\n"
   ]
  },
  {
   "cell_type": "markdown",
   "metadata": {},
   "source": [
    "#### SVM Noyau polynomial"
   ]
  },
  {
   "cell_type": "code",
   "execution_count": null,
   "metadata": {},
   "outputs": [],
   "source": [
    "param=[{\"C\":[0.01,0.03,0.05,0.1,0.2,0.3,0.5,1,1.2,1.5,1.7,2,3,4],\"gamma\":[0.01,0.02,0.05,0.07,0.1,0.15,0.2]}]\n",
    "regsvm_p = GridSearchCV(SVR(kernel=\"rbf\"), param, cv=5, n_jobs=-1)  \n",
    "\n",
    "regsvmOpt_p=regsvm_p.fit(X_train, Y_train)\n",
    "\n",
    "print(\"Meilleur score = %f, Meilleur paramètre = %s\" % (regsvmOpt_p.best_score_,regsvmOpt_p.best_params_))\n",
    "\n",
    "Ypred_regsvmp = regsvmOpt_p.predict(X_test)\n",
    "\n",
    "print(\"MSE : \",mean_squared_error(Ypred_regsvmp,Y_test))\n",
    "print(\"R2 : \",r2_score(Y_test,Ypred_regsvmp))"
   ]
  }
 ],
 "metadata": {
  "kernelspec": {
   "display_name": "Python 3 (ipykernel)",
   "language": "python",
   "name": "python3"
  },
  "language_info": {
   "codemirror_mode": {
    "name": "ipython",
    "version": 3
   },
   "file_extension": ".py",
   "mimetype": "text/x-python",
   "name": "python",
   "nbconvert_exporter": "python",
   "pygments_lexer": "ipython3",
   "version": "3.9.7"
  }
 },
 "nbformat": 4,
 "nbformat_minor": 2
}
