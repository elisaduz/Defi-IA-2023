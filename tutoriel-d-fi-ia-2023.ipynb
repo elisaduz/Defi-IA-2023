{
 "cells": [
  {
   "cell_type": "markdown",
   "id": "fd7960b1",
   "metadata": {
    "papermill": {
     "duration": 0.005474,
     "end_time": "2022-10-06T11:59:40.379015",
     "exception": false,
     "start_time": "2022-10-06T11:59:40.373541",
     "status": "completed"
    },
    "tags": []
   },
   "source": [
    "# Tutoriel d'usage de l'API"
   ]
  },
  {
   "cell_type": "code",
   "execution_count": 1,
   "id": "aec5dd60",
   "metadata": {
    "execution": {
     "iopub.execute_input": "2022-10-06T11:59:40.390301Z",
     "iopub.status.busy": "2022-10-06T11:59:40.389682Z",
     "iopub.status.idle": "2022-10-06T11:59:40.402447Z",
     "shell.execute_reply": "2022-10-06T11:59:40.401632Z"
    },
    "papermill": {
     "duration": 0.021302,
     "end_time": "2022-10-06T11:59:40.404818",
     "exception": false,
     "start_time": "2022-10-06T11:59:40.383516",
     "status": "completed"
    },
    "tags": []
   },
   "outputs": [],
   "source": [
    "import urllib.parse\n",
    "\n",
    "domain = \"51.91.251.0\"\n",
    "port = 3000\n",
    "host = f\"http://{domain}:{port}\"\n",
    "path = lambda x: urllib.parse.urljoin(host, x)"
   ]
  },
  {
   "cell_type": "markdown",
   "id": "d0566cb5",
   "metadata": {
    "papermill": {
     "duration": 0.003988,
     "end_time": "2022-10-06T11:59:40.413193",
     "exception": false,
     "start_time": "2022-10-06T11:59:40.409205",
     "status": "completed"
    },
    "tags": []
   },
   "source": [
    "## Creating an avatar"
   ]
  },
  {
   "cell_type": "markdown",
   "id": "0a4140f4",
   "metadata": {
    "papermill": {
     "duration": 0.004024,
     "end_time": "2022-10-06T11:59:40.421441",
     "exception": false,
     "start_time": "2022-10-06T11:59:40.417417",
     "status": "completed"
    },
    "tags": []
   },
   "source": [
    "The admin of the competition can create users. A user can then create as many avatars as they wish."
   ]
  },
  {
   "cell_type": "code",
   "execution_count": 2,
   "id": "d4a18882",
   "metadata": {
    "execution": {
     "iopub.execute_input": "2022-10-06T11:59:40.432149Z",
     "iopub.status.busy": "2022-10-06T11:59:40.431498Z",
     "iopub.status.idle": "2022-10-06T11:59:40.654576Z",
     "shell.execute_reply": "2022-10-06T11:59:40.652630Z"
    },
    "papermill": {
     "duration": 0.23497,
     "end_time": "2022-10-06T11:59:40.660791",
     "exception": false,
     "start_time": "2022-10-06T11:59:40.425821",
     "status": "completed"
    },
    "tags": []
   },
   "outputs": [
    {
     "ename": "ConnectionError",
     "evalue": "HTTPConnectionPool(host='51.91.251.0', port=3000): Max retries exceeded with url: /avatars/12e1e6fc-456b-4738-ba59-b90c3386f583/ema-first-avatar (Caused by NewConnectionError('<urllib3.connection.HTTPConnection object at 0x7f356d649550>: Failed to establish a new connection: [Errno 110] Connection timed out'))",
     "output_type": "error",
     "traceback": [
      "\u001b[0;31m---------------------------------------------------------------------------\u001b[0m",
      "\u001b[0;31mTimeoutError\u001b[0m                              Traceback (most recent call last)",
      "File \u001b[0;32m/usr/local/insa/anaconda/lib/python3.9/site-packages/urllib3/connection.py:174\u001b[0m, in \u001b[0;36mHTTPConnection._new_conn\u001b[0;34m(self)\u001b[0m\n\u001b[1;32m    173\u001b[0m \u001b[38;5;28;01mtry\u001b[39;00m:\n\u001b[0;32m--> 174\u001b[0m     conn \u001b[38;5;241m=\u001b[39m \u001b[43mconnection\u001b[49m\u001b[38;5;241;43m.\u001b[39;49m\u001b[43mcreate_connection\u001b[49m\u001b[43m(\u001b[49m\n\u001b[1;32m    175\u001b[0m \u001b[43m        \u001b[49m\u001b[43m(\u001b[49m\u001b[38;5;28;43mself\u001b[39;49m\u001b[38;5;241;43m.\u001b[39;49m\u001b[43m_dns_host\u001b[49m\u001b[43m,\u001b[49m\u001b[43m \u001b[49m\u001b[38;5;28;43mself\u001b[39;49m\u001b[38;5;241;43m.\u001b[39;49m\u001b[43mport\u001b[49m\u001b[43m)\u001b[49m\u001b[43m,\u001b[49m\u001b[43m \u001b[49m\u001b[38;5;28;43mself\u001b[39;49m\u001b[38;5;241;43m.\u001b[39;49m\u001b[43mtimeout\u001b[49m\u001b[43m,\u001b[49m\u001b[43m \u001b[49m\u001b[38;5;241;43m*\u001b[39;49m\u001b[38;5;241;43m*\u001b[39;49m\u001b[43mextra_kw\u001b[49m\n\u001b[1;32m    176\u001b[0m \u001b[43m    \u001b[49m\u001b[43m)\u001b[49m\n\u001b[1;32m    178\u001b[0m \u001b[38;5;28;01mexcept\u001b[39;00m SocketTimeout:\n",
      "File \u001b[0;32m/usr/local/insa/anaconda/lib/python3.9/site-packages/urllib3/util/connection.py:95\u001b[0m, in \u001b[0;36mcreate_connection\u001b[0;34m(address, timeout, source_address, socket_options)\u001b[0m\n\u001b[1;32m     94\u001b[0m \u001b[38;5;28;01mif\u001b[39;00m err \u001b[38;5;129;01mis\u001b[39;00m \u001b[38;5;129;01mnot\u001b[39;00m \u001b[38;5;28;01mNone\u001b[39;00m:\n\u001b[0;32m---> 95\u001b[0m     \u001b[38;5;28;01mraise\u001b[39;00m err\n\u001b[1;32m     97\u001b[0m \u001b[38;5;28;01mraise\u001b[39;00m socket\u001b[38;5;241m.\u001b[39merror(\u001b[38;5;124m\"\u001b[39m\u001b[38;5;124mgetaddrinfo returns an empty list\u001b[39m\u001b[38;5;124m\"\u001b[39m)\n",
      "File \u001b[0;32m/usr/local/insa/anaconda/lib/python3.9/site-packages/urllib3/util/connection.py:85\u001b[0m, in \u001b[0;36mcreate_connection\u001b[0;34m(address, timeout, source_address, socket_options)\u001b[0m\n\u001b[1;32m     84\u001b[0m     sock\u001b[38;5;241m.\u001b[39mbind(source_address)\n\u001b[0;32m---> 85\u001b[0m \u001b[43msock\u001b[49m\u001b[38;5;241;43m.\u001b[39;49m\u001b[43mconnect\u001b[49m\u001b[43m(\u001b[49m\u001b[43msa\u001b[49m\u001b[43m)\u001b[49m\n\u001b[1;32m     86\u001b[0m \u001b[38;5;28;01mreturn\u001b[39;00m sock\n",
      "\u001b[0;31mTimeoutError\u001b[0m: [Errno 110] Connection timed out",
      "\nDuring handling of the above exception, another exception occurred:\n",
      "\u001b[0;31mNewConnectionError\u001b[0m                        Traceback (most recent call last)",
      "File \u001b[0;32m/usr/local/insa/anaconda/lib/python3.9/site-packages/urllib3/connectionpool.py:703\u001b[0m, in \u001b[0;36mHTTPConnectionPool.urlopen\u001b[0;34m(self, method, url, body, headers, retries, redirect, assert_same_host, timeout, pool_timeout, release_conn, chunked, body_pos, **response_kw)\u001b[0m\n\u001b[1;32m    702\u001b[0m \u001b[38;5;66;03m# Make the request on the httplib connection object.\u001b[39;00m\n\u001b[0;32m--> 703\u001b[0m httplib_response \u001b[38;5;241m=\u001b[39m \u001b[38;5;28;43mself\u001b[39;49m\u001b[38;5;241;43m.\u001b[39;49m\u001b[43m_make_request\u001b[49m\u001b[43m(\u001b[49m\n\u001b[1;32m    704\u001b[0m \u001b[43m    \u001b[49m\u001b[43mconn\u001b[49m\u001b[43m,\u001b[49m\n\u001b[1;32m    705\u001b[0m \u001b[43m    \u001b[49m\u001b[43mmethod\u001b[49m\u001b[43m,\u001b[49m\n\u001b[1;32m    706\u001b[0m \u001b[43m    \u001b[49m\u001b[43murl\u001b[49m\u001b[43m,\u001b[49m\n\u001b[1;32m    707\u001b[0m \u001b[43m    \u001b[49m\u001b[43mtimeout\u001b[49m\u001b[38;5;241;43m=\u001b[39;49m\u001b[43mtimeout_obj\u001b[49m\u001b[43m,\u001b[49m\n\u001b[1;32m    708\u001b[0m \u001b[43m    \u001b[49m\u001b[43mbody\u001b[49m\u001b[38;5;241;43m=\u001b[39;49m\u001b[43mbody\u001b[49m\u001b[43m,\u001b[49m\n\u001b[1;32m    709\u001b[0m \u001b[43m    \u001b[49m\u001b[43mheaders\u001b[49m\u001b[38;5;241;43m=\u001b[39;49m\u001b[43mheaders\u001b[49m\u001b[43m,\u001b[49m\n\u001b[1;32m    710\u001b[0m \u001b[43m    \u001b[49m\u001b[43mchunked\u001b[49m\u001b[38;5;241;43m=\u001b[39;49m\u001b[43mchunked\u001b[49m\u001b[43m,\u001b[49m\n\u001b[1;32m    711\u001b[0m \u001b[43m\u001b[49m\u001b[43m)\u001b[49m\n\u001b[1;32m    713\u001b[0m \u001b[38;5;66;03m# If we're going to release the connection in ``finally:``, then\u001b[39;00m\n\u001b[1;32m    714\u001b[0m \u001b[38;5;66;03m# the response doesn't need to know about the connection. Otherwise\u001b[39;00m\n\u001b[1;32m    715\u001b[0m \u001b[38;5;66;03m# it will also try to release it and we'll have a double-release\u001b[39;00m\n\u001b[1;32m    716\u001b[0m \u001b[38;5;66;03m# mess.\u001b[39;00m\n",
      "File \u001b[0;32m/usr/local/insa/anaconda/lib/python3.9/site-packages/urllib3/connectionpool.py:398\u001b[0m, in \u001b[0;36mHTTPConnectionPool._make_request\u001b[0;34m(self, conn, method, url, timeout, chunked, **httplib_request_kw)\u001b[0m\n\u001b[1;32m    397\u001b[0m     \u001b[38;5;28;01melse\u001b[39;00m:\n\u001b[0;32m--> 398\u001b[0m         \u001b[43mconn\u001b[49m\u001b[38;5;241;43m.\u001b[39;49m\u001b[43mrequest\u001b[49m\u001b[43m(\u001b[49m\u001b[43mmethod\u001b[49m\u001b[43m,\u001b[49m\u001b[43m \u001b[49m\u001b[43murl\u001b[49m\u001b[43m,\u001b[49m\u001b[43m \u001b[49m\u001b[38;5;241;43m*\u001b[39;49m\u001b[38;5;241;43m*\u001b[39;49m\u001b[43mhttplib_request_kw\u001b[49m\u001b[43m)\u001b[49m\n\u001b[1;32m    400\u001b[0m \u001b[38;5;66;03m# We are swallowing BrokenPipeError (errno.EPIPE) since the server is\u001b[39;00m\n\u001b[1;32m    401\u001b[0m \u001b[38;5;66;03m# legitimately able to close the connection after sending a valid response.\u001b[39;00m\n\u001b[1;32m    402\u001b[0m \u001b[38;5;66;03m# With this behaviour, the received response is still readable.\u001b[39;00m\n",
      "File \u001b[0;32m/usr/local/insa/anaconda/lib/python3.9/site-packages/urllib3/connection.py:239\u001b[0m, in \u001b[0;36mHTTPConnection.request\u001b[0;34m(self, method, url, body, headers)\u001b[0m\n\u001b[1;32m    238\u001b[0m     headers[\u001b[38;5;124m\"\u001b[39m\u001b[38;5;124mUser-Agent\u001b[39m\u001b[38;5;124m\"\u001b[39m] \u001b[38;5;241m=\u001b[39m _get_default_user_agent()\n\u001b[0;32m--> 239\u001b[0m \u001b[38;5;28;43msuper\u001b[39;49m\u001b[43m(\u001b[49m\u001b[43mHTTPConnection\u001b[49m\u001b[43m,\u001b[49m\u001b[43m \u001b[49m\u001b[38;5;28;43mself\u001b[39;49m\u001b[43m)\u001b[49m\u001b[38;5;241;43m.\u001b[39;49m\u001b[43mrequest\u001b[49m\u001b[43m(\u001b[49m\u001b[43mmethod\u001b[49m\u001b[43m,\u001b[49m\u001b[43m \u001b[49m\u001b[43murl\u001b[49m\u001b[43m,\u001b[49m\u001b[43m \u001b[49m\u001b[43mbody\u001b[49m\u001b[38;5;241;43m=\u001b[39;49m\u001b[43mbody\u001b[49m\u001b[43m,\u001b[49m\u001b[43m \u001b[49m\u001b[43mheaders\u001b[49m\u001b[38;5;241;43m=\u001b[39;49m\u001b[43mheaders\u001b[49m\u001b[43m)\u001b[49m\n",
      "File \u001b[0;32m/usr/local/insa/anaconda/lib/python3.9/http/client.py:1285\u001b[0m, in \u001b[0;36mHTTPConnection.request\u001b[0;34m(self, method, url, body, headers, encode_chunked)\u001b[0m\n\u001b[1;32m   1284\u001b[0m \u001b[38;5;124;03m\"\"\"Send a complete request to the server.\"\"\"\u001b[39;00m\n\u001b[0;32m-> 1285\u001b[0m \u001b[38;5;28;43mself\u001b[39;49m\u001b[38;5;241;43m.\u001b[39;49m\u001b[43m_send_request\u001b[49m\u001b[43m(\u001b[49m\u001b[43mmethod\u001b[49m\u001b[43m,\u001b[49m\u001b[43m \u001b[49m\u001b[43murl\u001b[49m\u001b[43m,\u001b[49m\u001b[43m \u001b[49m\u001b[43mbody\u001b[49m\u001b[43m,\u001b[49m\u001b[43m \u001b[49m\u001b[43mheaders\u001b[49m\u001b[43m,\u001b[49m\u001b[43m \u001b[49m\u001b[43mencode_chunked\u001b[49m\u001b[43m)\u001b[49m\n",
      "File \u001b[0;32m/usr/local/insa/anaconda/lib/python3.9/http/client.py:1331\u001b[0m, in \u001b[0;36mHTTPConnection._send_request\u001b[0;34m(self, method, url, body, headers, encode_chunked)\u001b[0m\n\u001b[1;32m   1330\u001b[0m     body \u001b[38;5;241m=\u001b[39m _encode(body, \u001b[38;5;124m'\u001b[39m\u001b[38;5;124mbody\u001b[39m\u001b[38;5;124m'\u001b[39m)\n\u001b[0;32m-> 1331\u001b[0m \u001b[38;5;28;43mself\u001b[39;49m\u001b[38;5;241;43m.\u001b[39;49m\u001b[43mendheaders\u001b[49m\u001b[43m(\u001b[49m\u001b[43mbody\u001b[49m\u001b[43m,\u001b[49m\u001b[43m \u001b[49m\u001b[43mencode_chunked\u001b[49m\u001b[38;5;241;43m=\u001b[39;49m\u001b[43mencode_chunked\u001b[49m\u001b[43m)\u001b[49m\n",
      "File \u001b[0;32m/usr/local/insa/anaconda/lib/python3.9/http/client.py:1280\u001b[0m, in \u001b[0;36mHTTPConnection.endheaders\u001b[0;34m(self, message_body, encode_chunked)\u001b[0m\n\u001b[1;32m   1279\u001b[0m     \u001b[38;5;28;01mraise\u001b[39;00m CannotSendHeader()\n\u001b[0;32m-> 1280\u001b[0m \u001b[38;5;28;43mself\u001b[39;49m\u001b[38;5;241;43m.\u001b[39;49m\u001b[43m_send_output\u001b[49m\u001b[43m(\u001b[49m\u001b[43mmessage_body\u001b[49m\u001b[43m,\u001b[49m\u001b[43m \u001b[49m\u001b[43mencode_chunked\u001b[49m\u001b[38;5;241;43m=\u001b[39;49m\u001b[43mencode_chunked\u001b[49m\u001b[43m)\u001b[49m\n",
      "File \u001b[0;32m/usr/local/insa/anaconda/lib/python3.9/http/client.py:1040\u001b[0m, in \u001b[0;36mHTTPConnection._send_output\u001b[0;34m(self, message_body, encode_chunked)\u001b[0m\n\u001b[1;32m   1039\u001b[0m \u001b[38;5;28;01mdel\u001b[39;00m \u001b[38;5;28mself\u001b[39m\u001b[38;5;241m.\u001b[39m_buffer[:]\n\u001b[0;32m-> 1040\u001b[0m \u001b[38;5;28;43mself\u001b[39;49m\u001b[38;5;241;43m.\u001b[39;49m\u001b[43msend\u001b[49m\u001b[43m(\u001b[49m\u001b[43mmsg\u001b[49m\u001b[43m)\u001b[49m\n\u001b[1;32m   1042\u001b[0m \u001b[38;5;28;01mif\u001b[39;00m message_body \u001b[38;5;129;01mis\u001b[39;00m \u001b[38;5;129;01mnot\u001b[39;00m \u001b[38;5;28;01mNone\u001b[39;00m:\n\u001b[1;32m   1043\u001b[0m \n\u001b[1;32m   1044\u001b[0m     \u001b[38;5;66;03m# create a consistent interface to message_body\u001b[39;00m\n",
      "File \u001b[0;32m/usr/local/insa/anaconda/lib/python3.9/http/client.py:980\u001b[0m, in \u001b[0;36mHTTPConnection.send\u001b[0;34m(self, data)\u001b[0m\n\u001b[1;32m    979\u001b[0m \u001b[38;5;28;01mif\u001b[39;00m \u001b[38;5;28mself\u001b[39m\u001b[38;5;241m.\u001b[39mauto_open:\n\u001b[0;32m--> 980\u001b[0m     \u001b[38;5;28;43mself\u001b[39;49m\u001b[38;5;241;43m.\u001b[39;49m\u001b[43mconnect\u001b[49m\u001b[43m(\u001b[49m\u001b[43m)\u001b[49m\n\u001b[1;32m    981\u001b[0m \u001b[38;5;28;01melse\u001b[39;00m:\n",
      "File \u001b[0;32m/usr/local/insa/anaconda/lib/python3.9/site-packages/urllib3/connection.py:205\u001b[0m, in \u001b[0;36mHTTPConnection.connect\u001b[0;34m(self)\u001b[0m\n\u001b[1;32m    204\u001b[0m \u001b[38;5;28;01mdef\u001b[39;00m \u001b[38;5;21mconnect\u001b[39m(\u001b[38;5;28mself\u001b[39m):\n\u001b[0;32m--> 205\u001b[0m     conn \u001b[38;5;241m=\u001b[39m \u001b[38;5;28;43mself\u001b[39;49m\u001b[38;5;241;43m.\u001b[39;49m\u001b[43m_new_conn\u001b[49m\u001b[43m(\u001b[49m\u001b[43m)\u001b[49m\n\u001b[1;32m    206\u001b[0m     \u001b[38;5;28mself\u001b[39m\u001b[38;5;241m.\u001b[39m_prepare_conn(conn)\n",
      "File \u001b[0;32m/usr/local/insa/anaconda/lib/python3.9/site-packages/urllib3/connection.py:186\u001b[0m, in \u001b[0;36mHTTPConnection._new_conn\u001b[0;34m(self)\u001b[0m\n\u001b[1;32m    185\u001b[0m \u001b[38;5;28;01mexcept\u001b[39;00m SocketError \u001b[38;5;28;01mas\u001b[39;00m e:\n\u001b[0;32m--> 186\u001b[0m     \u001b[38;5;28;01mraise\u001b[39;00m NewConnectionError(\n\u001b[1;32m    187\u001b[0m         \u001b[38;5;28mself\u001b[39m, \u001b[38;5;124m\"\u001b[39m\u001b[38;5;124mFailed to establish a new connection: \u001b[39m\u001b[38;5;132;01m%s\u001b[39;00m\u001b[38;5;124m\"\u001b[39m \u001b[38;5;241m%\u001b[39m e\n\u001b[1;32m    188\u001b[0m     )\n\u001b[1;32m    190\u001b[0m \u001b[38;5;28;01mreturn\u001b[39;00m conn\n",
      "\u001b[0;31mNewConnectionError\u001b[0m: <urllib3.connection.HTTPConnection object at 0x7f356d649550>: Failed to establish a new connection: [Errno 110] Connection timed out",
      "\nDuring handling of the above exception, another exception occurred:\n",
      "\u001b[0;31mMaxRetryError\u001b[0m                             Traceback (most recent call last)",
      "File \u001b[0;32m/usr/local/insa/anaconda/lib/python3.9/site-packages/requests/adapters.py:489\u001b[0m, in \u001b[0;36mHTTPAdapter.send\u001b[0;34m(self, request, stream, timeout, verify, cert, proxies)\u001b[0m\n\u001b[1;32m    488\u001b[0m \u001b[38;5;28;01mif\u001b[39;00m \u001b[38;5;129;01mnot\u001b[39;00m chunked:\n\u001b[0;32m--> 489\u001b[0m     resp \u001b[38;5;241m=\u001b[39m \u001b[43mconn\u001b[49m\u001b[38;5;241;43m.\u001b[39;49m\u001b[43murlopen\u001b[49m\u001b[43m(\u001b[49m\n\u001b[1;32m    490\u001b[0m \u001b[43m        \u001b[49m\u001b[43mmethod\u001b[49m\u001b[38;5;241;43m=\u001b[39;49m\u001b[43mrequest\u001b[49m\u001b[38;5;241;43m.\u001b[39;49m\u001b[43mmethod\u001b[49m\u001b[43m,\u001b[49m\n\u001b[1;32m    491\u001b[0m \u001b[43m        \u001b[49m\u001b[43murl\u001b[49m\u001b[38;5;241;43m=\u001b[39;49m\u001b[43murl\u001b[49m\u001b[43m,\u001b[49m\n\u001b[1;32m    492\u001b[0m \u001b[43m        \u001b[49m\u001b[43mbody\u001b[49m\u001b[38;5;241;43m=\u001b[39;49m\u001b[43mrequest\u001b[49m\u001b[38;5;241;43m.\u001b[39;49m\u001b[43mbody\u001b[49m\u001b[43m,\u001b[49m\n\u001b[1;32m    493\u001b[0m \u001b[43m        \u001b[49m\u001b[43mheaders\u001b[49m\u001b[38;5;241;43m=\u001b[39;49m\u001b[43mrequest\u001b[49m\u001b[38;5;241;43m.\u001b[39;49m\u001b[43mheaders\u001b[49m\u001b[43m,\u001b[49m\n\u001b[1;32m    494\u001b[0m \u001b[43m        \u001b[49m\u001b[43mredirect\u001b[49m\u001b[38;5;241;43m=\u001b[39;49m\u001b[38;5;28;43;01mFalse\u001b[39;49;00m\u001b[43m,\u001b[49m\n\u001b[1;32m    495\u001b[0m \u001b[43m        \u001b[49m\u001b[43massert_same_host\u001b[49m\u001b[38;5;241;43m=\u001b[39;49m\u001b[38;5;28;43;01mFalse\u001b[39;49;00m\u001b[43m,\u001b[49m\n\u001b[1;32m    496\u001b[0m \u001b[43m        \u001b[49m\u001b[43mpreload_content\u001b[49m\u001b[38;5;241;43m=\u001b[39;49m\u001b[38;5;28;43;01mFalse\u001b[39;49;00m\u001b[43m,\u001b[49m\n\u001b[1;32m    497\u001b[0m \u001b[43m        \u001b[49m\u001b[43mdecode_content\u001b[49m\u001b[38;5;241;43m=\u001b[39;49m\u001b[38;5;28;43;01mFalse\u001b[39;49;00m\u001b[43m,\u001b[49m\n\u001b[1;32m    498\u001b[0m \u001b[43m        \u001b[49m\u001b[43mretries\u001b[49m\u001b[38;5;241;43m=\u001b[39;49m\u001b[38;5;28;43mself\u001b[39;49m\u001b[38;5;241;43m.\u001b[39;49m\u001b[43mmax_retries\u001b[49m\u001b[43m,\u001b[49m\n\u001b[1;32m    499\u001b[0m \u001b[43m        \u001b[49m\u001b[43mtimeout\u001b[49m\u001b[38;5;241;43m=\u001b[39;49m\u001b[43mtimeout\u001b[49m\u001b[43m,\u001b[49m\n\u001b[1;32m    500\u001b[0m \u001b[43m    \u001b[49m\u001b[43m)\u001b[49m\n\u001b[1;32m    502\u001b[0m \u001b[38;5;66;03m# Send the request.\u001b[39;00m\n\u001b[1;32m    503\u001b[0m \u001b[38;5;28;01melse\u001b[39;00m:\n",
      "File \u001b[0;32m/usr/local/insa/anaconda/lib/python3.9/site-packages/urllib3/connectionpool.py:787\u001b[0m, in \u001b[0;36mHTTPConnectionPool.urlopen\u001b[0;34m(self, method, url, body, headers, retries, redirect, assert_same_host, timeout, pool_timeout, release_conn, chunked, body_pos, **response_kw)\u001b[0m\n\u001b[1;32m    785\u001b[0m     e \u001b[38;5;241m=\u001b[39m ProtocolError(\u001b[38;5;124m\"\u001b[39m\u001b[38;5;124mConnection aborted.\u001b[39m\u001b[38;5;124m\"\u001b[39m, e)\n\u001b[0;32m--> 787\u001b[0m retries \u001b[38;5;241m=\u001b[39m \u001b[43mretries\u001b[49m\u001b[38;5;241;43m.\u001b[39;49m\u001b[43mincrement\u001b[49m\u001b[43m(\u001b[49m\n\u001b[1;32m    788\u001b[0m \u001b[43m    \u001b[49m\u001b[43mmethod\u001b[49m\u001b[43m,\u001b[49m\u001b[43m \u001b[49m\u001b[43murl\u001b[49m\u001b[43m,\u001b[49m\u001b[43m \u001b[49m\u001b[43merror\u001b[49m\u001b[38;5;241;43m=\u001b[39;49m\u001b[43me\u001b[49m\u001b[43m,\u001b[49m\u001b[43m \u001b[49m\u001b[43m_pool\u001b[49m\u001b[38;5;241;43m=\u001b[39;49m\u001b[38;5;28;43mself\u001b[39;49m\u001b[43m,\u001b[49m\u001b[43m \u001b[49m\u001b[43m_stacktrace\u001b[49m\u001b[38;5;241;43m=\u001b[39;49m\u001b[43msys\u001b[49m\u001b[38;5;241;43m.\u001b[39;49m\u001b[43mexc_info\u001b[49m\u001b[43m(\u001b[49m\u001b[43m)\u001b[49m\u001b[43m[\u001b[49m\u001b[38;5;241;43m2\u001b[39;49m\u001b[43m]\u001b[49m\n\u001b[1;32m    789\u001b[0m \u001b[43m\u001b[49m\u001b[43m)\u001b[49m\n\u001b[1;32m    790\u001b[0m retries\u001b[38;5;241m.\u001b[39msleep()\n",
      "File \u001b[0;32m/usr/local/insa/anaconda/lib/python3.9/site-packages/urllib3/util/retry.py:592\u001b[0m, in \u001b[0;36mRetry.increment\u001b[0;34m(self, method, url, response, error, _pool, _stacktrace)\u001b[0m\n\u001b[1;32m    591\u001b[0m \u001b[38;5;28;01mif\u001b[39;00m new_retry\u001b[38;5;241m.\u001b[39mis_exhausted():\n\u001b[0;32m--> 592\u001b[0m     \u001b[38;5;28;01mraise\u001b[39;00m MaxRetryError(_pool, url, error \u001b[38;5;129;01mor\u001b[39;00m ResponseError(cause))\n\u001b[1;32m    594\u001b[0m log\u001b[38;5;241m.\u001b[39mdebug(\u001b[38;5;124m\"\u001b[39m\u001b[38;5;124mIncremented Retry for (url=\u001b[39m\u001b[38;5;124m'\u001b[39m\u001b[38;5;132;01m%s\u001b[39;00m\u001b[38;5;124m'\u001b[39m\u001b[38;5;124m): \u001b[39m\u001b[38;5;132;01m%r\u001b[39;00m\u001b[38;5;124m\"\u001b[39m, url, new_retry)\n",
      "\u001b[0;31mMaxRetryError\u001b[0m: HTTPConnectionPool(host='51.91.251.0', port=3000): Max retries exceeded with url: /avatars/12e1e6fc-456b-4738-ba59-b90c3386f583/ema-first-avatar (Caused by NewConnectionError('<urllib3.connection.HTTPConnection object at 0x7f356d649550>: Failed to establish a new connection: [Errno 110] Connection timed out'))",
      "\nDuring handling of the above exception, another exception occurred:\n",
      "\u001b[0;31mConnectionError\u001b[0m                           Traceback (most recent call last)",
      "Input \u001b[0;32mIn [2]\u001b[0m, in \u001b[0;36m<cell line: 5>\u001b[0;34m()\u001b[0m\n\u001b[1;32m      3\u001b[0m user_id \u001b[38;5;241m=\u001b[39m \u001b[38;5;124m'\u001b[39m\u001b[38;5;124m12e1e6fc-456b-4738-ba59-b90c3386f583\u001b[39m\u001b[38;5;124m'\u001b[39m\n\u001b[1;32m      4\u001b[0m name \u001b[38;5;241m=\u001b[39m \u001b[38;5;124m'\u001b[39m\u001b[38;5;124mema-first-avatar\u001b[39m\u001b[38;5;124m'\u001b[39m\n\u001b[0;32m----> 5\u001b[0m r \u001b[38;5;241m=\u001b[39m \u001b[43mrequests\u001b[49m\u001b[38;5;241;43m.\u001b[39;49m\u001b[43mpost\u001b[49m\u001b[43m(\u001b[49m\u001b[43mpath\u001b[49m\u001b[43m(\u001b[49m\u001b[38;5;124;43mf\u001b[39;49m\u001b[38;5;124;43m'\u001b[39;49m\u001b[38;5;124;43mavatars/\u001b[39;49m\u001b[38;5;132;43;01m{\u001b[39;49;00m\u001b[43muser_id\u001b[49m\u001b[38;5;132;43;01m}\u001b[39;49;00m\u001b[38;5;124;43m/\u001b[39;49m\u001b[38;5;132;43;01m{\u001b[39;49;00m\u001b[43mname\u001b[49m\u001b[38;5;132;43;01m}\u001b[39;49;00m\u001b[38;5;124;43m'\u001b[39;49m\u001b[43m)\u001b[49m\u001b[43m)\u001b[49m\n\u001b[1;32m      6\u001b[0m r\n",
      "File \u001b[0;32m/usr/local/insa/anaconda/lib/python3.9/site-packages/requests/api.py:115\u001b[0m, in \u001b[0;36mpost\u001b[0;34m(url, data, json, **kwargs)\u001b[0m\n\u001b[1;32m    103\u001b[0m \u001b[38;5;28;01mdef\u001b[39;00m \u001b[38;5;21mpost\u001b[39m(url, data\u001b[38;5;241m=\u001b[39m\u001b[38;5;28;01mNone\u001b[39;00m, json\u001b[38;5;241m=\u001b[39m\u001b[38;5;28;01mNone\u001b[39;00m, \u001b[38;5;241m*\u001b[39m\u001b[38;5;241m*\u001b[39mkwargs):\n\u001b[1;32m    104\u001b[0m     \u001b[38;5;124mr\u001b[39m\u001b[38;5;124;03m\"\"\"Sends a POST request.\u001b[39;00m\n\u001b[1;32m    105\u001b[0m \n\u001b[1;32m    106\u001b[0m \u001b[38;5;124;03m    :param url: URL for the new :class:`Request` object.\u001b[39;00m\n\u001b[0;32m   (...)\u001b[0m\n\u001b[1;32m    112\u001b[0m \u001b[38;5;124;03m    :rtype: requests.Response\u001b[39;00m\n\u001b[1;32m    113\u001b[0m \u001b[38;5;124;03m    \"\"\"\u001b[39;00m\n\u001b[0;32m--> 115\u001b[0m     \u001b[38;5;28;01mreturn\u001b[39;00m \u001b[43mrequest\u001b[49m\u001b[43m(\u001b[49m\u001b[38;5;124;43m\"\u001b[39;49m\u001b[38;5;124;43mpost\u001b[39;49m\u001b[38;5;124;43m\"\u001b[39;49m\u001b[43m,\u001b[49m\u001b[43m \u001b[49m\u001b[43murl\u001b[49m\u001b[43m,\u001b[49m\u001b[43m \u001b[49m\u001b[43mdata\u001b[49m\u001b[38;5;241;43m=\u001b[39;49m\u001b[43mdata\u001b[49m\u001b[43m,\u001b[49m\u001b[43m \u001b[49m\u001b[43mjson\u001b[49m\u001b[38;5;241;43m=\u001b[39;49m\u001b[43mjson\u001b[49m\u001b[43m,\u001b[49m\u001b[43m \u001b[49m\u001b[38;5;241;43m*\u001b[39;49m\u001b[38;5;241;43m*\u001b[39;49m\u001b[43mkwargs\u001b[49m\u001b[43m)\u001b[49m\n",
      "File \u001b[0;32m/usr/local/insa/anaconda/lib/python3.9/site-packages/requests/api.py:59\u001b[0m, in \u001b[0;36mrequest\u001b[0;34m(method, url, **kwargs)\u001b[0m\n\u001b[1;32m     55\u001b[0m \u001b[38;5;66;03m# By using the 'with' statement we are sure the session is closed, thus we\u001b[39;00m\n\u001b[1;32m     56\u001b[0m \u001b[38;5;66;03m# avoid leaving sockets open which can trigger a ResourceWarning in some\u001b[39;00m\n\u001b[1;32m     57\u001b[0m \u001b[38;5;66;03m# cases, and look like a memory leak in others.\u001b[39;00m\n\u001b[1;32m     58\u001b[0m \u001b[38;5;28;01mwith\u001b[39;00m sessions\u001b[38;5;241m.\u001b[39mSession() \u001b[38;5;28;01mas\u001b[39;00m session:\n\u001b[0;32m---> 59\u001b[0m     \u001b[38;5;28;01mreturn\u001b[39;00m \u001b[43msession\u001b[49m\u001b[38;5;241;43m.\u001b[39;49m\u001b[43mrequest\u001b[49m\u001b[43m(\u001b[49m\u001b[43mmethod\u001b[49m\u001b[38;5;241;43m=\u001b[39;49m\u001b[43mmethod\u001b[49m\u001b[43m,\u001b[49m\u001b[43m \u001b[49m\u001b[43murl\u001b[49m\u001b[38;5;241;43m=\u001b[39;49m\u001b[43murl\u001b[49m\u001b[43m,\u001b[49m\u001b[43m \u001b[49m\u001b[38;5;241;43m*\u001b[39;49m\u001b[38;5;241;43m*\u001b[39;49m\u001b[43mkwargs\u001b[49m\u001b[43m)\u001b[49m\n",
      "File \u001b[0;32m/usr/local/insa/anaconda/lib/python3.9/site-packages/requests/sessions.py:587\u001b[0m, in \u001b[0;36mSession.request\u001b[0;34m(self, method, url, params, data, headers, cookies, files, auth, timeout, allow_redirects, proxies, hooks, stream, verify, cert, json)\u001b[0m\n\u001b[1;32m    582\u001b[0m send_kwargs \u001b[38;5;241m=\u001b[39m {\n\u001b[1;32m    583\u001b[0m     \u001b[38;5;124m\"\u001b[39m\u001b[38;5;124mtimeout\u001b[39m\u001b[38;5;124m\"\u001b[39m: timeout,\n\u001b[1;32m    584\u001b[0m     \u001b[38;5;124m\"\u001b[39m\u001b[38;5;124mallow_redirects\u001b[39m\u001b[38;5;124m\"\u001b[39m: allow_redirects,\n\u001b[1;32m    585\u001b[0m }\n\u001b[1;32m    586\u001b[0m send_kwargs\u001b[38;5;241m.\u001b[39mupdate(settings)\n\u001b[0;32m--> 587\u001b[0m resp \u001b[38;5;241m=\u001b[39m \u001b[38;5;28;43mself\u001b[39;49m\u001b[38;5;241;43m.\u001b[39;49m\u001b[43msend\u001b[49m\u001b[43m(\u001b[49m\u001b[43mprep\u001b[49m\u001b[43m,\u001b[49m\u001b[43m \u001b[49m\u001b[38;5;241;43m*\u001b[39;49m\u001b[38;5;241;43m*\u001b[39;49m\u001b[43msend_kwargs\u001b[49m\u001b[43m)\u001b[49m\n\u001b[1;32m    589\u001b[0m \u001b[38;5;28;01mreturn\u001b[39;00m resp\n",
      "File \u001b[0;32m/usr/local/insa/anaconda/lib/python3.9/site-packages/requests/sessions.py:701\u001b[0m, in \u001b[0;36mSession.send\u001b[0;34m(self, request, **kwargs)\u001b[0m\n\u001b[1;32m    698\u001b[0m start \u001b[38;5;241m=\u001b[39m preferred_clock()\n\u001b[1;32m    700\u001b[0m \u001b[38;5;66;03m# Send the request\u001b[39;00m\n\u001b[0;32m--> 701\u001b[0m r \u001b[38;5;241m=\u001b[39m \u001b[43madapter\u001b[49m\u001b[38;5;241;43m.\u001b[39;49m\u001b[43msend\u001b[49m\u001b[43m(\u001b[49m\u001b[43mrequest\u001b[49m\u001b[43m,\u001b[49m\u001b[43m \u001b[49m\u001b[38;5;241;43m*\u001b[39;49m\u001b[38;5;241;43m*\u001b[39;49m\u001b[43mkwargs\u001b[49m\u001b[43m)\u001b[49m\n\u001b[1;32m    703\u001b[0m \u001b[38;5;66;03m# Total elapsed time of the request (approximately)\u001b[39;00m\n\u001b[1;32m    704\u001b[0m elapsed \u001b[38;5;241m=\u001b[39m preferred_clock() \u001b[38;5;241m-\u001b[39m start\n",
      "File \u001b[0;32m/usr/local/insa/anaconda/lib/python3.9/site-packages/requests/adapters.py:565\u001b[0m, in \u001b[0;36mHTTPAdapter.send\u001b[0;34m(self, request, stream, timeout, verify, cert, proxies)\u001b[0m\n\u001b[1;32m    561\u001b[0m     \u001b[38;5;28;01mif\u001b[39;00m \u001b[38;5;28misinstance\u001b[39m(e\u001b[38;5;241m.\u001b[39mreason, _SSLError):\n\u001b[1;32m    562\u001b[0m         \u001b[38;5;66;03m# This branch is for urllib3 v1.22 and later.\u001b[39;00m\n\u001b[1;32m    563\u001b[0m         \u001b[38;5;28;01mraise\u001b[39;00m SSLError(e, request\u001b[38;5;241m=\u001b[39mrequest)\n\u001b[0;32m--> 565\u001b[0m     \u001b[38;5;28;01mraise\u001b[39;00m \u001b[38;5;167;01mConnectionError\u001b[39;00m(e, request\u001b[38;5;241m=\u001b[39mrequest)\n\u001b[1;32m    567\u001b[0m \u001b[38;5;28;01mexcept\u001b[39;00m ClosedPoolError \u001b[38;5;28;01mas\u001b[39;00m e:\n\u001b[1;32m    568\u001b[0m     \u001b[38;5;28;01mraise\u001b[39;00m \u001b[38;5;167;01mConnectionError\u001b[39;00m(e, request\u001b[38;5;241m=\u001b[39mrequest)\n",
      "\u001b[0;31mConnectionError\u001b[0m: HTTPConnectionPool(host='51.91.251.0', port=3000): Max retries exceeded with url: /avatars/12e1e6fc-456b-4738-ba59-b90c3386f583/ema-first-avatar (Caused by NewConnectionError('<urllib3.connection.HTTPConnection object at 0x7f356d649550>: Failed to establish a new connection: [Errno 110] Connection timed out'))"
     ]
    }
   ],
   "source": [
    "import requests\n",
    "\n",
    "user_id = '12e1e6fc-456b-4738-ba59-b90c3386f583'\n",
    "name = 'ema-first-avatar'\n",
    "r = requests.post(path(f'avatars/{user_id}/{name}'))\n",
    "r"
   ]
  },
  {
   "cell_type": "code",
   "execution_count": 3,
   "id": "6acc793f",
   "metadata": {
    "execution": {
     "iopub.execute_input": "2022-10-06T11:59:40.673570Z",
     "iopub.status.busy": "2022-10-06T11:59:40.672368Z",
     "iopub.status.idle": "2022-10-06T11:59:40.883155Z",
     "shell.execute_reply": "2022-10-06T11:59:40.881934Z"
    },
    "papermill": {
     "duration": 0.219214,
     "end_time": "2022-10-06T11:59:40.885475",
     "exception": false,
     "start_time": "2022-10-06T11:59:40.666261",
     "status": "completed"
    },
    "tags": []
   },
   "outputs": [
    {
     "data": {
      "text/plain": [
       "<Response [200]>"
      ]
     },
     "execution_count": 3,
     "metadata": {},
     "output_type": "execute_result"
    }
   ],
   "source": [
    "name = 'max-second-avatar'\n",
    "r = requests.post(path(f\"avatars/{user_id}/{name}\"))\n",
    "r"
   ]
  },
  {
   "cell_type": "code",
   "execution_count": 4,
   "id": "07166f1d",
   "metadata": {
    "execution": {
     "iopub.execute_input": "2022-10-06T11:59:40.896525Z",
     "iopub.status.busy": "2022-10-06T11:59:40.895549Z",
     "iopub.status.idle": "2022-10-06T11:59:41.102485Z",
     "shell.execute_reply": "2022-10-06T11:59:41.101223Z"
    },
    "papermill": {
     "duration": 0.215119,
     "end_time": "2022-10-06T11:59:41.105182",
     "exception": false,
     "start_time": "2022-10-06T11:59:40.890063",
     "status": "completed"
    },
    "tags": []
   },
   "outputs": [
    {
     "name": "stdout",
     "output_type": "stream",
     "text": [
      "5 max-first-avatar\n",
      "6 max-second-avatar\n"
     ]
    }
   ],
   "source": [
    "r = requests.get(path(f\"avatars/{user_id}\"))\n",
    "for avatar in r.json():\n",
    "    print(avatar['id'], avatar['name'])"
   ]
  },
  {
   "cell_type": "markdown",
   "id": "66849c07",
   "metadata": {
    "papermill": {
     "duration": 0.004317,
     "end_time": "2022-10-06T11:59:41.114227",
     "exception": false,
     "start_time": "2022-10-06T11:59:41.109910",
     "status": "completed"
    },
    "tags": []
   },
   "source": [
    "## Making pricing requests"
   ]
  },
  {
   "cell_type": "code",
   "execution_count": 5,
   "id": "87a2a631",
   "metadata": {
    "execution": {
     "iopub.execute_input": "2022-10-06T11:59:41.125216Z",
     "iopub.status.busy": "2022-10-06T11:59:41.124835Z",
     "iopub.status.idle": "2022-10-06T11:59:41.382965Z",
     "shell.execute_reply": "2022-10-06T11:59:41.381761Z"
    },
    "papermill": {
     "duration": 0.266446,
     "end_time": "2022-10-06T11:59:41.385306",
     "exception": false,
     "start_time": "2022-10-06T11:59:41.118860",
     "status": "completed"
    },
    "tags": []
   },
   "outputs": [
    {
     "data": {
      "text/plain": [
       "{'prices': [{'hotel_id': 720, 'price': 467, 'stock': 2},\n",
       "  {'hotel_id': 434, 'price': 114, 'stock': 0},\n",
       "  {'hotel_id': 349, 'price': 317, 'stock': 1},\n",
       "  {'hotel_id': 367, 'price': 96, 'stock': 0},\n",
       "  {'hotel_id': 952, 'price': 94, 'stock': 0},\n",
       "  {'hotel_id': 528, 'price': 432, 'stock': 2},\n",
       "  {'hotel_id': 990, 'price': 168, 'stock': 0},\n",
       "  {'hotel_id': 60, 'price': 94, 'stock': 0},\n",
       "  {'hotel_id': 834, 'price': 91, 'stock': 0},\n",
       "  {'hotel_id': 757, 'price': 151, 'stock': 1},\n",
       "  {'hotel_id': 531, 'price': 204, 'stock': 2},\n",
       "  {'hotel_id': 772, 'price': 327, 'stock': 0},\n",
       "  {'hotel_id': 664, 'price': 472, 'stock': 2},\n",
       "  {'hotel_id': 332, 'price': 333, 'stock': 1},\n",
       "  {'hotel_id': 113, 'price': 89, 'stock': 0},\n",
       "  {'hotel_id': 445, 'price': 89, 'stock': 0},\n",
       "  {'hotel_id': 695, 'price': 202, 'stock': 2},\n",
       "  {'hotel_id': 142, 'price': 390, 'stock': 4},\n",
       "  {'hotel_id': 547, 'price': 202, 'stock': 2},\n",
       "  {'hotel_id': 793, 'price': 167, 'stock': 0},\n",
       "  {'hotel_id': 994, 'price': 193, 'stock': 2},\n",
       "  {'hotel_id': 300, 'price': 145, 'stock': 1},\n",
       "  {'hotel_id': 818, 'price': 173, 'stock': 0},\n",
       "  {'hotel_id': 562, 'price': 327, 'stock': 1},\n",
       "  {'hotel_id': 1, 'price': 95, 'stock': 0},\n",
       "  {'hotel_id': 518, 'price': 194, 'stock': 1},\n",
       "  {'hotel_id': 497, 'price': 269, 'stock': 4},\n",
       "  {'hotel_id': 771, 'price': 478, 'stock': 2},\n",
       "  {'hotel_id': 539, 'price': 351, 'stock': 3},\n",
       "  {'hotel_id': 622, 'price': 213, 'stock': 1},\n",
       "  {'hotel_id': 829, 'price': 202, 'stock': 2},\n",
       "  {'hotel_id': 401, 'price': 196, 'stock': 0},\n",
       "  {'hotel_id': 96, 'price': 194, 'stock': 1},\n",
       "  {'hotel_id': 425, 'price': 308, 'stock': 1},\n",
       "  {'hotel_id': 43, 'price': 79, 'stock': 16},\n",
       "  {'hotel_id': 669, 'price': 322, 'stock': 1},\n",
       "  {'hotel_id': 358, 'price': 306, 'stock': 1},\n",
       "  {'hotel_id': 698, 'price': 231, 'stock': 6},\n",
       "  {'hotel_id': 961, 'price': 229, 'stock': 7},\n",
       "  {'hotel_id': 405, 'price': 97, 'stock': 0},\n",
       "  {'hotel_id': 348, 'price': 198, 'stock': 2},\n",
       "  {'hotel_id': 407, 'price': 317, 'stock': 1},\n",
       "  {'hotel_id': 402, 'price': 128, 'stock': 0},\n",
       "  {'hotel_id': 249, 'price': 87, 'stock': 0},\n",
       "  {'hotel_id': 900, 'price': 235, 'stock': 0},\n",
       "  {'hotel_id': 463, 'price': 97, 'stock': 0},\n",
       "  {'hotel_id': 318, 'price': 141, 'stock': 0},\n",
       "  {'hotel_id': 6, 'price': 120, 'stock': 0},\n",
       "  {'hotel_id': 194, 'price': 118, 'stock': 0},\n",
       "  {'hotel_id': 805, 'price': 202, 'stock': 2},\n",
       "  {'hotel_id': 898, 'price': 92, 'stock': 0},\n",
       "  {'hotel_id': 443, 'price': 145, 'stock': 1},\n",
       "  {'hotel_id': 855, 'price': 311, 'stock': 1},\n",
       "  {'hotel_id': 978, 'price': 335, 'stock': 4},\n",
       "  {'hotel_id': 391, 'price': 191, 'stock': 2},\n",
       "  {'hotel_id': 100, 'price': 87, 'stock': 0},\n",
       "  {'hotel_id': 958, 'price': 239, 'stock': 0},\n",
       "  {'hotel_id': 844, 'price': 469, 'stock': 2},\n",
       "  {'hotel_id': 959, 'price': 221, 'stock': 4},\n",
       "  {'hotel_id': 556, 'price': 175, 'stock': 0},\n",
       "  {'hotel_id': 335, 'price': 90, 'stock': 0},\n",
       "  {'hotel_id': 989, 'price': 108, 'stock': 0},\n",
       "  {'hotel_id': 981, 'price': 110, 'stock': 0},\n",
       "  {'hotel_id': 523, 'price': 104, 'stock': 3},\n",
       "  {'hotel_id': 58, 'price': 322, 'stock': 1},\n",
       "  {'hotel_id': 251, 'price': 165, 'stock': 0},\n",
       "  {'hotel_id': 53, 'price': 94, 'stock': 0},\n",
       "  {'hotel_id': 770, 'price': 336, 'stock': 1},\n",
       "  {'hotel_id': 707, 'price': 335, 'stock': 5},\n",
       "  {'hotel_id': 766, 'price': 467, 'stock': 2},\n",
       "  {'hotel_id': 508, 'price': 339, 'stock': 1},\n",
       "  {'hotel_id': 761, 'price': 145, 'stock': 0},\n",
       "  {'hotel_id': 872, 'price': 97, 'stock': 0},\n",
       "  {'hotel_id': 110, 'price': 202, 'stock': 2},\n",
       "  {'hotel_id': 153, 'price': 333, 'stock': 1},\n",
       "  {'hotel_id': 546, 'price': 108, 'stock': 1},\n",
       "  {'hotel_id': 78, 'price': 461, 'stock': 2},\n",
       "  {'hotel_id': 532, 'price': 342, 'stock': 1},\n",
       "  {'hotel_id': 596, 'price': 170, 'stock': 0},\n",
       "  {'hotel_id': 983, 'price': 91, 'stock': 0},\n",
       "  {'hotel_id': 36, 'price': 193, 'stock': 0},\n",
       "  {'hotel_id': 243, 'price': 97, 'stock': 0},\n",
       "  {'hotel_id': 726, 'price': 325, 'stock': 3},\n",
       "  {'hotel_id': 506, 'price': 148, 'stock': 0},\n",
       "  {'hotel_id': 280, 'price': 117, 'stock': 12},\n",
       "  {'hotel_id': 876, 'price': 141, 'stock': 0},\n",
       "  {'hotel_id': 716, 'price': 143, 'stock': 0},\n",
       "  {'hotel_id': 559, 'price': 299, 'stock': 1},\n",
       "  {'hotel_id': 422, 'price': 481, 'stock': 2},\n",
       "  {'hotel_id': 826, 'price': 196, 'stock': 8},\n",
       "  {'hotel_id': 727, 'price': 121, 'stock': 0},\n",
       "  {'hotel_id': 365, 'price': 94, 'stock': 0},\n",
       "  {'hotel_id': 908, 'price': 481, 'stock': 2},\n",
       "  {'hotel_id': 267, 'price': 173, 'stock': 0},\n",
       "  {'hotel_id': 930, 'price': 120, 'stock': 0},\n",
       "  {'hotel_id': 487, 'price': 166, 'stock': 8},\n",
       "  {'hotel_id': 91, 'price': 128, 'stock': 0},\n",
       "  {'hotel_id': 744, 'price': 170, 'stock': 0},\n",
       "  {'hotel_id': 23, 'price': 198, 'stock': 2},\n",
       "  {'hotel_id': 90, 'price': 200, 'stock': 2},\n",
       "  {'hotel_id': 922, 'price': 342, 'stock': 1},\n",
       "  {'hotel_id': 865, 'price': 277, 'stock': 7},\n",
       "  {'hotel_id': 435, 'price': 464, 'stock': 2},\n",
       "  {'hotel_id': 572, 'price': 231, 'stock': 0},\n",
       "  {'hotel_id': 329, 'price': 239, 'stock': 0},\n",
       "  {'hotel_id': 691, 'price': 89, 'stock': 0},\n",
       "  {'hotel_id': 831, 'price': 108, 'stock': 5},\n",
       "  {'hotel_id': 973, 'price': 171, 'stock': 0},\n",
       "  {'hotel_id': 291, 'price': 256, 'stock': 1},\n",
       "  {'hotel_id': 938, 'price': 121, 'stock': 0},\n",
       "  {'hotel_id': 202, 'price': 198, 'stock': 2},\n",
       "  {'hotel_id': 32, 'price': 175, 'stock': 0},\n",
       "  {'hotel_id': 812, 'price': 200, 'stock': 0},\n",
       "  {'hotel_id': 431, 'price': 123, 'stock': 0},\n",
       "  {'hotel_id': 289, 'price': 140, 'stock': 0},\n",
       "  {'hotel_id': 688, 'price': 87, 'stock': 0},\n",
       "  {'hotel_id': 92, 'price': 84, 'stock': 3},\n",
       "  {'hotel_id': 690, 'price': 241, 'stock': 4},\n",
       "  {'hotel_id': 611, 'price': 204, 'stock': 0},\n",
       "  {'hotel_id': 638, 'price': 153, 'stock': 6},\n",
       "  {'hotel_id': 995, 'price': 214, 'stock': 3},\n",
       "  {'hotel_id': 541, 'price': 155, 'stock': 1},\n",
       "  {'hotel_id': 711, 'price': 140, 'stock': 2},\n",
       "  {'hotel_id': 433, 'price': 143, 'stock': 2},\n",
       "  {'hotel_id': 309, 'price': 94, 'stock': 0},\n",
       "  {'hotel_id': 893, 'price': 229, 'stock': 0},\n",
       "  {'hotel_id': 830, 'price': 89, 'stock': 0},\n",
       "  {'hotel_id': 849, 'price': 198, 'stock': 2},\n",
       "  {'hotel_id': 481, 'price': 95, 'stock': 0},\n",
       "  {'hotel_id': 50, 'price': 149, 'stock': 1},\n",
       "  {'hotel_id': 869, 'price': 469, 'stock': 1},\n",
       "  {'hotel_id': 951, 'price': 87, 'stock': 0},\n",
       "  {'hotel_id': 99, 'price': 202, 'stock': 0},\n",
       "  {'hotel_id': 616, 'price': 198, 'stock': 0}],\n",
       " 'request': {'city': 'copenhagen',\n",
       "  'date': 2,\n",
       "  'language': 'hungarian',\n",
       "  'mobile': 0,\n",
       "  'avatar_id': 5}}"
      ]
     },
     "execution_count": 5,
     "metadata": {},
     "output_type": "execute_result"
    }
   ],
   "source": [
    "params = {\n",
    "    \"avatar_name\": \"max-first-avatar\",\n",
    "    \"language\": \"hungarian\",\n",
    "    \"city\": \"copenhagen\",\n",
    "    \"date\": 2,\n",
    "    \"mobile\": 0,\n",
    "}\n",
    "r1 = requests.get(path(f\"pricing/{user_id}\"), params=params)\n",
    "r1.json()"
   ]
  },
  {
   "cell_type": "code",
   "execution_count": 6,
   "id": "1b9bdf21",
   "metadata": {
    "execution": {
     "iopub.execute_input": "2022-10-06T11:59:41.396474Z",
     "iopub.status.busy": "2022-10-06T11:59:41.396131Z",
     "iopub.status.idle": "2022-10-06T11:59:41.602776Z",
     "shell.execute_reply": "2022-10-06T11:59:41.601646Z"
    },
    "papermill": {
     "duration": 0.214904,
     "end_time": "2022-10-06T11:59:41.605119",
     "exception": false,
     "start_time": "2022-10-06T11:59:41.390215",
     "status": "completed"
    },
    "tags": []
   },
   "outputs": [
    {
     "data": {
      "text/plain": [
       "(422, 'A pricing request for this avatar already exists for a sooner date')"
      ]
     },
     "execution_count": 6,
     "metadata": {},
     "output_type": "execute_result"
    }
   ],
   "source": [
    "params = {\n",
    "    \"avatar_name\": \"max-first-avatar\",\n",
    "    \"language\": \"hungarian\",\n",
    "    \"city\": \"copenhagen\",\n",
    "    \"date\": 3,\n",
    "    \"mobile\": 0,\n",
    "}\n",
    "r = requests.get(path(f\"pricing/{user_id}\"), params=params)\n",
    "r.status_code, r.json()['detail']"
   ]
  },
  {
   "cell_type": "code",
   "execution_count": 7,
   "id": "9b385ae7",
   "metadata": {
    "execution": {
     "iopub.execute_input": "2022-10-06T11:59:41.617899Z",
     "iopub.status.busy": "2022-10-06T11:59:41.616898Z",
     "iopub.status.idle": "2022-10-06T11:59:41.877758Z",
     "shell.execute_reply": "2022-10-06T11:59:41.876771Z"
    },
    "papermill": {
     "duration": 0.269387,
     "end_time": "2022-10-06T11:59:41.880014",
     "exception": false,
     "start_time": "2022-10-06T11:59:41.610627",
     "status": "completed"
    },
    "tags": []
   },
   "outputs": [
    {
     "data": {
      "text/plain": [
       "{'prices': [{'hotel_id': 12, 'price': 76, 'stock': 0},\n",
       "  {'hotel_id': 567, 'price': 89, 'stock': 0},\n",
       "  {'hotel_id': 630, 'price': 150, 'stock': 0},\n",
       "  {'hotel_id': 307, 'price': 123, 'stock': 0},\n",
       "  {'hotel_id': 807, 'price': 396, 'stock': 1},\n",
       "  {'hotel_id': 317, 'price': 182, 'stock': 1},\n",
       "  {'hotel_id': 809, 'price': 396, 'stock': 1},\n",
       "  {'hotel_id': 269, 'price': 148, 'stock': 0},\n",
       "  {'hotel_id': 821, 'price': 107, 'stock': 0},\n",
       "  {'hotel_id': 441, 'price': 190, 'stock': 1},\n",
       "  {'hotel_id': 603, 'price': 349, 'stock': 1},\n",
       "  {'hotel_id': 557, 'price': 109, 'stock': 0},\n",
       "  {'hotel_id': 588, 'price': 169, 'stock': 0},\n",
       "  {'hotel_id': 211, 'price': 144, 'stock': 0},\n",
       "  {'hotel_id': 657, 'price': 250, 'stock': 1},\n",
       "  {'hotel_id': 517, 'price': 168, 'stock': 0},\n",
       "  {'hotel_id': 85, 'price': 153, 'stock': 0},\n",
       "  {'hotel_id': 271, 'price': 79, 'stock': 0},\n",
       "  {'hotel_id': 103, 'price': 176, 'stock': 7},\n",
       "  {'hotel_id': 163, 'price': 283, 'stock': 1},\n",
       "  {'hotel_id': 450, 'price': 153, 'stock': 16},\n",
       "  {'hotel_id': 158, 'price': 159, 'stock': 1},\n",
       "  {'hotel_id': 745, 'price': 107, 'stock': 0},\n",
       "  {'hotel_id': 172, 'price': 128, 'stock': 0},\n",
       "  {'hotel_id': 925, 'price': 121, 'stock': 0},\n",
       "  {'hotel_id': 960, 'price': 397, 'stock': 1},\n",
       "  {'hotel_id': 515, 'price': 397, 'stock': 1},\n",
       "  {'hotel_id': 706, 'price': 123, 'stock': 0},\n",
       "  {'hotel_id': 86, 'price': 109, 'stock': 0},\n",
       "  {'hotel_id': 762, 'price': 170, 'stock': 1},\n",
       "  {'hotel_id': 752, 'price': 392, 'stock': 1},\n",
       "  {'hotel_id': 892, 'price': 271, 'stock': 1},\n",
       "  {'hotel_id': 373, 'price': 175, 'stock': 0},\n",
       "  {'hotel_id': 779, 'price': 290, 'stock': 1},\n",
       "  {'hotel_id': 326, 'price': 349, 'stock': 1},\n",
       "  {'hotel_id': 658, 'price': 173, 'stock': 0},\n",
       "  {'hotel_id': 283, 'price': 103, 'stock': 1},\n",
       "  {'hotel_id': 917, 'price': 394, 'stock': 1},\n",
       "  {'hotel_id': 442, 'price': 171, 'stock': 1},\n",
       "  {'hotel_id': 674, 'price': 131, 'stock': 0},\n",
       "  {'hotel_id': 193, 'price': 144, 'stock': 0},\n",
       "  {'hotel_id': 967, 'price': 76, 'stock': 0},\n",
       "  {'hotel_id': 303, 'price': 207, 'stock': 0},\n",
       "  {'hotel_id': 460, 'price': 81, 'stock': 0},\n",
       "  {'hotel_id': 223, 'price': 147, 'stock': 0},\n",
       "  {'hotel_id': 369, 'price': 73, 'stock': 0},\n",
       "  {'hotel_id': 835, 'price': 92, 'stock': 25},\n",
       "  {'hotel_id': 778, 'price': 106, 'stock': 0},\n",
       "  {'hotel_id': 760, 'price': 266, 'stock': 1},\n",
       "  {'hotel_id': 891, 'price': 110, 'stock': 4},\n",
       "  {'hotel_id': 750, 'price': 101, 'stock': 7},\n",
       "  {'hotel_id': 581, 'price': 145, 'stock': 0},\n",
       "  {'hotel_id': 10, 'price': 148, 'stock': 0},\n",
       "  {'hotel_id': 429, 'price': 223, 'stock': 9},\n",
       "  {'hotel_id': 230, 'price': 178, 'stock': 0},\n",
       "  {'hotel_id': 410, 'price': 114, 'stock': 1},\n",
       "  {'hotel_id': 117, 'price': 89, 'stock': 0},\n",
       "  {'hotel_id': 585, 'price': 70, 'stock': 1},\n",
       "  {'hotel_id': 724, 'price': 361, 'stock': 1},\n",
       "  {'hotel_id': 878, 'price': 106, 'stock': 0},\n",
       "  {'hotel_id': 806, 'price': 261, 'stock': 4},\n",
       "  {'hotel_id': 971, 'price': 173, 'stock': 0},\n",
       "  {'hotel_id': 214, 'price': 288, 'stock': 1},\n",
       "  {'hotel_id': 256, 'price': 76, 'stock': 0},\n",
       "  {'hotel_id': 604, 'price': 126, 'stock': 0},\n",
       "  {'hotel_id': 218, 'price': 286, 'stock': 1},\n",
       "  {'hotel_id': 680, 'price': 147, 'stock': 0},\n",
       "  {'hotel_id': 16, 'price': 173, 'stock': 0},\n",
       "  {'hotel_id': 660, 'price': 168, 'stock': 0},\n",
       "  {'hotel_id': 902, 'price': 188, 'stock': 1},\n",
       "  {'hotel_id': 157, 'price': 361, 'stock': 1},\n",
       "  {'hotel_id': 196, 'price': 107, 'stock': 0},\n",
       "  {'hotel_id': 916, 'price': 131, 'stock': 1},\n",
       "  {'hotel_id': 921, 'price': 89, 'stock': 0},\n",
       "  {'hotel_id': 969, 'price': 82, 'stock': 0},\n",
       "  {'hotel_id': 311, 'price': 92, 'stock': 13},\n",
       "  {'hotel_id': 880, 'price': 126, 'stock': 0},\n",
       "  {'hotel_id': 676, 'price': 89, 'stock': 0},\n",
       "  {'hotel_id': 9, 'price': 82, 'stock': 0},\n",
       "  {'hotel_id': 264, 'price': 77, 'stock': 0},\n",
       "  {'hotel_id': 82, 'price': 106, 'stock': 0},\n",
       "  {'hotel_id': 507, 'price': 113, 'stock': 1},\n",
       "  {'hotel_id': 510, 'price': 417, 'stock': 1},\n",
       "  {'hotel_id': 52, 'price': 170, 'stock': 0},\n",
       "  {'hotel_id': 45, 'price': 171, 'stock': 0},\n",
       "  {'hotel_id': 788, 'price': 106, 'stock': 0},\n",
       "  {'hotel_id': 366, 'price': 76, 'stock': 0},\n",
       "  {'hotel_id': 945, 'price': 175, 'stock': 0},\n",
       "  {'hotel_id': 587, 'price': 148, 'stock': 0},\n",
       "  {'hotel_id': 505, 'price': 106, 'stock': 0},\n",
       "  {'hotel_id': 594, 'price': 410, 'stock': 1},\n",
       "  {'hotel_id': 455, 'price': 157, 'stock': 8},\n",
       "  {'hotel_id': 140, 'price': 180, 'stock': 0},\n",
       "  {'hotel_id': 111, 'price': 142, 'stock': 2},\n",
       "  {'hotel_id': 591, 'price': 307, 'stock': 5},\n",
       "  {'hotel_id': 475, 'price': 103, 'stock': 0},\n",
       "  {'hotel_id': 482, 'price': 78, 'stock': 0},\n",
       "  {'hotel_id': 715, 'price': 170, 'stock': 0},\n",
       "  {'hotel_id': 22, 'price': 170, 'stock': 0},\n",
       "  {'hotel_id': 105, 'price': 170, 'stock': 0},\n",
       "  {'hotel_id': 570, 'price': 105, 'stock': 0},\n",
       "  {'hotel_id': 387, 'price': 406, 'stock': 1},\n",
       "  {'hotel_id': 867, 'price': 144, 'stock': 0},\n",
       "  {'hotel_id': 493, 'price': 171, 'stock': 0},\n",
       "  {'hotel_id': 234, 'price': 170, 'stock': 0},\n",
       "  {'hotel_id': 628, 'price': 147, 'stock': 0},\n",
       "  {'hotel_id': 679, 'price': 147, 'stock': 0},\n",
       "  {'hotel_id': 375, 'price': 103, 'stock': 0},\n",
       "  {'hotel_id': 83, 'price': 171, 'stock': 0},\n",
       "  {'hotel_id': 146, 'price': 207, 'stock': 0},\n",
       "  {'hotel_id': 34, 'price': 76, 'stock': 0},\n",
       "  {'hotel_id': 417, 'price': 173, 'stock': 0},\n",
       "  {'hotel_id': 101, 'price': 388, 'stock': 1},\n",
       "  {'hotel_id': 743, 'price': 168, 'stock': 0},\n",
       "  {'hotel_id': 933, 'price': 147, 'stock': 0},\n",
       "  {'hotel_id': 352, 'price': 89, 'stock': 15},\n",
       "  {'hotel_id': 777, 'price': 175, 'stock': 0},\n",
       "  {'hotel_id': 548, 'price': 406, 'stock': 1},\n",
       "  {'hotel_id': 627, 'price': 103, 'stock': 0},\n",
       "  {'hotel_id': 224, 'price': 156, 'stock': 1},\n",
       "  {'hotel_id': 783, 'price': 97, 'stock': 0}],\n",
       " 'request': {'city': 'amsterdam',\n",
       "  'date': 1,\n",
       "  'language': 'hungarian',\n",
       "  'mobile': 1,\n",
       "  'avatar_id': 6}}"
      ]
     },
     "execution_count": 7,
     "metadata": {},
     "output_type": "execute_result"
    }
   ],
   "source": [
    "params = {\n",
    "    \"avatar_name\": \"max-second-avatar\",\n",
    "    \"language\": \"hungarian\",\n",
    "    \"city\": \"amsterdam\",\n",
    "    \"date\": 1,\n",
    "    \"mobile\": 1,\n",
    "}\n",
    "r2 = requests.get(path(f\"pricing/{user_id}\"), params=params)\n",
    "r2.json()"
   ]
  },
  {
   "cell_type": "markdown",
   "id": "9260ccf4",
   "metadata": {
    "papermill": {
     "duration": 0.004871,
     "end_time": "2022-10-06T11:59:41.890316",
     "exception": false,
     "start_time": "2022-10-06T11:59:41.885445",
     "status": "completed"
    },
    "tags": []
   },
   "source": [
    "## Build a training set"
   ]
  },
  {
   "cell_type": "code",
   "execution_count": 8,
   "id": "2d868892",
   "metadata": {
    "execution": {
     "iopub.execute_input": "2022-10-06T11:59:41.901920Z",
     "iopub.status.busy": "2022-10-06T11:59:41.901507Z",
     "iopub.status.idle": "2022-10-06T11:59:41.949655Z",
     "shell.execute_reply": "2022-10-06T11:59:41.948888Z"
    },
    "papermill": {
     "duration": 0.05653,
     "end_time": "2022-10-06T11:59:41.951911",
     "exception": false,
     "start_time": "2022-10-06T11:59:41.895381",
     "status": "completed"
    },
    "tags": []
   },
   "outputs": [
    {
     "data": {
      "text/html": [
       "<div>\n",
       "<style scoped>\n",
       "    .dataframe tbody tr th:only-of-type {\n",
       "        vertical-align: middle;\n",
       "    }\n",
       "\n",
       "    .dataframe tbody tr th {\n",
       "        vertical-align: top;\n",
       "    }\n",
       "\n",
       "    .dataframe thead th {\n",
       "        text-align: right;\n",
       "    }\n",
       "</style>\n",
       "<table border=\"1\" class=\"dataframe\">\n",
       "  <thead>\n",
       "    <tr style=\"text-align: right;\">\n",
       "      <th></th>\n",
       "      <th>hotel_id</th>\n",
       "      <th>price</th>\n",
       "      <th>stock</th>\n",
       "      <th>city</th>\n",
       "      <th>date</th>\n",
       "      <th>language</th>\n",
       "      <th>mobile</th>\n",
       "      <th>avatar_id</th>\n",
       "    </tr>\n",
       "  </thead>\n",
       "  <tbody>\n",
       "    <tr>\n",
       "      <th>0</th>\n",
       "      <td>720</td>\n",
       "      <td>467</td>\n",
       "      <td>2</td>\n",
       "      <td>copenhagen</td>\n",
       "      <td>2</td>\n",
       "      <td>hungarian</td>\n",
       "      <td>0</td>\n",
       "      <td>5</td>\n",
       "    </tr>\n",
       "    <tr>\n",
       "      <th>1</th>\n",
       "      <td>434</td>\n",
       "      <td>114</td>\n",
       "      <td>0</td>\n",
       "      <td>copenhagen</td>\n",
       "      <td>2</td>\n",
       "      <td>hungarian</td>\n",
       "      <td>0</td>\n",
       "      <td>5</td>\n",
       "    </tr>\n",
       "    <tr>\n",
       "      <th>2</th>\n",
       "      <td>349</td>\n",
       "      <td>317</td>\n",
       "      <td>1</td>\n",
       "      <td>copenhagen</td>\n",
       "      <td>2</td>\n",
       "      <td>hungarian</td>\n",
       "      <td>0</td>\n",
       "      <td>5</td>\n",
       "    </tr>\n",
       "    <tr>\n",
       "      <th>3</th>\n",
       "      <td>367</td>\n",
       "      <td>96</td>\n",
       "      <td>0</td>\n",
       "      <td>copenhagen</td>\n",
       "      <td>2</td>\n",
       "      <td>hungarian</td>\n",
       "      <td>0</td>\n",
       "      <td>5</td>\n",
       "    </tr>\n",
       "    <tr>\n",
       "      <th>4</th>\n",
       "      <td>952</td>\n",
       "      <td>94</td>\n",
       "      <td>0</td>\n",
       "      <td>copenhagen</td>\n",
       "      <td>2</td>\n",
       "      <td>hungarian</td>\n",
       "      <td>0</td>\n",
       "      <td>5</td>\n",
       "    </tr>\n",
       "  </tbody>\n",
       "</table>\n",
       "</div>"
      ],
      "text/plain": [
       "   hotel_id  price  stock        city  date   language  mobile  avatar_id\n",
       "0       720    467      2  copenhagen     2  hungarian       0          5\n",
       "1       434    114      0  copenhagen     2  hungarian       0          5\n",
       "2       349    317      1  copenhagen     2  hungarian       0          5\n",
       "3       367     96      0  copenhagen     2  hungarian       0          5\n",
       "4       952     94      0  copenhagen     2  hungarian       0          5"
      ]
     },
     "execution_count": 8,
     "metadata": {},
     "output_type": "execute_result"
    }
   ],
   "source": [
    "import pandas as pd\n",
    "\n",
    "pricing_requests = []\n",
    "\n",
    "requests = [r1, r2]\n",
    "for r in requests:\n",
    "    pricing_requests.append(\n",
    "        pd.DataFrame(r.json()['prices']).assign(**r.json()['request'])\n",
    "    )\n",
    "\n",
    "pricing_requests = pd.concat(pricing_requests)\n",
    "pricing_requests.head()"
   ]
  },
  {
   "cell_type": "code",
   "execution_count": 9,
   "id": "cc341880",
   "metadata": {
    "execution": {
     "iopub.execute_input": "2022-10-06T11:59:41.964890Z",
     "iopub.status.busy": "2022-10-06T11:59:41.964477Z",
     "iopub.status.idle": "2022-10-06T11:59:41.969848Z",
     "shell.execute_reply": "2022-10-06T11:59:41.969115Z"
    },
    "papermill": {
     "duration": 0.014276,
     "end_time": "2022-10-06T11:59:41.971877",
     "exception": false,
     "start_time": "2022-10-06T11:59:41.957601",
     "status": "completed"
    },
    "tags": []
   },
   "outputs": [
    {
     "data": {
      "text/plain": [
       "255"
      ]
     },
     "execution_count": 9,
     "metadata": {},
     "output_type": "execute_result"
    }
   ],
   "source": [
    "len(pricing_requests)"
   ]
  },
  {
   "cell_type": "code",
   "execution_count": 10,
   "id": "a122138e",
   "metadata": {
    "execution": {
     "iopub.execute_input": "2022-10-06T11:59:41.985831Z",
     "iopub.status.busy": "2022-10-06T11:59:41.985407Z",
     "iopub.status.idle": "2022-10-06T11:59:42.027564Z",
     "shell.execute_reply": "2022-10-06T11:59:42.026492Z"
    },
    "papermill": {
     "duration": 0.052663,
     "end_time": "2022-10-06T11:59:42.030016",
     "exception": false,
     "start_time": "2022-10-06T11:59:41.977353",
     "status": "completed"
    },
    "tags": []
   },
   "outputs": [
    {
     "data": {
      "text/html": [
       "<div>\n",
       "<style scoped>\n",
       "    .dataframe tbody tr th:only-of-type {\n",
       "        vertical-align: middle;\n",
       "    }\n",
       "\n",
       "    .dataframe tbody tr th {\n",
       "        vertical-align: top;\n",
       "    }\n",
       "\n",
       "    .dataframe thead th {\n",
       "        text-align: right;\n",
       "    }\n",
       "</style>\n",
       "<table border=\"1\" class=\"dataframe\">\n",
       "  <thead>\n",
       "    <tr style=\"text-align: right;\">\n",
       "      <th></th>\n",
       "      <th>hotel_id</th>\n",
       "      <th>price</th>\n",
       "      <th>stock</th>\n",
       "      <th>city</th>\n",
       "      <th>date</th>\n",
       "      <th>language</th>\n",
       "      <th>mobile</th>\n",
       "      <th>avatar_id</th>\n",
       "      <th>group</th>\n",
       "      <th>brand</th>\n",
       "      <th>parking</th>\n",
       "      <th>pool</th>\n",
       "      <th>children_policy</th>\n",
       "    </tr>\n",
       "  </thead>\n",
       "  <tbody>\n",
       "    <tr>\n",
       "      <th>0</th>\n",
       "      <td>720</td>\n",
       "      <td>467</td>\n",
       "      <td>2</td>\n",
       "      <td>copenhagen</td>\n",
       "      <td>2</td>\n",
       "      <td>hungarian</td>\n",
       "      <td>0</td>\n",
       "      <td>5</td>\n",
       "      <td>Chillton Worldwide</td>\n",
       "      <td>Chill Garden Inn</td>\n",
       "      <td>0</td>\n",
       "      <td>0</td>\n",
       "      <td>2</td>\n",
       "    </tr>\n",
       "    <tr>\n",
       "      <th>1</th>\n",
       "      <td>434</td>\n",
       "      <td>114</td>\n",
       "      <td>0</td>\n",
       "      <td>copenhagen</td>\n",
       "      <td>2</td>\n",
       "      <td>hungarian</td>\n",
       "      <td>0</td>\n",
       "      <td>5</td>\n",
       "      <td>Accar Hotels</td>\n",
       "      <td>Ibas</td>\n",
       "      <td>0</td>\n",
       "      <td>0</td>\n",
       "      <td>0</td>\n",
       "    </tr>\n",
       "    <tr>\n",
       "      <th>2</th>\n",
       "      <td>349</td>\n",
       "      <td>317</td>\n",
       "      <td>1</td>\n",
       "      <td>copenhagen</td>\n",
       "      <td>2</td>\n",
       "      <td>hungarian</td>\n",
       "      <td>0</td>\n",
       "      <td>5</td>\n",
       "      <td>Yin Yang</td>\n",
       "      <td>Royal Lotus</td>\n",
       "      <td>0</td>\n",
       "      <td>1</td>\n",
       "      <td>0</td>\n",
       "    </tr>\n",
       "    <tr>\n",
       "      <th>3</th>\n",
       "      <td>367</td>\n",
       "      <td>96</td>\n",
       "      <td>0</td>\n",
       "      <td>copenhagen</td>\n",
       "      <td>2</td>\n",
       "      <td>hungarian</td>\n",
       "      <td>0</td>\n",
       "      <td>5</td>\n",
       "      <td>Yin Yang</td>\n",
       "      <td>8 Premium</td>\n",
       "      <td>0</td>\n",
       "      <td>0</td>\n",
       "      <td>0</td>\n",
       "    </tr>\n",
       "    <tr>\n",
       "      <th>4</th>\n",
       "      <td>952</td>\n",
       "      <td>94</td>\n",
       "      <td>0</td>\n",
       "      <td>copenhagen</td>\n",
       "      <td>2</td>\n",
       "      <td>hungarian</td>\n",
       "      <td>0</td>\n",
       "      <td>5</td>\n",
       "      <td>Independant</td>\n",
       "      <td>Independant</td>\n",
       "      <td>0</td>\n",
       "      <td>0</td>\n",
       "      <td>0</td>\n",
       "    </tr>\n",
       "  </tbody>\n",
       "</table>\n",
       "</div>"
      ],
      "text/plain": [
       "   hotel_id  price  stock        city  date   language  mobile  avatar_id  \\\n",
       "0       720    467      2  copenhagen     2  hungarian       0          5   \n",
       "1       434    114      0  copenhagen     2  hungarian       0          5   \n",
       "2       349    317      1  copenhagen     2  hungarian       0          5   \n",
       "3       367     96      0  copenhagen     2  hungarian       0          5   \n",
       "4       952     94      0  copenhagen     2  hungarian       0          5   \n",
       "\n",
       "                group             brand  parking  pool  children_policy  \n",
       "0  Chillton Worldwide  Chill Garden Inn        0     0                2  \n",
       "1        Accar Hotels              Ibas        0     0                0  \n",
       "2            Yin Yang       Royal Lotus        0     1                0  \n",
       "3            Yin Yang         8 Premium        0     0                0  \n",
       "4         Independant       Independant        0     0                0  "
      ]
     },
     "execution_count": 10,
     "metadata": {},
     "output_type": "execute_result"
    }
   ],
   "source": [
    "hotels = pd.read_csv('../input/defi-ia-2023/features_hotels.csv', index_col=['hotel_id', 'city'])\n",
    "pricing_requests = pricing_requests.join(hotels, on=['hotel_id', 'city'])\n",
    "pricing_requests.head()"
   ]
  },
  {
   "cell_type": "code",
   "execution_count": 11,
   "id": "6bfa71a7",
   "metadata": {
    "execution": {
     "iopub.execute_input": "2022-10-06T11:59:42.043357Z",
     "iopub.status.busy": "2022-10-06T11:59:42.042987Z",
     "iopub.status.idle": "2022-10-06T11:59:42.061602Z",
     "shell.execute_reply": "2022-10-06T11:59:42.060529Z"
    },
    "papermill": {
     "duration": 0.028018,
     "end_time": "2022-10-06T11:59:42.063852",
     "exception": false,
     "start_time": "2022-10-06T11:59:42.035834",
     "status": "completed"
    },
    "tags": []
   },
   "outputs": [
    {
     "data": {
      "text/html": [
       "<div>\n",
       "<style scoped>\n",
       "    .dataframe tbody tr th:only-of-type {\n",
       "        vertical-align: middle;\n",
       "    }\n",
       "\n",
       "    .dataframe tbody tr th {\n",
       "        vertical-align: top;\n",
       "    }\n",
       "\n",
       "    .dataframe thead th {\n",
       "        text-align: right;\n",
       "    }\n",
       "</style>\n",
       "<table border=\"1\" class=\"dataframe\">\n",
       "  <thead>\n",
       "    <tr style=\"text-align: right;\">\n",
       "      <th></th>\n",
       "      <th>index</th>\n",
       "      <th>price</th>\n",
       "    </tr>\n",
       "  </thead>\n",
       "  <tbody>\n",
       "    <tr>\n",
       "      <th>0</th>\n",
       "      <td>0</td>\n",
       "      <td>191.0</td>\n",
       "    </tr>\n",
       "    <tr>\n",
       "      <th>1</th>\n",
       "      <td>1</td>\n",
       "      <td>191.0</td>\n",
       "    </tr>\n",
       "    <tr>\n",
       "      <th>2</th>\n",
       "      <td>2</td>\n",
       "      <td>191.0</td>\n",
       "    </tr>\n",
       "    <tr>\n",
       "      <th>3</th>\n",
       "      <td>3</td>\n",
       "      <td>191.0</td>\n",
       "    </tr>\n",
       "    <tr>\n",
       "      <th>4</th>\n",
       "      <td>4</td>\n",
       "      <td>191.0</td>\n",
       "    </tr>\n",
       "  </tbody>\n",
       "</table>\n",
       "</div>"
      ],
      "text/plain": [
       "   index  price\n",
       "0      0  191.0\n",
       "1      1  191.0\n",
       "2      2  191.0\n",
       "3      3  191.0\n",
       "4      4  191.0"
      ]
     },
     "execution_count": 11,
     "metadata": {},
     "output_type": "execute_result"
    }
   ],
   "source": [
    "sample_submission = pd.read_csv('../input/defi-ia-2023/sample_submission.csv')\n",
    "sample_submission.head()"
   ]
  },
  {
   "cell_type": "code",
   "execution_count": 12,
   "id": "c36cb876",
   "metadata": {
    "execution": {
     "iopub.execute_input": "2022-10-06T11:59:42.077543Z",
     "iopub.status.busy": "2022-10-06T11:59:42.077158Z",
     "iopub.status.idle": "2022-10-06T11:59:42.094916Z",
     "shell.execute_reply": "2022-10-06T11:59:42.093676Z"
    },
    "papermill": {
     "duration": 0.027487,
     "end_time": "2022-10-06T11:59:42.097411",
     "exception": false,
     "start_time": "2022-10-06T11:59:42.069924",
     "status": "completed"
    },
    "tags": []
   },
   "outputs": [],
   "source": [
    "sample_submission.to_csv('submission.csv', index=False)"
   ]
  }
 ],
 "metadata": {
  "kernelspec": {
   "display_name": "Python 3 (ipykernel)",
   "language": "python",
   "name": "python3"
  },
  "language_info": {
   "codemirror_mode": {
    "name": "ipython",
    "version": 3
   },
   "file_extension": ".py",
   "mimetype": "text/x-python",
   "name": "python",
   "nbconvert_exporter": "python",
   "pygments_lexer": "ipython3",
   "version": "3.9.12"
  },
  "papermill": {
   "default_parameters": {},
   "duration": 11.143049,
   "end_time": "2022-10-06T11:59:42.724449",
   "environment_variables": {},
   "exception": null,
   "input_path": "__notebook__.ipynb",
   "output_path": "__notebook__.ipynb",
   "parameters": {},
   "start_time": "2022-10-06T11:59:31.581400",
   "version": "2.3.4"
  }
 },
 "nbformat": 4,
 "nbformat_minor": 5
}
