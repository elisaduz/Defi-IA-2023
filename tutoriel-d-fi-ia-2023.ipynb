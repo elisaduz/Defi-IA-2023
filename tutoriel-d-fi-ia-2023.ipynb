{
 "cells": [
  {
   "cell_type": "markdown",
   "metadata": {
    "papermill": {
     "duration": 0.005474,
     "end_time": "2022-10-06T11:59:40.379015",
     "exception": false,
     "start_time": "2022-10-06T11:59:40.373541",
     "status": "completed"
    },
    "tags": []
   },
   "source": [
    "# Tutoriel d'usage de l'API"
   ]
  },
  {
   "cell_type": "code",
   "execution_count": 1,
   "metadata": {
    "execution": {
     "iopub.execute_input": "2022-10-06T11:59:40.390301Z",
     "iopub.status.busy": "2022-10-06T11:59:40.389682Z",
     "iopub.status.idle": "2022-10-06T11:59:40.402447Z",
     "shell.execute_reply": "2022-10-06T11:59:40.401632Z"
    },
    "papermill": {
     "duration": 0.021302,
     "end_time": "2022-10-06T11:59:40.404818",
     "exception": false,
     "start_time": "2022-10-06T11:59:40.383516",
     "status": "completed"
    },
    "tags": []
   },
   "outputs": [],
   "source": [
    "import urllib.parse\n",
    "\n",
    "domain = \"51.91.251.0\"\n",
    "port = 3000\n",
    "host = f\"http://{domain}:{port}\"\n",
    "path = lambda x: urllib.parse.urljoin(host, x)"
   ]
  },
  {
   "cell_type": "markdown",
   "metadata": {
    "papermill": {
     "duration": 0.003988,
     "end_time": "2022-10-06T11:59:40.413193",
     "exception": false,
     "start_time": "2022-10-06T11:59:40.409205",
     "status": "completed"
    },
    "tags": []
   },
   "source": [
    "## Creating an avatar"
   ]
  },
  {
   "cell_type": "markdown",
   "metadata": {
    "papermill": {
     "duration": 0.004024,
     "end_time": "2022-10-06T11:59:40.421441",
     "exception": false,
     "start_time": "2022-10-06T11:59:40.417417",
     "status": "completed"
    },
    "tags": []
   },
   "source": [
    "The admin of the competition can create users. A user can then create as many avatars as they wish."
   ]
  },
  {
   "cell_type": "code",
   "execution_count": 2,
   "metadata": {
    "execution": {
     "iopub.execute_input": "2022-10-06T11:59:40.432149Z",
     "iopub.status.busy": "2022-10-06T11:59:40.431498Z",
     "iopub.status.idle": "2022-10-06T11:59:40.654576Z",
     "shell.execute_reply": "2022-10-06T11:59:40.652630Z"
    },
    "papermill": {
     "duration": 0.23497,
     "end_time": "2022-10-06T11:59:40.660791",
     "exception": false,
     "start_time": "2022-10-06T11:59:40.425821",
     "status": "completed"
    },
    "tags": []
   },
   "outputs": [
    {
     "data": {
      "text/plain": [
       "<Response [409]>"
      ]
     },
     "execution_count": 2,
     "metadata": {},
     "output_type": "execute_result"
    }
   ],
   "source": [
    "import requests\n",
    "\n",
    "user_id = '12e1e6fc-456b-4738-ba59-b90c3386f583'\n",
    "name = 'ema-first-avatar'\n",
    "r = requests.post(path(f'avatars/{user_id}/{name}'))\n",
    "r"
   ]
  },
  {
   "cell_type": "code",
   "execution_count": 3,
   "metadata": {
    "execution": {
     "iopub.execute_input": "2022-10-06T11:59:40.673570Z",
     "iopub.status.busy": "2022-10-06T11:59:40.672368Z",
     "iopub.status.idle": "2022-10-06T11:59:40.883155Z",
     "shell.execute_reply": "2022-10-06T11:59:40.881934Z"
    },
    "papermill": {
     "duration": 0.219214,
     "end_time": "2022-10-06T11:59:40.885475",
     "exception": false,
     "start_time": "2022-10-06T11:59:40.666261",
     "status": "completed"
    },
    "tags": []
   },
   "outputs": [
    {
     "data": {
      "text/plain": [
       "<Response [200]>"
      ]
     },
     "execution_count": 3,
     "metadata": {},
     "output_type": "execute_result"
    }
   ],
   "source": [
    "# name = 'max-second-avatar'\n",
    "# r = requests.post(path(f\"avatars/{user_id}/{name}\"))\n",
    "# r"
   ]
  },
  {
   "cell_type": "code",
   "execution_count": 3,
   "metadata": {
    "execution": {
     "iopub.execute_input": "2022-10-06T11:59:40.896525Z",
     "iopub.status.busy": "2022-10-06T11:59:40.895549Z",
     "iopub.status.idle": "2022-10-06T11:59:41.102485Z",
     "shell.execute_reply": "2022-10-06T11:59:41.101223Z"
    },
    "papermill": {
     "duration": 0.215119,
     "end_time": "2022-10-06T11:59:41.105182",
     "exception": false,
     "start_time": "2022-10-06T11:59:40.890063",
     "status": "completed"
    },
    "tags": []
   },
   "outputs": [
    {
     "name": "stdout",
     "output_type": "stream",
     "text": [
      "6217 ema-first-avatar\n"
     ]
    }
   ],
   "source": [
    "r = requests.get(path(f\"avatars/{user_id}\"))\n",
    "for avatar in r.json():\n",
    "    print(avatar['id'], avatar['name'])"
   ]
  },
  {
   "cell_type": "markdown",
   "metadata": {
    "papermill": {
     "duration": 0.004317,
     "end_time": "2022-10-06T11:59:41.114227",
     "exception": false,
     "start_time": "2022-10-06T11:59:41.109910",
     "status": "completed"
    },
    "tags": []
   },
   "source": [
    "## Making pricing requests"
   ]
  },
  {
   "cell_type": "code",
   "execution_count": 4,
   "metadata": {
    "execution": {
     "iopub.execute_input": "2022-10-06T11:59:41.125216Z",
     "iopub.status.busy": "2022-10-06T11:59:41.124835Z",
     "iopub.status.idle": "2022-10-06T11:59:41.382965Z",
     "shell.execute_reply": "2022-10-06T11:59:41.381761Z"
    },
    "papermill": {
     "duration": 0.266446,
     "end_time": "2022-10-06T11:59:41.385306",
     "exception": false,
     "start_time": "2022-10-06T11:59:41.118860",
     "status": "completed"
    },
    "tags": []
   },
   "outputs": [
    {
     "data": {
      "text/plain": [
       "{'prices': [{'hotel_id': 585, 'price': 75, 'stock': 29},\n",
       "  {'hotel_id': 917, 'price': 257, 'stock': 118},\n",
       "  {'hotel_id': 410, 'price': 115, 'stock': 38},\n",
       "  {'hotel_id': 45, 'price': 152, 'stock': 54},\n",
       "  {'hotel_id': 510, 'price': 259, 'stock': 119},\n",
       "  {'hotel_id': 806, 'price': 259, 'stock': 102},\n",
       "  {'hotel_id': 234, 'price': 144, 'stock': 52},\n",
       "  {'hotel_id': 627, 'price': 106, 'stock': 41},\n",
       "  {'hotel_id': 676, 'price': 69, 'stock': 20},\n",
       "  {'hotel_id': 429, 'price': 241, 'stock': 110},\n",
       "  {'hotel_id': 507, 'price': 108, 'stock': 36},\n",
       "  {'hotel_id': 82, 'price': 109, 'stock': 44},\n",
       "  {'hotel_id': 211, 'price': 149, 'stock': 60},\n",
       "  {'hotel_id': 679, 'price': 152, 'stock': 52},\n",
       "  {'hotel_id': 475, 'price': 97, 'stock': 49},\n",
       "  {'hotel_id': 86, 'price': 107, 'stock': 78},\n",
       "  {'hotel_id': 630, 'price': 145, 'stock': 66},\n",
       "  {'hotel_id': 103, 'price': 182, 'stock': 80},\n",
       "  {'hotel_id': 223, 'price': 149, 'stock': 51},\n",
       "  {'hotel_id': 264, 'price': 77, 'stock': 21},\n",
       "  {'hotel_id': 442, 'price': 162, 'stock': 85},\n",
       "  {'hotel_id': 307, 'price': 104, 'stock': 44},\n",
       "  {'hotel_id': 778, 'price': 109, 'stock': 41},\n",
       "  {'hotel_id': 253, 'price': 247, 'stock': 105},\n",
       "  {'hotel_id': 548, 'price': 230, 'stock': 126},\n",
       "  {'hotel_id': 326, 'price': 237, 'stock': 109},\n",
       "  {'hotel_id': 902, 'price': 166, 'stock': 94},\n",
       "  {'hotel_id': 375, 'price': 104, 'stock': 42},\n",
       "  {'hotel_id': 16, 'price': 159, 'stock': 48},\n",
       "  {'hotel_id': 777, 'price': 142, 'stock': 60},\n",
       "  {'hotel_id': 724, 'price': 256, 'stock': 93},\n",
       "  {'hotel_id': 809, 'price': 246, 'stock': 109},\n",
       "  {'hotel_id': 880, 'price': 112, 'stock': 42},\n",
       "  {'hotel_id': 788, 'price': 109, 'stock': 50},\n",
       "  {'hotel_id': 603, 'price': 247, 'stock': 96},\n",
       "  {'hotel_id': 581, 'price': 147, 'stock': 29},\n",
       "  {'hotel_id': 807, 'price': 265, 'stock': 103},\n",
       "  {'hotel_id': 821, 'price': 104, 'stock': 45},\n",
       "  {'hotel_id': 366, 'price': 77, 'stock': 44},\n",
       "  {'hotel_id': 387, 'price': 230, 'stock': 104},\n",
       "  {'hotel_id': 9, 'price': 85, 'stock': 54},\n",
       "  {'hotel_id': 311, 'price': 103, 'stock': 33},\n",
       "  {'hotel_id': 971, 'price': 147, 'stock': 52},\n",
       "  {'hotel_id': 158, 'price': 140, 'stock': 62},\n",
       "  {'hotel_id': 430, 'price': 159, 'stock': 101},\n",
       "  {'hotel_id': 517, 'price': 112, 'stock': 53},\n",
       "  {'hotel_id': 594, 'price': 233, 'stock': 152},\n",
       "  {'hotel_id': 460, 'price': 84, 'stock': 22},\n",
       "  {'hotel_id': 783, 'price': 93, 'stock': 20},\n",
       "  {'hotel_id': 172, 'price': 118, 'stock': 38},\n",
       "  {'hotel_id': 166, 'price': 105, 'stock': 56},\n",
       "  {'hotel_id': 482, 'price': 81, 'stock': 21},\n",
       "  {'hotel_id': 628, 'price': 152, 'stock': 65},\n",
       "  {'hotel_id': 101, 'price': 263, 'stock': 102},\n",
       "  {'hotel_id': 441, 'price': 183, 'stock': 69},\n",
       "  {'hotel_id': 455, 'price': 139, 'stock': 56},\n",
       "  {'hotel_id': 111, 'price': 115, 'stock': 40},\n",
       "  {'hotel_id': 918, 'price': 257, 'stock': 110},\n",
       "  {'hotel_id': 83, 'price': 152, 'stock': 48},\n",
       "  {'hotel_id': 743, 'price': 155, 'stock': 46},\n",
       "  {'hotel_id': 52, 'price': 150, 'stock': 52},\n",
       "  {'hotel_id': 878, 'price': 100, 'stock': 66},\n",
       "  {'hotel_id': 945, 'price': 142, 'stock': 72},\n",
       "  {'hotel_id': 373, 'price': 108, 'stock': 43},\n",
       "  {'hotel_id': 140, 'price': 107, 'stock': 43},\n",
       "  {'hotel_id': 570, 'price': 101, 'stock': 45},\n",
       "  {'hotel_id': 835, 'price': 103, 'stock': 62},\n",
       "  {'hotel_id': 657, 'price': 162, 'stock': 85},\n",
       "  {'hotel_id': 529, 'price': 230, 'stock': 115},\n",
       "  {'hotel_id': 925, 'price': 98, 'stock': 44},\n",
       "  {'hotel_id': 85, 'price': 99, 'stock': 44},\n",
       "  {'hotel_id': 567, 'price': 79, 'stock': 19},\n",
       "  {'hotel_id': 218, 'price': 184, 'stock': 74},\n",
       "  {'hotel_id': 212, 'price': 193, 'stock': 66},\n",
       "  {'hotel_id': 269, 'price': 150, 'stock': 60},\n",
       "  {'hotel_id': 417, 'price': 140, 'stock': 62},\n",
       "  {'hotel_id': 588, 'price': 175, 'stock': 55},\n",
       "  {'hotel_id': 967, 'price': 74, 'stock': 60},\n",
       "  {'hotel_id': 779, 'price': 180, 'stock': 81},\n",
       "  {'hotel_id': 77, 'price': 246, 'stock': 115},\n",
       "  {'hotel_id': 587, 'price': 153, 'stock': 50},\n",
       "  {'hotel_id': 762, 'price': 157, 'stock': 50},\n",
       "  {'hotel_id': 163, 'price': 176, 'stock': 76},\n",
       "  {'hotel_id': 505, 'price': 102, 'stock': 44},\n",
       "  {'hotel_id': 214, 'price': 179, 'stock': 72},\n",
       "  {'hotel_id': 34, 'price': 74, 'stock': 23},\n",
       "  {'hotel_id': 745, 'price': 104, 'stock': 28},\n",
       "  {'hotel_id': 352, 'price': 100, 'stock': 61},\n",
       "  {'hotel_id': 196, 'price': 110, 'stock': 19},\n",
       "  {'hotel_id': 685, 'price': 257, 'stock': 94},\n",
       "  {'hotel_id': 750, 'price': 105, 'stock': 19},\n",
       "  {'hotel_id': 557, 'price': 113, 'stock': 36},\n",
       "  {'hotel_id': 658, 'price': 159, 'stock': 56},\n",
       "  {'hotel_id': 465, 'price': 226, 'stock': 123},\n",
       "  {'hotel_id': 706, 'price': 114, 'stock': 38},\n",
       "  {'hotel_id': 146, 'price': 176, 'stock': 74},\n",
       "  {'hotel_id': 933, 'price': 152, 'stock': 58},\n",
       "  {'hotel_id': 10, 'price': 153, 'stock': 51},\n",
       "  {'hotel_id': 317, 'price': 161, 'stock': 76},\n",
       "  {'hotel_id': 867, 'price': 140, 'stock': 48},\n",
       "  {'hotel_id': 22, 'price': 163, 'stock': 45},\n",
       "  {'hotel_id': 369, 'price': 76, 'stock': 21},\n",
       "  {'hotel_id': 969, 'price': 76, 'stock': 31},\n",
       "  {'hotel_id': 450, 'price': 172, 'stock': 86},\n",
       "  {'hotel_id': 157, 'price': 245, 'stock': 98},\n",
       "  {'hotel_id': 346, 'price': 166, 'stock': 76},\n",
       "  {'hotel_id': 515, 'price': 248, 'stock': 99},\n",
       "  {'hotel_id': 892, 'price': 182, 'stock': 69},\n",
       "  {'hotel_id': 256, 'price': 78, 'stock': 23},\n",
       "  {'hotel_id': 105, 'price': 157, 'stock': 48},\n",
       "  {'hotel_id': 916, 'price': 108, 'stock': 44},\n",
       "  {'hotel_id': 674, 'price': 121, 'stock': 46},\n",
       "  {'hotel_id': 604, 'price': 112, 'stock': 40},\n",
       "  {'hotel_id': 12, 'price': 77, 'stock': 21},\n",
       "  {'hotel_id': 283, 'price': 97, 'stock': 46},\n",
       "  {'hotel_id': 625, 'price': 183, 'stock': 69},\n",
       "  {'hotel_id': 680, 'price': 146, 'stock': 24},\n",
       "  {'hotel_id': 891, 'price': 104, 'stock': 22},\n",
       "  {'hotel_id': 230, 'price': 105, 'stock': 40},\n",
       "  {'hotel_id': 493, 'price': 152, 'stock': 54},\n",
       "  {'hotel_id': 960, 'price': 259, 'stock': 100},\n",
       "  {'hotel_id': 88, 'price': 123, 'stock': 38},\n",
       "  {'hotel_id': 193, 'price': 143, 'stock': 48},\n",
       "  {'hotel_id': 224, 'price': 144, 'stock': 57},\n",
       "  {'hotel_id': 303, 'price': 167, 'stock': 85},\n",
       "  {'hotel_id': 660, 'price': 155, 'stock': 48},\n",
       "  {'hotel_id': 117, 'price': 75, 'stock': 23},\n",
       "  {'hotel_id': 271, 'price': 82, 'stock': 21},\n",
       "  {'hotel_id': 715, 'price': 144, 'stock': 50},\n",
       "  {'hotel_id': 760, 'price': 163, 'stock': 79},\n",
       "  {'hotel_id': 921, 'price': 79, 'stock': 48},\n",
       "  {'hotel_id': 591, 'price': 236, 'stock': 115},\n",
       "  {'hotel_id': 752, 'price': 245, 'stock': 107}],\n",
       " 'request': {'city': 'amsterdam',\n",
       "  'date': 30,\n",
       "  'language': 'hungarian',\n",
       "  'mobile': 0,\n",
       "  'avatar_id': 6217}}"
      ]
     },
     "execution_count": 4,
     "metadata": {},
     "output_type": "execute_result"
    }
   ],
   "source": [
    "params = {\n",
    "    \"avatar_name\": \"ema-first-avatar\",\n",
    "    \"language\": \"hungarian\",\n",
    "    \"city\": \"amsterdam\",\n",
    "    \"date\": 30,\n",
    "    \"mobile\": 0,\n",
    "}\n",
    "r1 = requests.get(path(f\"pricing/{user_id}\"), params=params)\n",
    "r1.json()"
   ]
  },
  {
   "cell_type": "code",
   "execution_count": 6,
   "metadata": {
    "execution": {
     "iopub.execute_input": "2022-10-06T11:59:41.396474Z",
     "iopub.status.busy": "2022-10-06T11:59:41.396131Z",
     "iopub.status.idle": "2022-10-06T11:59:41.602776Z",
     "shell.execute_reply": "2022-10-06T11:59:41.601646Z"
    },
    "papermill": {
     "duration": 0.214904,
     "end_time": "2022-10-06T11:59:41.605119",
     "exception": false,
     "start_time": "2022-10-06T11:59:41.390215",
     "status": "completed"
    },
    "tags": []
   },
   "outputs": [
    {
     "data": {
      "text/plain": [
       "(422, 'A pricing request for this avatar already exists for a sooner date')"
      ]
     },
     "execution_count": 6,
     "metadata": {},
     "output_type": "execute_result"
    }
   ],
   "source": [
    "# params = {\n",
    "#     \"avatar_name\": \"max-first-avatar\",\n",
    "#     \"language\": \"hungarian\",\n",
    "#     \"city\": \"copenhagen\",\n",
    "#     \"date\": 3,\n",
    "#     \"mobile\": 0,\n",
    "# }\n",
    "# r = requests.get(path(f\"pricing/{user_id}\"), params=params)\n",
    "# r.status_code, r.json()['detail']"
   ]
  },
  {
   "cell_type": "code",
   "execution_count": 5,
   "metadata": {
    "execution": {
     "iopub.execute_input": "2022-10-06T11:59:41.617899Z",
     "iopub.status.busy": "2022-10-06T11:59:41.616898Z",
     "iopub.status.idle": "2022-10-06T11:59:41.877758Z",
     "shell.execute_reply": "2022-10-06T11:59:41.876771Z"
    },
    "papermill": {
     "duration": 0.269387,
     "end_time": "2022-10-06T11:59:41.880014",
     "exception": false,
     "start_time": "2022-10-06T11:59:41.610627",
     "status": "completed"
    },
    "tags": []
   },
   "outputs": [
    {
     "data": {
      "text/plain": [
       "{'prices': [{'hotel_id': 969, 'price': 78, 'stock': 31},\n",
       "  {'hotel_id': 158, 'price': 142, 'stock': 62},\n",
       "  {'hotel_id': 585, 'price': 76, 'stock': 29},\n",
       "  {'hotel_id': 34, 'price': 75, 'stock': 23},\n",
       "  {'hotel_id': 253, 'price': 250, 'stock': 105},\n",
       "  {'hotel_id': 627, 'price': 108, 'stock': 41},\n",
       "  {'hotel_id': 891, 'price': 106, 'stock': 22},\n",
       "  {'hotel_id': 917, 'price': 261, 'stock': 118},\n",
       "  {'hotel_id': 762, 'price': 159, 'stock': 50},\n",
       "  {'hotel_id': 196, 'price': 112, 'stock': 19},\n",
       "  {'hotel_id': 779, 'price': 182, 'stock': 81},\n",
       "  {'hotel_id': 269, 'price': 152, 'stock': 60},\n",
       "  {'hotel_id': 224, 'price': 146, 'stock': 57},\n",
       "  {'hotel_id': 821, 'price': 106, 'stock': 45},\n",
       "  {'hotel_id': 724, 'price': 260, 'stock': 93},\n",
       "  {'hotel_id': 172, 'price': 119, 'stock': 38},\n",
       "  {'hotel_id': 10, 'price': 155, 'stock': 51},\n",
       "  {'hotel_id': 715, 'price': 146, 'stock': 50},\n",
       "  {'hotel_id': 892, 'price': 184, 'stock': 69},\n",
       "  {'hotel_id': 111, 'price': 116, 'stock': 40},\n",
       "  {'hotel_id': 807, 'price': 269, 'stock': 103},\n",
       "  {'hotel_id': 529, 'price': 234, 'stock': 115},\n",
       "  {'hotel_id': 916, 'price': 110, 'stock': 44},\n",
       "  {'hotel_id': 366, 'price': 78, 'stock': 44},\n",
       "  {'hotel_id': 557, 'price': 114, 'stock': 36},\n",
       "  {'hotel_id': 760, 'price': 165, 'stock': 79},\n",
       "  {'hotel_id': 311, 'price': 105, 'stock': 33},\n",
       "  {'hotel_id': 283, 'price': 99, 'stock': 46},\n",
       "  {'hotel_id': 166, 'price': 107, 'stock': 56},\n",
       "  {'hotel_id': 777, 'price': 143, 'stock': 60},\n",
       "  {'hotel_id': 346, 'price': 169, 'stock': 76},\n",
       "  {'hotel_id': 921, 'price': 80, 'stock': 48},\n",
       "  {'hotel_id': 880, 'price': 113, 'stock': 42},\n",
       "  {'hotel_id': 743, 'price': 157, 'stock': 46},\n",
       "  {'hotel_id': 604, 'price': 113, 'stock': 40},\n",
       "  {'hotel_id': 52, 'price': 152, 'stock': 52},\n",
       "  {'hotel_id': 429, 'price': 244, 'stock': 110},\n",
       "  {'hotel_id': 778, 'price': 111, 'stock': 41},\n",
       "  {'hotel_id': 660, 'price': 157, 'stock': 48},\n",
       "  {'hotel_id': 101, 'price': 267, 'stock': 102},\n",
       "  {'hotel_id': 591, 'price': 239, 'stock': 115},\n",
       "  {'hotel_id': 625, 'price': 185, 'stock': 69},\n",
       "  {'hotel_id': 77, 'price': 249, 'stock': 115},\n",
       "  {'hotel_id': 630, 'price': 147, 'stock': 66},\n",
       "  {'hotel_id': 375, 'price': 106, 'stock': 42},\n",
       "  {'hotel_id': 517, 'price': 113, 'stock': 53},\n",
       "  {'hotel_id': 581, 'price': 149, 'stock': 29},\n",
       "  {'hotel_id': 493, 'price': 154, 'stock': 54},\n",
       "  {'hotel_id': 603, 'price': 250, 'stock': 96},\n",
       "  {'hotel_id': 809, 'price': 249, 'stock': 109},\n",
       "  {'hotel_id': 867, 'price': 142, 'stock': 48},\n",
       "  {'hotel_id': 157, 'price': 248, 'stock': 98},\n",
       "  {'hotel_id': 507, 'price': 110, 'stock': 36},\n",
       "  {'hotel_id': 234, 'price': 146, 'stock': 52},\n",
       "  {'hotel_id': 971, 'price': 149, 'stock': 52},\n",
       "  {'hotel_id': 878, 'price': 102, 'stock': 66},\n",
       "  {'hotel_id': 85, 'price': 101, 'stock': 44},\n",
       "  {'hotel_id': 140, 'price': 109, 'stock': 43},\n",
       "  {'hotel_id': 570, 'price': 103, 'stock': 45},\n",
       "  {'hotel_id': 455, 'price': 141, 'stock': 56},\n",
       "  {'hotel_id': 214, 'price': 181, 'stock': 72},\n",
       "  {'hotel_id': 264, 'price': 78, 'stock': 21},\n",
       "  {'hotel_id': 567, 'price': 80, 'stock': 19},\n",
       "  {'hotel_id': 86, 'price': 109, 'stock': 78},\n",
       "  {'hotel_id': 548, 'price': 234, 'stock': 126},\n",
       "  {'hotel_id': 223, 'price': 151, 'stock': 51},\n",
       "  {'hotel_id': 745, 'price': 106, 'stock': 28},\n",
       "  {'hotel_id': 417, 'price': 142, 'stock': 62},\n",
       "  {'hotel_id': 369, 'price': 77, 'stock': 21},\n",
       "  {'hotel_id': 960, 'price': 263, 'stock': 100},\n",
       "  {'hotel_id': 193, 'price': 145, 'stock': 48},\n",
       "  {'hotel_id': 679, 'price': 154, 'stock': 52},\n",
       "  {'hotel_id': 45, 'price': 154, 'stock': 54},\n",
       "  {'hotel_id': 685, 'price': 261, 'stock': 94},\n",
       "  {'hotel_id': 326, 'price': 240, 'stock': 109},\n",
       "  {'hotel_id': 441, 'price': 185, 'stock': 69},\n",
       "  {'hotel_id': 835, 'price': 105, 'stock': 62},\n",
       "  {'hotel_id': 460, 'price': 85, 'stock': 22},\n",
       "  {'hotel_id': 902, 'price': 169, 'stock': 94},\n",
       "  {'hotel_id': 163, 'price': 178, 'stock': 76},\n",
       "  {'hotel_id': 256, 'price': 80, 'stock': 23},\n",
       "  {'hotel_id': 674, 'price': 123, 'stock': 46},\n",
       "  {'hotel_id': 212, 'price': 196, 'stock': 66},\n",
       "  {'hotel_id': 410, 'price': 116, 'stock': 38},\n",
       "  {'hotel_id': 628, 'price': 154, 'stock': 65},\n",
       "  {'hotel_id': 933, 'price': 154, 'stock': 58},\n",
       "  {'hotel_id': 12, 'price': 78, 'stock': 21},\n",
       "  {'hotel_id': 783, 'price': 94, 'stock': 20},\n",
       "  {'hotel_id': 352, 'price': 102, 'stock': 61},\n",
       "  {'hotel_id': 307, 'price': 106, 'stock': 44},\n",
       "  {'hotel_id': 510, 'price': 263, 'stock': 119},\n",
       "  {'hotel_id': 103, 'price': 184, 'stock': 80},\n",
       "  {'hotel_id': 788, 'price': 111, 'stock': 50},\n",
       "  {'hotel_id': 373, 'price': 110, 'stock': 43},\n",
       "  {'hotel_id': 750, 'price': 107, 'stock': 19},\n",
       "  {'hotel_id': 588, 'price': 178, 'stock': 55},\n",
       "  {'hotel_id': 945, 'price': 143, 'stock': 72},\n",
       "  {'hotel_id': 105, 'price': 159, 'stock': 48},\n",
       "  {'hotel_id': 387, 'price': 234, 'stock': 104},\n",
       "  {'hotel_id': 752, 'price': 248, 'stock': 107},\n",
       "  {'hotel_id': 317, 'price': 163, 'stock': 76},\n",
       "  {'hotel_id': 146, 'price': 178, 'stock': 74},\n",
       "  {'hotel_id': 230, 'price': 107, 'stock': 40},\n",
       "  {'hotel_id': 658, 'price': 161, 'stock': 56},\n",
       "  {'hotel_id': 918, 'price': 261, 'stock': 110},\n",
       "  {'hotel_id': 303, 'price': 170, 'stock': 85},\n",
       "  {'hotel_id': 82, 'price': 111, 'stock': 44},\n",
       "  {'hotel_id': 9, 'price': 86, 'stock': 54},\n",
       "  {'hotel_id': 676, 'price': 70, 'stock': 20},\n",
       "  {'hotel_id': 211, 'price': 151, 'stock': 60},\n",
       "  {'hotel_id': 430, 'price': 161, 'stock': 101},\n",
       "  {'hotel_id': 657, 'price': 164, 'stock': 85},\n",
       "  {'hotel_id': 680, 'price': 148, 'stock': 24},\n",
       "  {'hotel_id': 482, 'price': 82, 'stock': 21},\n",
       "  {'hotel_id': 442, 'price': 164, 'stock': 85},\n",
       "  {'hotel_id': 706, 'price': 115, 'stock': 38},\n",
       "  {'hotel_id': 88, 'price': 125, 'stock': 38},\n",
       "  {'hotel_id': 450, 'price': 175, 'stock': 86},\n",
       "  {'hotel_id': 505, 'price': 104, 'stock': 44},\n",
       "  {'hotel_id': 271, 'price': 83, 'stock': 21},\n",
       "  {'hotel_id': 806, 'price': 263, 'stock': 102},\n",
       "  {'hotel_id': 967, 'price': 75, 'stock': 60},\n",
       "  {'hotel_id': 515, 'price': 251, 'stock': 99},\n",
       "  {'hotel_id': 465, 'price': 229, 'stock': 123},\n",
       "  {'hotel_id': 218, 'price': 186, 'stock': 74},\n",
       "  {'hotel_id': 16, 'price': 161, 'stock': 48},\n",
       "  {'hotel_id': 587, 'price': 155, 'stock': 50},\n",
       "  {'hotel_id': 925, 'price': 100, 'stock': 44},\n",
       "  {'hotel_id': 475, 'price': 99, 'stock': 49},\n",
       "  {'hotel_id': 117, 'price': 76, 'stock': 23},\n",
       "  {'hotel_id': 22, 'price': 165, 'stock': 45},\n",
       "  {'hotel_id': 594, 'price': 237, 'stock': 152},\n",
       "  {'hotel_id': 83, 'price': 154, 'stock': 48}],\n",
       " 'request': {'city': 'amsterdam',\n",
       "  'date': 30,\n",
       "  'language': 'hungarian',\n",
       "  'mobile': 1,\n",
       "  'avatar_id': 6217}}"
      ]
     },
     "execution_count": 5,
     "metadata": {},
     "output_type": "execute_result"
    }
   ],
   "source": [
    "params = {\n",
    "    \"avatar_name\": \"ema-first-avatar\",\n",
    "    \"language\": \"hungarian\",\n",
    "    \"city\": \"amsterdam\",\n",
    "    \"date\": 30,\n",
    "    \"mobile\": 1,\n",
    "}\n",
    "r2 = requests.get(path(f\"pricing/{user_id}\"), params=params)\n",
    "r2.json()"
   ]
  },
  {
   "cell_type": "markdown",
   "metadata": {
    "papermill": {
     "duration": 0.004871,
     "end_time": "2022-10-06T11:59:41.890316",
     "exception": false,
     "start_time": "2022-10-06T11:59:41.885445",
     "status": "completed"
    },
    "tags": []
   },
   "source": [
    "## Build a training set"
   ]
  },
  {
   "cell_type": "code",
   "execution_count": 6,
   "metadata": {
    "execution": {
     "iopub.execute_input": "2022-10-06T11:59:41.901920Z",
     "iopub.status.busy": "2022-10-06T11:59:41.901507Z",
     "iopub.status.idle": "2022-10-06T11:59:41.949655Z",
     "shell.execute_reply": "2022-10-06T11:59:41.948888Z"
    },
    "papermill": {
     "duration": 0.05653,
     "end_time": "2022-10-06T11:59:41.951911",
     "exception": false,
     "start_time": "2022-10-06T11:59:41.895381",
     "status": "completed"
    },
    "tags": []
   },
   "outputs": [
    {
     "data": {
      "text/html": [
       "<div>\n",
       "<style scoped>\n",
       "    .dataframe tbody tr th:only-of-type {\n",
       "        vertical-align: middle;\n",
       "    }\n",
       "\n",
       "    .dataframe tbody tr th {\n",
       "        vertical-align: top;\n",
       "    }\n",
       "\n",
       "    .dataframe thead th {\n",
       "        text-align: right;\n",
       "    }\n",
       "</style>\n",
       "<table border=\"1\" class=\"dataframe\">\n",
       "  <thead>\n",
       "    <tr style=\"text-align: right;\">\n",
       "      <th></th>\n",
       "      <th>hotel_id</th>\n",
       "      <th>price</th>\n",
       "      <th>stock</th>\n",
       "      <th>city</th>\n",
       "      <th>date</th>\n",
       "      <th>language</th>\n",
       "      <th>mobile</th>\n",
       "      <th>avatar_id</th>\n",
       "    </tr>\n",
       "  </thead>\n",
       "  <tbody>\n",
       "    <tr>\n",
       "      <td>0</td>\n",
       "      <td>585</td>\n",
       "      <td>75</td>\n",
       "      <td>29</td>\n",
       "      <td>amsterdam</td>\n",
       "      <td>30</td>\n",
       "      <td>hungarian</td>\n",
       "      <td>0</td>\n",
       "      <td>6217</td>\n",
       "    </tr>\n",
       "    <tr>\n",
       "      <td>1</td>\n",
       "      <td>917</td>\n",
       "      <td>257</td>\n",
       "      <td>118</td>\n",
       "      <td>amsterdam</td>\n",
       "      <td>30</td>\n",
       "      <td>hungarian</td>\n",
       "      <td>0</td>\n",
       "      <td>6217</td>\n",
       "    </tr>\n",
       "    <tr>\n",
       "      <td>2</td>\n",
       "      <td>410</td>\n",
       "      <td>115</td>\n",
       "      <td>38</td>\n",
       "      <td>amsterdam</td>\n",
       "      <td>30</td>\n",
       "      <td>hungarian</td>\n",
       "      <td>0</td>\n",
       "      <td>6217</td>\n",
       "    </tr>\n",
       "    <tr>\n",
       "      <td>3</td>\n",
       "      <td>45</td>\n",
       "      <td>152</td>\n",
       "      <td>54</td>\n",
       "      <td>amsterdam</td>\n",
       "      <td>30</td>\n",
       "      <td>hungarian</td>\n",
       "      <td>0</td>\n",
       "      <td>6217</td>\n",
       "    </tr>\n",
       "    <tr>\n",
       "      <td>4</td>\n",
       "      <td>510</td>\n",
       "      <td>259</td>\n",
       "      <td>119</td>\n",
       "      <td>amsterdam</td>\n",
       "      <td>30</td>\n",
       "      <td>hungarian</td>\n",
       "      <td>0</td>\n",
       "      <td>6217</td>\n",
       "    </tr>\n",
       "  </tbody>\n",
       "</table>\n",
       "</div>"
      ],
      "text/plain": [
       "   hotel_id  price  stock       city  date   language  mobile  avatar_id\n",
       "0       585     75     29  amsterdam    30  hungarian       0       6217\n",
       "1       917    257    118  amsterdam    30  hungarian       0       6217\n",
       "2       410    115     38  amsterdam    30  hungarian       0       6217\n",
       "3        45    152     54  amsterdam    30  hungarian       0       6217\n",
       "4       510    259    119  amsterdam    30  hungarian       0       6217"
      ]
     },
     "execution_count": 6,
     "metadata": {},
     "output_type": "execute_result"
    }
   ],
   "source": [
    "import pandas as pd\n",
    "\n",
    "pricing_requests = []\n",
    "\n",
    "requests = [r1,r2]\n",
    "for r in requests:\n",
    "    pricing_requests.append(\n",
    "        pd.DataFrame(r.json()['prices']).assign(**r.json()['request'])\n",
    "    )\n",
    "\n",
    "pricing_requests = pd.concat(pricing_requests)\n",
    "pricing_requests.head()"
   ]
  },
  {
   "cell_type": "code",
   "execution_count": 14,
   "metadata": {},
   "outputs": [
    {
     "name": "stdout",
     "output_type": "stream",
     "text": [
      "     hotel_id  price  stock       city  date   language  mobile  avatar_id\n",
      "0         809    238    109  amsterdam    30  hungarian       1       6217\n",
      "1         429    233    110  amsterdam    30  hungarian       1       6217\n",
      "2         375    101     42  amsterdam    30  hungarian       1       6217\n",
      "3         548    223    126  amsterdam    30  hungarian       1       6217\n",
      "4         777    137     60  amsterdam    30  hungarian       1       6217\n",
      "..        ...    ...    ...        ...   ...        ...     ...        ...\n",
      "128       529    223    115  amsterdam    30  hungarian       1       6217\n",
      "129       658    154     56  amsterdam    30  hungarian       1       6217\n",
      "130       103    176     80  amsterdam    30  hungarian       1       6217\n",
      "131       450    167     86  amsterdam    30  hungarian       1       6217\n",
      "132       214    173     72  amsterdam    30  hungarian       1       6217\n",
      "\n",
      "[133 rows x 8 columns]\n"
     ]
    }
   ],
   "source": [
    "# print(pricing_requests[ pricing_requests['mobile'] == 1 ])"
   ]
  },
  {
   "cell_type": "code",
   "execution_count": 7,
   "metadata": {
    "execution": {
     "iopub.execute_input": "2022-10-06T11:59:41.964890Z",
     "iopub.status.busy": "2022-10-06T11:59:41.964477Z",
     "iopub.status.idle": "2022-10-06T11:59:41.969848Z",
     "shell.execute_reply": "2022-10-06T11:59:41.969115Z"
    },
    "papermill": {
     "duration": 0.014276,
     "end_time": "2022-10-06T11:59:41.971877",
     "exception": false,
     "start_time": "2022-10-06T11:59:41.957601",
     "status": "completed"
    },
    "tags": []
   },
   "outputs": [
    {
     "data": {
      "text/plain": [
       "266"
      ]
     },
     "execution_count": 7,
     "metadata": {},
     "output_type": "execute_result"
    }
   ],
   "source": [
    "len(pricing_requests)"
   ]
  },
  {
   "cell_type": "code",
   "execution_count": 10,
   "metadata": {},
   "outputs": [],
   "source": [
    "data=pd.read_csv('./Datatrain/test_requete.csv')"
   ]
  },
  {
   "cell_type": "code",
   "execution_count": 19,
   "metadata": {},
   "outputs": [],
   "source": [
    "data=data.drop(['Unnamed: 0'],axis=1)"
   ]
  },
  {
   "cell_type": "code",
   "execution_count": 22,
   "metadata": {},
   "outputs": [],
   "source": [
    "pricing_requests=pd.concat([data,pricing_requests])"
   ]
  },
  {
   "cell_type": "code",
   "execution_count": 23,
   "metadata": {},
   "outputs": [
    {
     "data": {
      "text/plain": [
       "410"
      ]
     },
     "execution_count": 23,
     "metadata": {},
     "output_type": "execute_result"
    }
   ],
   "source": [
    "pricing_requests"
   ]
  },
  {
   "cell_type": "code",
   "execution_count": 29,
   "metadata": {
    "execution": {
     "iopub.execute_input": "2022-10-06T11:59:41.985831Z",
     "iopub.status.busy": "2022-10-06T11:59:41.985407Z",
     "iopub.status.idle": "2022-10-06T11:59:42.027564Z",
     "shell.execute_reply": "2022-10-06T11:59:42.026492Z"
    },
    "papermill": {
     "duration": 0.052663,
     "end_time": "2022-10-06T11:59:42.030016",
     "exception": false,
     "start_time": "2022-10-06T11:59:41.977353",
     "status": "completed"
    },
    "tags": []
   },
   "outputs": [
    {
     "data": {
      "text/html": [
       "<div>\n",
       "<style scoped>\n",
       "    .dataframe tbody tr th:only-of-type {\n",
       "        vertical-align: middle;\n",
       "    }\n",
       "\n",
       "    .dataframe tbody tr th {\n",
       "        vertical-align: top;\n",
       "    }\n",
       "\n",
       "    .dataframe thead th {\n",
       "        text-align: right;\n",
       "    }\n",
       "</style>\n",
       "<table border=\"1\" class=\"dataframe\">\n",
       "  <thead>\n",
       "    <tr style=\"text-align: right;\">\n",
       "      <th></th>\n",
       "      <th>hotel_id</th>\n",
       "      <th>price</th>\n",
       "      <th>stock</th>\n",
       "      <th>city</th>\n",
       "      <th>date</th>\n",
       "      <th>language</th>\n",
       "      <th>mobile</th>\n",
       "      <th>avatar_id</th>\n",
       "      <th>group</th>\n",
       "      <th>brand</th>\n",
       "      <th>parking</th>\n",
       "      <th>pool</th>\n",
       "      <th>children_policy</th>\n",
       "    </tr>\n",
       "  </thead>\n",
       "  <tbody>\n",
       "    <tr>\n",
       "      <td>0</td>\n",
       "      <td>556</td>\n",
       "      <td>175</td>\n",
       "      <td>60</td>\n",
       "      <td>copenhagen</td>\n",
       "      <td>30</td>\n",
       "      <td>hungarian</td>\n",
       "      <td>0</td>\n",
       "      <td>6217</td>\n",
       "      <td>Boss Western</td>\n",
       "      <td>J.Halliday Inn</td>\n",
       "      <td>1</td>\n",
       "      <td>0</td>\n",
       "      <td>0</td>\n",
       "    </tr>\n",
       "    <tr>\n",
       "      <td>1</td>\n",
       "      <td>664</td>\n",
       "      <td>284</td>\n",
       "      <td>111</td>\n",
       "      <td>copenhagen</td>\n",
       "      <td>30</td>\n",
       "      <td>hungarian</td>\n",
       "      <td>0</td>\n",
       "      <td>6217</td>\n",
       "      <td>Accar Hotels</td>\n",
       "      <td>Safitel</td>\n",
       "      <td>0</td>\n",
       "      <td>1</td>\n",
       "      <td>0</td>\n",
       "    </tr>\n",
       "    <tr>\n",
       "      <td>2</td>\n",
       "      <td>96</td>\n",
       "      <td>124</td>\n",
       "      <td>37</td>\n",
       "      <td>copenhagen</td>\n",
       "      <td>30</td>\n",
       "      <td>hungarian</td>\n",
       "      <td>0</td>\n",
       "      <td>6217</td>\n",
       "      <td>Boss Western</td>\n",
       "      <td>Boss Western</td>\n",
       "      <td>0</td>\n",
       "      <td>0</td>\n",
       "      <td>0</td>\n",
       "    </tr>\n",
       "    <tr>\n",
       "      <td>3</td>\n",
       "      <td>865</td>\n",
       "      <td>277</td>\n",
       "      <td>107</td>\n",
       "      <td>copenhagen</td>\n",
       "      <td>30</td>\n",
       "      <td>hungarian</td>\n",
       "      <td>0</td>\n",
       "      <td>6217</td>\n",
       "      <td>Chillton Worldwide</td>\n",
       "      <td>Chill Garden Inn</td>\n",
       "      <td>1</td>\n",
       "      <td>1</td>\n",
       "      <td>0</td>\n",
       "    </tr>\n",
       "    <tr>\n",
       "      <td>4</td>\n",
       "      <td>58</td>\n",
       "      <td>203</td>\n",
       "      <td>65</td>\n",
       "      <td>copenhagen</td>\n",
       "      <td>30</td>\n",
       "      <td>hungarian</td>\n",
       "      <td>0</td>\n",
       "      <td>6217</td>\n",
       "      <td>Yin Yang</td>\n",
       "      <td>Royal Lotus</td>\n",
       "      <td>1</td>\n",
       "      <td>0</td>\n",
       "      <td>2</td>\n",
       "    </tr>\n",
       "  </tbody>\n",
       "</table>\n",
       "</div>"
      ],
      "text/plain": [
       "   hotel_id  price  stock        city  date   language  mobile  avatar_id  \\\n",
       "0       556    175     60  copenhagen    30  hungarian       0       6217   \n",
       "1       664    284    111  copenhagen    30  hungarian       0       6217   \n",
       "2        96    124     37  copenhagen    30  hungarian       0       6217   \n",
       "3       865    277    107  copenhagen    30  hungarian       0       6217   \n",
       "4        58    203     65  copenhagen    30  hungarian       0       6217   \n",
       "\n",
       "                group             brand  parking  pool  children_policy  \n",
       "0        Boss Western    J.Halliday Inn        1     0                0  \n",
       "1        Accar Hotels           Safitel        0     1                0  \n",
       "2        Boss Western      Boss Western        0     0                0  \n",
       "3  Chillton Worldwide  Chill Garden Inn        1     1                0  \n",
       "4            Yin Yang       Royal Lotus        1     0                2  "
      ]
     },
     "execution_count": 29,
     "metadata": {},
     "output_type": "execute_result"
    }
   ],
   "source": [
    "hotels = pd.read_csv('features_hotels.csv', index_col=['hotel_id', 'city'])\n",
    "pricing_requests = pricing_requests.join(hotels, on=['hotel_id', 'city'])\n",
    "pricing_requests.head()"
   ]
  },
  {
   "cell_type": "code",
   "execution_count": 30,
   "metadata": {},
   "outputs": [],
   "source": [
    "pricing_requests.to_csv('./Datatrain/test_requete.csv')"
   ]
  },
  {
   "cell_type": "code",
   "execution_count": 11,
   "metadata": {
    "execution": {
     "iopub.execute_input": "2022-10-06T11:59:42.043357Z",
     "iopub.status.busy": "2022-10-06T11:59:42.042987Z",
     "iopub.status.idle": "2022-10-06T11:59:42.061602Z",
     "shell.execute_reply": "2022-10-06T11:59:42.060529Z"
    },
    "papermill": {
     "duration": 0.028018,
     "end_time": "2022-10-06T11:59:42.063852",
     "exception": false,
     "start_time": "2022-10-06T11:59:42.035834",
     "status": "completed"
    },
    "tags": []
   },
   "outputs": [
    {
     "data": {
      "text/html": [
       "<div>\n",
       "<style scoped>\n",
       "    .dataframe tbody tr th:only-of-type {\n",
       "        vertical-align: middle;\n",
       "    }\n",
       "\n",
       "    .dataframe tbody tr th {\n",
       "        vertical-align: top;\n",
       "    }\n",
       "\n",
       "    .dataframe thead th {\n",
       "        text-align: right;\n",
       "    }\n",
       "</style>\n",
       "<table border=\"1\" class=\"dataframe\">\n",
       "  <thead>\n",
       "    <tr style=\"text-align: right;\">\n",
       "      <th></th>\n",
       "      <th>index</th>\n",
       "      <th>price</th>\n",
       "    </tr>\n",
       "  </thead>\n",
       "  <tbody>\n",
       "    <tr>\n",
       "      <th>0</th>\n",
       "      <td>0</td>\n",
       "      <td>191.0</td>\n",
       "    </tr>\n",
       "    <tr>\n",
       "      <th>1</th>\n",
       "      <td>1</td>\n",
       "      <td>191.0</td>\n",
       "    </tr>\n",
       "    <tr>\n",
       "      <th>2</th>\n",
       "      <td>2</td>\n",
       "      <td>191.0</td>\n",
       "    </tr>\n",
       "    <tr>\n",
       "      <th>3</th>\n",
       "      <td>3</td>\n",
       "      <td>191.0</td>\n",
       "    </tr>\n",
       "    <tr>\n",
       "      <th>4</th>\n",
       "      <td>4</td>\n",
       "      <td>191.0</td>\n",
       "    </tr>\n",
       "  </tbody>\n",
       "</table>\n",
       "</div>"
      ],
      "text/plain": [
       "   index  price\n",
       "0      0  191.0\n",
       "1      1  191.0\n",
       "2      2  191.0\n",
       "3      3  191.0\n",
       "4      4  191.0"
      ]
     },
     "execution_count": 11,
     "metadata": {},
     "output_type": "execute_result"
    }
   ],
   "source": [
    "# sample_submission = pd.read_csv('../input/defi-ia-2023/sample_submission.csv')\n",
    "# sample_submission.head()"
   ]
  },
  {
   "cell_type": "code",
   "execution_count": 12,
   "metadata": {
    "execution": {
     "iopub.execute_input": "2022-10-06T11:59:42.077543Z",
     "iopub.status.busy": "2022-10-06T11:59:42.077158Z",
     "iopub.status.idle": "2022-10-06T11:59:42.094916Z",
     "shell.execute_reply": "2022-10-06T11:59:42.093676Z"
    },
    "papermill": {
     "duration": 0.027487,
     "end_time": "2022-10-06T11:59:42.097411",
     "exception": false,
     "start_time": "2022-10-06T11:59:42.069924",
     "status": "completed"
    },
    "tags": []
   },
   "outputs": [],
   "source": [
    "# sample_submission.to_csv('submission.csv', index=False)"
   ]
  }
 ],
 "metadata": {
  "kernelspec": {
   "display_name": "Python 3",
   "language": "python",
   "name": "python3"
  },
  "language_info": {
   "codemirror_mode": {
    "name": "ipython",
    "version": 3
   },
   "file_extension": ".py",
   "mimetype": "text/x-python",
   "name": "python",
   "nbconvert_exporter": "python",
   "pygments_lexer": "ipython3",
   "version": "3.8.5"
  },
  "papermill": {
   "default_parameters": {},
   "duration": 11.143049,
   "end_time": "2022-10-06T11:59:42.724449",
   "environment_variables": {},
   "exception": null,
   "input_path": "__notebook__.ipynb",
   "output_path": "__notebook__.ipynb",
   "parameters": {},
   "start_time": "2022-10-06T11:59:31.581400",
   "version": "2.3.4"
  }
 },
 "nbformat": 4,
 "nbformat_minor": 5
}
