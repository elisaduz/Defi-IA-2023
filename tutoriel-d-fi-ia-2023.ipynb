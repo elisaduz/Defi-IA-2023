{
 "cells": [
  {
   "cell_type": "markdown",
   "metadata": {
    "papermill": {
     "duration": 0.005474,
     "end_time": "2022-10-06T11:59:40.379015",
     "exception": false,
     "start_time": "2022-10-06T11:59:40.373541",
     "status": "completed"
    },
    "tags": []
   },
   "source": [
    "# Tutoriel d'usage de l'API"
   ]
  },
  {
   "cell_type": "code",
   "execution_count": 1,
   "metadata": {
    "execution": {
     "iopub.execute_input": "2022-10-06T11:59:40.390301Z",
     "iopub.status.busy": "2022-10-06T11:59:40.389682Z",
     "iopub.status.idle": "2022-10-06T11:59:40.402447Z",
     "shell.execute_reply": "2022-10-06T11:59:40.401632Z"
    },
    "papermill": {
     "duration": 0.021302,
     "end_time": "2022-10-06T11:59:40.404818",
     "exception": false,
     "start_time": "2022-10-06T11:59:40.383516",
     "status": "completed"
    },
    "tags": []
   },
   "outputs": [],
   "source": [
    "import urllib.parse\n",
    "\n",
    "domain = \"51.91.251.0\"\n",
    "port = 3000\n",
    "host = f\"http://{domain}:{port}\"\n",
    "path = lambda x: urllib.parse.urljoin(host, x)"
   ]
  },
  {
   "cell_type": "markdown",
   "metadata": {
    "papermill": {
     "duration": 0.003988,
     "end_time": "2022-10-06T11:59:40.413193",
     "exception": false,
     "start_time": "2022-10-06T11:59:40.409205",
     "status": "completed"
    },
    "tags": []
   },
   "source": [
    "## Creating an avatar"
   ]
  },
  {
   "cell_type": "markdown",
   "metadata": {
    "papermill": {
     "duration": 0.004024,
     "end_time": "2022-10-06T11:59:40.421441",
     "exception": false,
     "start_time": "2022-10-06T11:59:40.417417",
     "status": "completed"
    },
    "tags": []
   },
   "source": [
    "The admin of the competition can create users. A user can then create as many avatars as they wish."
   ]
  },
  {
   "cell_type": "code",
   "execution_count": 2,
   "metadata": {
    "execution": {
     "iopub.execute_input": "2022-10-06T11:59:40.432149Z",
     "iopub.status.busy": "2022-10-06T11:59:40.431498Z",
     "iopub.status.idle": "2022-10-06T11:59:40.654576Z",
     "shell.execute_reply": "2022-10-06T11:59:40.652630Z"
    },
    "papermill": {
     "duration": 0.23497,
     "end_time": "2022-10-06T11:59:40.660791",
     "exception": false,
     "start_time": "2022-10-06T11:59:40.425821",
     "status": "completed"
    },
    "tags": []
   },
   "outputs": [
    {
     "data": {
      "text/plain": [
       "<Response [200]>"
      ]
     },
     "execution_count": 2,
     "metadata": {},
     "output_type": "execute_result"
    }
   ],
   "source": [
    "import requests\n",
    "\n",
    "user_id = '12e1e6fc-456b-4738-ba59-b90c3386f583'\n",
    "name = 'ema-first-avatar'\n",
    "r = requests.post(path(f'avatars/{user_id}/{name}'))\n",
    "r"
   ]
  },
  {
   "cell_type": "code",
   "execution_count": 3,
   "metadata": {
    "execution": {
     "iopub.execute_input": "2022-10-06T11:59:40.673570Z",
     "iopub.status.busy": "2022-10-06T11:59:40.672368Z",
     "iopub.status.idle": "2022-10-06T11:59:40.883155Z",
     "shell.execute_reply": "2022-10-06T11:59:40.881934Z"
    },
    "papermill": {
     "duration": 0.219214,
     "end_time": "2022-10-06T11:59:40.885475",
     "exception": false,
     "start_time": "2022-10-06T11:59:40.666261",
     "status": "completed"
    },
    "tags": []
   },
   "outputs": [
    {
     "data": {
      "text/plain": [
       "<Response [200]>"
      ]
     },
     "execution_count": 3,
     "metadata": {},
     "output_type": "execute_result"
    }
   ],
   "source": [
    "# name = 'max-second-avatar'\n",
    "# r = requests.post(path(f\"avatars/{user_id}/{name}\"))\n",
    "# r"
   ]
  },
  {
   "cell_type": "code",
   "execution_count": 3,
   "metadata": {
    "execution": {
     "iopub.execute_input": "2022-10-06T11:59:40.896525Z",
     "iopub.status.busy": "2022-10-06T11:59:40.895549Z",
     "iopub.status.idle": "2022-10-06T11:59:41.102485Z",
     "shell.execute_reply": "2022-10-06T11:59:41.101223Z"
    },
    "papermill": {
     "duration": 0.215119,
     "end_time": "2022-10-06T11:59:41.105182",
     "exception": false,
     "start_time": "2022-10-06T11:59:40.890063",
     "status": "completed"
    },
    "tags": []
   },
   "outputs": [
    {
     "name": "stdout",
     "output_type": "stream",
     "text": [
      "6217 ema-first-avatar\n"
     ]
    }
   ],
   "source": [
    "r = requests.get(path(f\"avatars/{user_id}\"))\n",
    "for avatar in r.json():\n",
    "    print(avatar['id'], avatar['name'])"
   ]
  },
  {
   "cell_type": "markdown",
   "metadata": {
    "papermill": {
     "duration": 0.004317,
     "end_time": "2022-10-06T11:59:41.114227",
     "exception": false,
     "start_time": "2022-10-06T11:59:41.109910",
     "status": "completed"
    },
    "tags": []
   },
   "source": [
    "## Making pricing requests"
   ]
  },
  {
   "cell_type": "code",
   "execution_count": 4,
   "metadata": {
    "execution": {
     "iopub.execute_input": "2022-10-06T11:59:41.125216Z",
     "iopub.status.busy": "2022-10-06T11:59:41.124835Z",
     "iopub.status.idle": "2022-10-06T11:59:41.382965Z",
     "shell.execute_reply": "2022-10-06T11:59:41.381761Z"
    },
    "papermill": {
     "duration": 0.266446,
     "end_time": "2022-10-06T11:59:41.385306",
     "exception": false,
     "start_time": "2022-10-06T11:59:41.118860",
     "status": "completed"
    },
    "tags": []
   },
   "outputs": [
    {
     "data": {
      "text/plain": [
       "{'prices': [{'hotel_id': 556, 'price': 175, 'stock': 60},\n",
       "  {'hotel_id': 664, 'price': 284, 'stock': 111},\n",
       "  {'hotel_id': 96, 'price': 124, 'stock': 37},\n",
       "  {'hotel_id': 865, 'price': 277, 'stock': 107},\n",
       "  {'hotel_id': 58, 'price': 203, 'stock': 65},\n",
       "  {'hotel_id': 655, 'price': 269, 'stock': 111},\n",
       "  {'hotel_id': 309, 'price': 94, 'stock': 44},\n",
       "  {'hotel_id': 153, 'price': 208, 'stock': 66},\n",
       "  {'hotel_id': 194, 'price': 118, 'stock': 20},\n",
       "  {'hotel_id': 744, 'price': 166, 'stock': 55},\n",
       "  {'hotel_id': 267, 'price': 173, 'stock': 58},\n",
       "  {'hotel_id': 616, 'price': 170, 'stock': 50},\n",
       "  {'hotel_id': 202, 'price': 156, 'stock': 52},\n",
       "  {'hotel_id': 981, 'price': 94, 'stock': 22},\n",
       "  {'hotel_id': 249, 'price': 83, 'stock': 68},\n",
       "  {'hotel_id': 518, 'price': 112, 'stock': 43},\n",
       "  {'hotel_id': 812, 'price': 178, 'stock': 48},\n",
       "  {'hotel_id': 435, 'price': 290, 'stock': 97},\n",
       "  {'hotel_id': 434, 'price': 102, 'stock': 18},\n",
       "  {'hotel_id': 546, 'price': 84, 'stock': 47},\n",
       "  {'hotel_id': 547, 'price': 173, 'stock': 50},\n",
       "  {'hotel_id': 402, 'price': 128, 'stock': 38},\n",
       "  {'hotel_id': 698, 'price': 190, 'stock': 74},\n",
       "  {'hotel_id': 978, 'price': 287, 'stock': 120},\n",
       "  {'hotel_id': 849, 'price': 156, 'stock': 52},\n",
       "  {'hotel_id': 727, 'price': 121, 'stock': 19},\n",
       "  {'hotel_id': 930, 'price': 113, 'stock': 70},\n",
       "  {'hotel_id': 348, 'price': 156, 'stock': 76},\n",
       "  {'hotel_id': 514, 'price': 256, 'stock': 129},\n",
       "  {'hotel_id': 405, 'price': 97, 'stock': 22},\n",
       "  {'hotel_id': 716, 'price': 128, 'stock': 40},\n",
       "  {'hotel_id': 391, 'price': 170, 'stock': 54},\n",
       "  {'hotel_id': 831, 'price': 88, 'stock': 19},\n",
       "  {'hotel_id': 425, 'price': 183, 'stock': 92},\n",
       "  {'hotel_id': 691, 'price': 81, 'stock': 51},\n",
       "  {'hotel_id': 830, 'price': 87, 'stock': 51},\n",
       "  {'hotel_id': 243, 'price': 93, 'stock': 21},\n",
       "  {'hotel_id': 834, 'price': 91, 'stock': 16},\n",
       "  {'hotel_id': 60, 'price': 90, 'stock': 23},\n",
       "  {'hotel_id': 100, 'price': 87, 'stock': 21},\n",
       "  {'hotel_id': 872, 'price': 93, 'stock': 27},\n",
       "  {'hotel_id': 6, 'price': 116, 'stock': 49},\n",
       "  {'hotel_id': 726, 'price': 267, 'stock': 103},\n",
       "  {'hotel_id': 688, 'price': 83, 'stock': 45},\n",
       "  {'hotel_id': 349, 'price': 217, 'stock': 68},\n",
       "  {'hotel_id': 829, 'price': 180, 'stock': 56},\n",
       "  {'hotel_id': 91, 'price': 123, 'stock': 20},\n",
       "  {'hotel_id': 523, 'price': 81, 'stock': 41},\n",
       "  {'hotel_id': 487, 'price': 166, 'stock': 62},\n",
       "  {'hotel_id': 720, 'price': 269, 'stock': 118},\n",
       "  {'hotel_id': 695, 'price': 173, 'stock': 50},\n",
       "  {'hotel_id': 938, 'price': 119, 'stock': 26},\n",
       "  {'hotel_id': 922, 'price': 222, 'stock': 63},\n",
       "  {'hotel_id': 908, 'price': 313, 'stock': 92},\n",
       "  {'hotel_id': 894, 'price': 289, 'stock': 105},\n",
       "  {'hotel_id': 122, 'price': 279, 'stock': 120},\n",
       "  {'hotel_id': 559, 'price': 196, 'stock': 74},\n",
       "  {'hotel_id': 280, 'price': 117, 'stock': 64},\n",
       "  {'hotel_id': 23, 'price': 163, 'stock': 56},\n",
       "  {'hotel_id': 32, 'price': 175, 'stock': 57},\n",
       "  {'hotel_id': 1, 'price': 95, 'stock': 39},\n",
       "  {'hotel_id': 506, 'price': 121, 'stock': 23},\n",
       "  {'hotel_id': 669, 'price': 195, 'stock': 76},\n",
       "  {'hotel_id': 951, 'price': 83, 'stock': 47},\n",
       "  {'hotel_id': 350, 'price': 296, 'stock': 125},\n",
       "  {'hotel_id': 562, 'price': 207, 'stock': 74},\n",
       "  {'hotel_id': 433, 'price': 112, 'stock': 45},\n",
       "  {'hotel_id': 124, 'price': 266, 'stock': 120},\n",
       "  {'hotel_id': 335, 'price': 87, 'stock': 46},\n",
       "  {'hotel_id': 519, 'price': 200, 'stock': 68},\n",
       "  {'hotel_id': 508, 'price': 195, 'stock': 78},\n",
       "  {'hotel_id': 539, 'price': 266, 'stock': 117},\n",
       "  {'hotel_id': 463, 'price': 97, 'stock': 18},\n",
       "  {'hotel_id': 869, 'price': 282, 'stock': 98},\n",
       "  {'hotel_id': 332, 'price': 200, 'stock': 86},\n",
       "  {'hotel_id': 481, 'price': 93, 'stock': 21},\n",
       "  {'hotel_id': 596, 'price': 170, 'stock': 40},\n",
       "  {'hotel_id': 638, 'price': 153, 'stock': 63},\n",
       "  {'hotel_id': 818, 'price': 173, 'stock': 44},\n",
       "  {'hotel_id': 973, 'price': 171, 'stock': 54},\n",
       "  {'hotel_id': 844, 'price': 270, 'stock': 108},\n",
       "  {'hotel_id': 90, 'price': 164, 'stock': 56},\n",
       "  {'hotel_id': 757, 'price': 129, 'stock': 37},\n",
       "  {'hotel_id': 707, 'price': 287, 'stock': 103},\n",
       "  {'hotel_id': 50, 'price': 128, 'stock': 39},\n",
       "  {'hotel_id': 772, 'price': 292, 'stock': 85},\n",
       "  {'hotel_id': 422, 'price': 289, 'stock': 102},\n",
       "  {'hotel_id': 367, 'price': 92, 'stock': 24},\n",
       "  {'hotel_id': 855, 'price': 185, 'stock': 85},\n",
       "  {'hotel_id': 365, 'price': 92, 'stock': 23},\n",
       "  {'hotel_id': 771, 'price': 287, 'stock': 109},\n",
       "  {'hotel_id': 690, 'price': 198, 'stock': 82},\n",
       "  {'hotel_id': 445, 'price': 89, 'stock': 22},\n",
       "  {'hotel_id': 319, 'price': 286, 'stock': 116},\n",
       "  {'hotel_id': 358, 'price': 190, 'stock': 73},\n",
       "  {'hotel_id': 995, 'price': 188, 'stock': 72},\n",
       "  {'hotel_id': 541, 'price': 124, 'stock': 43},\n",
       "  {'hotel_id': 761, 'price': 119, 'stock': 47},\n",
       "  {'hotel_id': 622, 'price': 122, 'stock': 50},\n",
       "  {'hotel_id': 531, 'price': 175, 'stock': 53},\n",
       "  {'hotel_id': 770, 'price': 202, 'stock': 73},\n",
       "  {'hotel_id': 142, 'price': 304, 'stock': 115},\n",
       "  {'hotel_id': 959, 'price': 188, 'stock': 74},\n",
       "  {'hotel_id': 497, 'price': 202, 'stock': 71},\n",
       "  {'hotel_id': 900, 'price': 185, 'stock': 80},\n",
       "  {'hotel_id': 318, 'price': 136, 'stock': 36},\n",
       "  {'hotel_id': 766, 'price': 292, 'stock': 102},\n",
       "  {'hotel_id': 532, 'price': 205, 'stock': 76},\n",
       "  {'hotel_id': 401, 'price': 175, 'stock': 48},\n",
       "  {'hotel_id': 893, 'price': 205, 'stock': 69},\n",
       "  {'hotel_id': 443, 'price': 114, 'stock': 52},\n",
       "  {'hotel_id': 99, 'price': 180, 'stock': 46},\n",
       "  {'hotel_id': 624, 'price': 200, 'stock': 75},\n",
       "  {'hotel_id': 113, 'price': 85, 'stock': 28},\n",
       "  {'hotel_id': 793, 'price': 161, 'stock': 23},\n",
       "  {'hotel_id': 431, 'price': 123, 'stock': 38},\n",
       "  {'hotel_id': 952, 'price': 92, 'stock': 22},\n",
       "  {'hotel_id': 990, 'price': 158, 'stock': 58},\n",
       "  {'hotel_id': 528, 'price': 269, 'stock': 99},\n",
       "  {'hotel_id': 572, 'price': 198, 'stock': 64},\n",
       "  {'hotel_id': 876, 'price': 126, 'stock': 36},\n",
       "  {'hotel_id': 36, 'price': 193, 'stock': 44},\n",
       "  {'hotel_id': 611, 'price': 175, 'stock': 56},\n",
       "  {'hotel_id': 958, 'price': 214, 'stock': 72},\n",
       "  {'hotel_id': 407, 'price': 208, 'stock': 69},\n",
       "  {'hotel_id': 898, 'price': 83, 'stock': 24},\n",
       "  {'hotel_id': 983, 'price': 85, 'stock': 27},\n",
       "  {'hotel_id': 300, 'price': 119, 'stock': 38},\n",
       "  {'hotel_id': 385, 'price': 272, 'stock': 101},\n",
       "  {'hotel_id': 711, 'price': 130, 'stock': 38},\n",
       "  {'hotel_id': 329, 'price': 222, 'stock': 67},\n",
       "  {'hotel_id': 289, 'price': 120, 'stock': 40},\n",
       "  {'hotel_id': 826, 'price': 196, 'stock': 83},\n",
       "  {'hotel_id': 43, 'price': 79, 'stock': 62},\n",
       "  {'hotel_id': 78, 'price': 266, 'stock': 93},\n",
       "  {'hotel_id': 961, 'price': 180, 'stock': 85},\n",
       "  {'hotel_id': 110, 'price': 166, 'stock': 51},\n",
       "  {'hotel_id': 92, 'price': 84, 'stock': 27},\n",
       "  {'hotel_id': 291, 'price': 188, 'stock': 79},\n",
       "  {'hotel_id': 989, 'price': 89, 'stock': 22},\n",
       "  {'hotel_id': 251, 'price': 165, 'stock': 21},\n",
       "  {'hotel_id': 805, 'price': 159, 'stock': 74},\n",
       "  {'hotel_id': 53, 'price': 92, 'stock': 24},\n",
       "  {'hotel_id': 994, 'price': 157, 'stock': 62}],\n",
       " 'request': {'city': 'copenhagen',\n",
       "  'date': 30,\n",
       "  'language': 'hungarian',\n",
       "  'mobile': 0,\n",
       "  'avatar_id': 6217}}"
      ]
     },
     "execution_count": 4,
     "metadata": {},
     "output_type": "execute_result"
    }
   ],
   "source": [
    "params = {\n",
    "    \"avatar_name\": \"ema-first-avatar\",\n",
    "    \"language\": \"hungarian\",\n",
    "    \"city\": \"copenhagen\",\n",
    "    \"date\": 30,\n",
    "    \"mobile\": 0,\n",
    "}\n",
    "r1 = requests.get(path(f\"pricing/{user_id}\"), params=params)\n",
    "r1.json()"
   ]
  },
  {
   "cell_type": "code",
   "execution_count": 6,
   "metadata": {
    "execution": {
     "iopub.execute_input": "2022-10-06T11:59:41.396474Z",
     "iopub.status.busy": "2022-10-06T11:59:41.396131Z",
     "iopub.status.idle": "2022-10-06T11:59:41.602776Z",
     "shell.execute_reply": "2022-10-06T11:59:41.601646Z"
    },
    "papermill": {
     "duration": 0.214904,
     "end_time": "2022-10-06T11:59:41.605119",
     "exception": false,
     "start_time": "2022-10-06T11:59:41.390215",
     "status": "completed"
    },
    "tags": []
   },
   "outputs": [
    {
     "data": {
      "text/plain": [
       "(422, 'A pricing request for this avatar already exists for a sooner date')"
      ]
     },
     "execution_count": 6,
     "metadata": {},
     "output_type": "execute_result"
    }
   ],
   "source": [
    "params = {\n",
    "    \"avatar_name\": \"max-first-avatar\",\n",
    "    \"language\": \"hungarian\",\n",
    "    \"city\": \"copenhagen\",\n",
    "    \"date\": 3,\n",
    "    \"mobile\": 0,\n",
    "}\n",
    "r = requests.get(path(f\"pricing/{user_id}\"), params=params)\n",
    "r.status_code, r.json()['detail']"
   ]
  },
  {
   "cell_type": "code",
   "execution_count": 7,
   "metadata": {
    "execution": {
     "iopub.execute_input": "2022-10-06T11:59:41.617899Z",
     "iopub.status.busy": "2022-10-06T11:59:41.616898Z",
     "iopub.status.idle": "2022-10-06T11:59:41.877758Z",
     "shell.execute_reply": "2022-10-06T11:59:41.876771Z"
    },
    "papermill": {
     "duration": 0.269387,
     "end_time": "2022-10-06T11:59:41.880014",
     "exception": false,
     "start_time": "2022-10-06T11:59:41.610627",
     "status": "completed"
    },
    "tags": []
   },
   "outputs": [
    {
     "data": {
      "text/plain": [
       "{'prices': [{'hotel_id': 12, 'price': 76, 'stock': 0},\n",
       "  {'hotel_id': 567, 'price': 89, 'stock': 0},\n",
       "  {'hotel_id': 630, 'price': 150, 'stock': 0},\n",
       "  {'hotel_id': 307, 'price': 123, 'stock': 0},\n",
       "  {'hotel_id': 807, 'price': 396, 'stock': 1},\n",
       "  {'hotel_id': 317, 'price': 182, 'stock': 1},\n",
       "  {'hotel_id': 809, 'price': 396, 'stock': 1},\n",
       "  {'hotel_id': 269, 'price': 148, 'stock': 0},\n",
       "  {'hotel_id': 821, 'price': 107, 'stock': 0},\n",
       "  {'hotel_id': 441, 'price': 190, 'stock': 1},\n",
       "  {'hotel_id': 603, 'price': 349, 'stock': 1},\n",
       "  {'hotel_id': 557, 'price': 109, 'stock': 0},\n",
       "  {'hotel_id': 588, 'price': 169, 'stock': 0},\n",
       "  {'hotel_id': 211, 'price': 144, 'stock': 0},\n",
       "  {'hotel_id': 657, 'price': 250, 'stock': 1},\n",
       "  {'hotel_id': 517, 'price': 168, 'stock': 0},\n",
       "  {'hotel_id': 85, 'price': 153, 'stock': 0},\n",
       "  {'hotel_id': 271, 'price': 79, 'stock': 0},\n",
       "  {'hotel_id': 103, 'price': 176, 'stock': 7},\n",
       "  {'hotel_id': 163, 'price': 283, 'stock': 1},\n",
       "  {'hotel_id': 450, 'price': 153, 'stock': 16},\n",
       "  {'hotel_id': 158, 'price': 159, 'stock': 1},\n",
       "  {'hotel_id': 745, 'price': 107, 'stock': 0},\n",
       "  {'hotel_id': 172, 'price': 128, 'stock': 0},\n",
       "  {'hotel_id': 925, 'price': 121, 'stock': 0},\n",
       "  {'hotel_id': 960, 'price': 397, 'stock': 1},\n",
       "  {'hotel_id': 515, 'price': 397, 'stock': 1},\n",
       "  {'hotel_id': 706, 'price': 123, 'stock': 0},\n",
       "  {'hotel_id': 86, 'price': 109, 'stock': 0},\n",
       "  {'hotel_id': 762, 'price': 170, 'stock': 1},\n",
       "  {'hotel_id': 752, 'price': 392, 'stock': 1},\n",
       "  {'hotel_id': 892, 'price': 271, 'stock': 1},\n",
       "  {'hotel_id': 373, 'price': 175, 'stock': 0},\n",
       "  {'hotel_id': 779, 'price': 290, 'stock': 1},\n",
       "  {'hotel_id': 326, 'price': 349, 'stock': 1},\n",
       "  {'hotel_id': 658, 'price': 173, 'stock': 0},\n",
       "  {'hotel_id': 283, 'price': 103, 'stock': 1},\n",
       "  {'hotel_id': 917, 'price': 394, 'stock': 1},\n",
       "  {'hotel_id': 442, 'price': 171, 'stock': 1},\n",
       "  {'hotel_id': 674, 'price': 131, 'stock': 0},\n",
       "  {'hotel_id': 193, 'price': 144, 'stock': 0},\n",
       "  {'hotel_id': 967, 'price': 76, 'stock': 0},\n",
       "  {'hotel_id': 303, 'price': 207, 'stock': 0},\n",
       "  {'hotel_id': 460, 'price': 81, 'stock': 0},\n",
       "  {'hotel_id': 223, 'price': 147, 'stock': 0},\n",
       "  {'hotel_id': 369, 'price': 73, 'stock': 0},\n",
       "  {'hotel_id': 835, 'price': 92, 'stock': 25},\n",
       "  {'hotel_id': 778, 'price': 106, 'stock': 0},\n",
       "  {'hotel_id': 760, 'price': 266, 'stock': 1},\n",
       "  {'hotel_id': 891, 'price': 110, 'stock': 4},\n",
       "  {'hotel_id': 750, 'price': 101, 'stock': 7},\n",
       "  {'hotel_id': 581, 'price': 145, 'stock': 0},\n",
       "  {'hotel_id': 10, 'price': 148, 'stock': 0},\n",
       "  {'hotel_id': 429, 'price': 223, 'stock': 9},\n",
       "  {'hotel_id': 230, 'price': 178, 'stock': 0},\n",
       "  {'hotel_id': 410, 'price': 114, 'stock': 1},\n",
       "  {'hotel_id': 117, 'price': 89, 'stock': 0},\n",
       "  {'hotel_id': 585, 'price': 70, 'stock': 1},\n",
       "  {'hotel_id': 724, 'price': 361, 'stock': 1},\n",
       "  {'hotel_id': 878, 'price': 106, 'stock': 0},\n",
       "  {'hotel_id': 806, 'price': 261, 'stock': 4},\n",
       "  {'hotel_id': 971, 'price': 173, 'stock': 0},\n",
       "  {'hotel_id': 214, 'price': 288, 'stock': 1},\n",
       "  {'hotel_id': 256, 'price': 76, 'stock': 0},\n",
       "  {'hotel_id': 604, 'price': 126, 'stock': 0},\n",
       "  {'hotel_id': 218, 'price': 286, 'stock': 1},\n",
       "  {'hotel_id': 680, 'price': 147, 'stock': 0},\n",
       "  {'hotel_id': 16, 'price': 173, 'stock': 0},\n",
       "  {'hotel_id': 660, 'price': 168, 'stock': 0},\n",
       "  {'hotel_id': 902, 'price': 188, 'stock': 1},\n",
       "  {'hotel_id': 157, 'price': 361, 'stock': 1},\n",
       "  {'hotel_id': 196, 'price': 107, 'stock': 0},\n",
       "  {'hotel_id': 916, 'price': 131, 'stock': 1},\n",
       "  {'hotel_id': 921, 'price': 89, 'stock': 0},\n",
       "  {'hotel_id': 969, 'price': 82, 'stock': 0},\n",
       "  {'hotel_id': 311, 'price': 92, 'stock': 13},\n",
       "  {'hotel_id': 880, 'price': 126, 'stock': 0},\n",
       "  {'hotel_id': 676, 'price': 89, 'stock': 0},\n",
       "  {'hotel_id': 9, 'price': 82, 'stock': 0},\n",
       "  {'hotel_id': 264, 'price': 77, 'stock': 0},\n",
       "  {'hotel_id': 82, 'price': 106, 'stock': 0},\n",
       "  {'hotel_id': 507, 'price': 113, 'stock': 1},\n",
       "  {'hotel_id': 510, 'price': 417, 'stock': 1},\n",
       "  {'hotel_id': 52, 'price': 170, 'stock': 0},\n",
       "  {'hotel_id': 45, 'price': 171, 'stock': 0},\n",
       "  {'hotel_id': 788, 'price': 106, 'stock': 0},\n",
       "  {'hotel_id': 366, 'price': 76, 'stock': 0},\n",
       "  {'hotel_id': 945, 'price': 175, 'stock': 0},\n",
       "  {'hotel_id': 587, 'price': 148, 'stock': 0},\n",
       "  {'hotel_id': 505, 'price': 106, 'stock': 0},\n",
       "  {'hotel_id': 594, 'price': 410, 'stock': 1},\n",
       "  {'hotel_id': 455, 'price': 157, 'stock': 8},\n",
       "  {'hotel_id': 140, 'price': 180, 'stock': 0},\n",
       "  {'hotel_id': 111, 'price': 142, 'stock': 2},\n",
       "  {'hotel_id': 591, 'price': 307, 'stock': 5},\n",
       "  {'hotel_id': 475, 'price': 103, 'stock': 0},\n",
       "  {'hotel_id': 482, 'price': 78, 'stock': 0},\n",
       "  {'hotel_id': 715, 'price': 170, 'stock': 0},\n",
       "  {'hotel_id': 22, 'price': 170, 'stock': 0},\n",
       "  {'hotel_id': 105, 'price': 170, 'stock': 0},\n",
       "  {'hotel_id': 570, 'price': 105, 'stock': 0},\n",
       "  {'hotel_id': 387, 'price': 406, 'stock': 1},\n",
       "  {'hotel_id': 867, 'price': 144, 'stock': 0},\n",
       "  {'hotel_id': 493, 'price': 171, 'stock': 0},\n",
       "  {'hotel_id': 234, 'price': 170, 'stock': 0},\n",
       "  {'hotel_id': 628, 'price': 147, 'stock': 0},\n",
       "  {'hotel_id': 679, 'price': 147, 'stock': 0},\n",
       "  {'hotel_id': 375, 'price': 103, 'stock': 0},\n",
       "  {'hotel_id': 83, 'price': 171, 'stock': 0},\n",
       "  {'hotel_id': 146, 'price': 207, 'stock': 0},\n",
       "  {'hotel_id': 34, 'price': 76, 'stock': 0},\n",
       "  {'hotel_id': 417, 'price': 173, 'stock': 0},\n",
       "  {'hotel_id': 101, 'price': 388, 'stock': 1},\n",
       "  {'hotel_id': 743, 'price': 168, 'stock': 0},\n",
       "  {'hotel_id': 933, 'price': 147, 'stock': 0},\n",
       "  {'hotel_id': 352, 'price': 89, 'stock': 15},\n",
       "  {'hotel_id': 777, 'price': 175, 'stock': 0},\n",
       "  {'hotel_id': 548, 'price': 406, 'stock': 1},\n",
       "  {'hotel_id': 627, 'price': 103, 'stock': 0},\n",
       "  {'hotel_id': 224, 'price': 156, 'stock': 1},\n",
       "  {'hotel_id': 783, 'price': 97, 'stock': 0}],\n",
       " 'request': {'city': 'amsterdam',\n",
       "  'date': 1,\n",
       "  'language': 'hungarian',\n",
       "  'mobile': 1,\n",
       "  'avatar_id': 6}}"
      ]
     },
     "execution_count": 7,
     "metadata": {},
     "output_type": "execute_result"
    }
   ],
   "source": [
    "params = {\n",
    "    \"avatar_name\": \"max-second-avatar\",\n",
    "    \"language\": \"hungarian\",\n",
    "    \"city\": \"amsterdam\",\n",
    "    \"date\": 1,\n",
    "    \"mobile\": 1,\n",
    "}\n",
    "r2 = requests.get(path(f\"pricing/{user_id}\"), params=params)\n",
    "r2.json()"
   ]
  },
  {
   "cell_type": "markdown",
   "metadata": {
    "papermill": {
     "duration": 0.004871,
     "end_time": "2022-10-06T11:59:41.890316",
     "exception": false,
     "start_time": "2022-10-06T11:59:41.885445",
     "status": "completed"
    },
    "tags": []
   },
   "source": [
    "## Build a training set"
   ]
  },
  {
   "cell_type": "code",
   "execution_count": 5,
   "metadata": {
    "execution": {
     "iopub.execute_input": "2022-10-06T11:59:41.901920Z",
     "iopub.status.busy": "2022-10-06T11:59:41.901507Z",
     "iopub.status.idle": "2022-10-06T11:59:41.949655Z",
     "shell.execute_reply": "2022-10-06T11:59:41.948888Z"
    },
    "papermill": {
     "duration": 0.05653,
     "end_time": "2022-10-06T11:59:41.951911",
     "exception": false,
     "start_time": "2022-10-06T11:59:41.895381",
     "status": "completed"
    },
    "tags": []
   },
   "outputs": [
    {
     "data": {
      "text/html": [
       "<div>\n",
       "<style scoped>\n",
       "    .dataframe tbody tr th:only-of-type {\n",
       "        vertical-align: middle;\n",
       "    }\n",
       "\n",
       "    .dataframe tbody tr th {\n",
       "        vertical-align: top;\n",
       "    }\n",
       "\n",
       "    .dataframe thead th {\n",
       "        text-align: right;\n",
       "    }\n",
       "</style>\n",
       "<table border=\"1\" class=\"dataframe\">\n",
       "  <thead>\n",
       "    <tr style=\"text-align: right;\">\n",
       "      <th></th>\n",
       "      <th>hotel_id</th>\n",
       "      <th>price</th>\n",
       "      <th>stock</th>\n",
       "      <th>city</th>\n",
       "      <th>date</th>\n",
       "      <th>language</th>\n",
       "      <th>mobile</th>\n",
       "      <th>avatar_id</th>\n",
       "    </tr>\n",
       "  </thead>\n",
       "  <tbody>\n",
       "    <tr>\n",
       "      <td>0</td>\n",
       "      <td>556</td>\n",
       "      <td>175</td>\n",
       "      <td>60</td>\n",
       "      <td>copenhagen</td>\n",
       "      <td>30</td>\n",
       "      <td>hungarian</td>\n",
       "      <td>0</td>\n",
       "      <td>6217</td>\n",
       "    </tr>\n",
       "    <tr>\n",
       "      <td>1</td>\n",
       "      <td>664</td>\n",
       "      <td>284</td>\n",
       "      <td>111</td>\n",
       "      <td>copenhagen</td>\n",
       "      <td>30</td>\n",
       "      <td>hungarian</td>\n",
       "      <td>0</td>\n",
       "      <td>6217</td>\n",
       "    </tr>\n",
       "    <tr>\n",
       "      <td>2</td>\n",
       "      <td>96</td>\n",
       "      <td>124</td>\n",
       "      <td>37</td>\n",
       "      <td>copenhagen</td>\n",
       "      <td>30</td>\n",
       "      <td>hungarian</td>\n",
       "      <td>0</td>\n",
       "      <td>6217</td>\n",
       "    </tr>\n",
       "    <tr>\n",
       "      <td>3</td>\n",
       "      <td>865</td>\n",
       "      <td>277</td>\n",
       "      <td>107</td>\n",
       "      <td>copenhagen</td>\n",
       "      <td>30</td>\n",
       "      <td>hungarian</td>\n",
       "      <td>0</td>\n",
       "      <td>6217</td>\n",
       "    </tr>\n",
       "    <tr>\n",
       "      <td>4</td>\n",
       "      <td>58</td>\n",
       "      <td>203</td>\n",
       "      <td>65</td>\n",
       "      <td>copenhagen</td>\n",
       "      <td>30</td>\n",
       "      <td>hungarian</td>\n",
       "      <td>0</td>\n",
       "      <td>6217</td>\n",
       "    </tr>\n",
       "  </tbody>\n",
       "</table>\n",
       "</div>"
      ],
      "text/plain": [
       "   hotel_id  price  stock        city  date   language  mobile  avatar_id\n",
       "0       556    175     60  copenhagen    30  hungarian       0       6217\n",
       "1       664    284    111  copenhagen    30  hungarian       0       6217\n",
       "2        96    124     37  copenhagen    30  hungarian       0       6217\n",
       "3       865    277    107  copenhagen    30  hungarian       0       6217\n",
       "4        58    203     65  copenhagen    30  hungarian       0       6217"
      ]
     },
     "execution_count": 5,
     "metadata": {},
     "output_type": "execute_result"
    }
   ],
   "source": [
    "import pandas as pd\n",
    "\n",
    "pricing_requests = []\n",
    "\n",
    "requests = [r1]\n",
    "for r in requests:\n",
    "    pricing_requests.append(\n",
    "        pd.DataFrame(r.json()['prices']).assign(**r.json()['request'])\n",
    "    )\n",
    "\n",
    "pricing_requests = pd.concat(pricing_requests)\n",
    "pricing_requests.head()"
   ]
  },
  {
   "cell_type": "code",
   "execution_count": 9,
   "metadata": {
    "execution": {
     "iopub.execute_input": "2022-10-06T11:59:41.964890Z",
     "iopub.status.busy": "2022-10-06T11:59:41.964477Z",
     "iopub.status.idle": "2022-10-06T11:59:41.969848Z",
     "shell.execute_reply": "2022-10-06T11:59:41.969115Z"
    },
    "papermill": {
     "duration": 0.014276,
     "end_time": "2022-10-06T11:59:41.971877",
     "exception": false,
     "start_time": "2022-10-06T11:59:41.957601",
     "status": "completed"
    },
    "tags": []
   },
   "outputs": [
    {
     "data": {
      "text/plain": [
       "255"
      ]
     },
     "execution_count": 9,
     "metadata": {},
     "output_type": "execute_result"
    }
   ],
   "source": [
    "len(pricing_requests)"
   ]
  },
  {
   "cell_type": "code",
   "execution_count": 6,
   "metadata": {},
   "outputs": [],
   "source": [
    "pricing_requests.to_csv('test_requete.csv')"
   ]
  },
  {
   "cell_type": "code",
   "execution_count": 10,
   "metadata": {
    "execution": {
     "iopub.execute_input": "2022-10-06T11:59:41.985831Z",
     "iopub.status.busy": "2022-10-06T11:59:41.985407Z",
     "iopub.status.idle": "2022-10-06T11:59:42.027564Z",
     "shell.execute_reply": "2022-10-06T11:59:42.026492Z"
    },
    "papermill": {
     "duration": 0.052663,
     "end_time": "2022-10-06T11:59:42.030016",
     "exception": false,
     "start_time": "2022-10-06T11:59:41.977353",
     "status": "completed"
    },
    "tags": []
   },
   "outputs": [
    {
     "data": {
      "text/html": [
       "<div>\n",
       "<style scoped>\n",
       "    .dataframe tbody tr th:only-of-type {\n",
       "        vertical-align: middle;\n",
       "    }\n",
       "\n",
       "    .dataframe tbody tr th {\n",
       "        vertical-align: top;\n",
       "    }\n",
       "\n",
       "    .dataframe thead th {\n",
       "        text-align: right;\n",
       "    }\n",
       "</style>\n",
       "<table border=\"1\" class=\"dataframe\">\n",
       "  <thead>\n",
       "    <tr style=\"text-align: right;\">\n",
       "      <th></th>\n",
       "      <th>hotel_id</th>\n",
       "      <th>price</th>\n",
       "      <th>stock</th>\n",
       "      <th>city</th>\n",
       "      <th>date</th>\n",
       "      <th>language</th>\n",
       "      <th>mobile</th>\n",
       "      <th>avatar_id</th>\n",
       "      <th>group</th>\n",
       "      <th>brand</th>\n",
       "      <th>parking</th>\n",
       "      <th>pool</th>\n",
       "      <th>children_policy</th>\n",
       "    </tr>\n",
       "  </thead>\n",
       "  <tbody>\n",
       "    <tr>\n",
       "      <th>0</th>\n",
       "      <td>720</td>\n",
       "      <td>467</td>\n",
       "      <td>2</td>\n",
       "      <td>copenhagen</td>\n",
       "      <td>2</td>\n",
       "      <td>hungarian</td>\n",
       "      <td>0</td>\n",
       "      <td>5</td>\n",
       "      <td>Chillton Worldwide</td>\n",
       "      <td>Chill Garden Inn</td>\n",
       "      <td>0</td>\n",
       "      <td>0</td>\n",
       "      <td>2</td>\n",
       "    </tr>\n",
       "    <tr>\n",
       "      <th>1</th>\n",
       "      <td>434</td>\n",
       "      <td>114</td>\n",
       "      <td>0</td>\n",
       "      <td>copenhagen</td>\n",
       "      <td>2</td>\n",
       "      <td>hungarian</td>\n",
       "      <td>0</td>\n",
       "      <td>5</td>\n",
       "      <td>Accar Hotels</td>\n",
       "      <td>Ibas</td>\n",
       "      <td>0</td>\n",
       "      <td>0</td>\n",
       "      <td>0</td>\n",
       "    </tr>\n",
       "    <tr>\n",
       "      <th>2</th>\n",
       "      <td>349</td>\n",
       "      <td>317</td>\n",
       "      <td>1</td>\n",
       "      <td>copenhagen</td>\n",
       "      <td>2</td>\n",
       "      <td>hungarian</td>\n",
       "      <td>0</td>\n",
       "      <td>5</td>\n",
       "      <td>Yin Yang</td>\n",
       "      <td>Royal Lotus</td>\n",
       "      <td>0</td>\n",
       "      <td>1</td>\n",
       "      <td>0</td>\n",
       "    </tr>\n",
       "    <tr>\n",
       "      <th>3</th>\n",
       "      <td>367</td>\n",
       "      <td>96</td>\n",
       "      <td>0</td>\n",
       "      <td>copenhagen</td>\n",
       "      <td>2</td>\n",
       "      <td>hungarian</td>\n",
       "      <td>0</td>\n",
       "      <td>5</td>\n",
       "      <td>Yin Yang</td>\n",
       "      <td>8 Premium</td>\n",
       "      <td>0</td>\n",
       "      <td>0</td>\n",
       "      <td>0</td>\n",
       "    </tr>\n",
       "    <tr>\n",
       "      <th>4</th>\n",
       "      <td>952</td>\n",
       "      <td>94</td>\n",
       "      <td>0</td>\n",
       "      <td>copenhagen</td>\n",
       "      <td>2</td>\n",
       "      <td>hungarian</td>\n",
       "      <td>0</td>\n",
       "      <td>5</td>\n",
       "      <td>Independant</td>\n",
       "      <td>Independant</td>\n",
       "      <td>0</td>\n",
       "      <td>0</td>\n",
       "      <td>0</td>\n",
       "    </tr>\n",
       "  </tbody>\n",
       "</table>\n",
       "</div>"
      ],
      "text/plain": [
       "   hotel_id  price  stock        city  date   language  mobile  avatar_id  \\\n",
       "0       720    467      2  copenhagen     2  hungarian       0          5   \n",
       "1       434    114      0  copenhagen     2  hungarian       0          5   \n",
       "2       349    317      1  copenhagen     2  hungarian       0          5   \n",
       "3       367     96      0  copenhagen     2  hungarian       0          5   \n",
       "4       952     94      0  copenhagen     2  hungarian       0          5   \n",
       "\n",
       "                group             brand  parking  pool  children_policy  \n",
       "0  Chillton Worldwide  Chill Garden Inn        0     0                2  \n",
       "1        Accar Hotels              Ibas        0     0                0  \n",
       "2            Yin Yang       Royal Lotus        0     1                0  \n",
       "3            Yin Yang         8 Premium        0     0                0  \n",
       "4         Independant       Independant        0     0                0  "
      ]
     },
     "execution_count": 10,
     "metadata": {},
     "output_type": "execute_result"
    }
   ],
   "source": [
    "hotels = pd.read_csv('../input/defi-ia-2023/features_hotels.csv', index_col=['hotel_id', 'city'])\n",
    "pricing_requests = pricing_requests.join(hotels, on=['hotel_id', 'city'])\n",
    "pricing_requests.head()"
   ]
  },
  {
   "cell_type": "code",
   "execution_count": 11,
   "metadata": {
    "execution": {
     "iopub.execute_input": "2022-10-06T11:59:42.043357Z",
     "iopub.status.busy": "2022-10-06T11:59:42.042987Z",
     "iopub.status.idle": "2022-10-06T11:59:42.061602Z",
     "shell.execute_reply": "2022-10-06T11:59:42.060529Z"
    },
    "papermill": {
     "duration": 0.028018,
     "end_time": "2022-10-06T11:59:42.063852",
     "exception": false,
     "start_time": "2022-10-06T11:59:42.035834",
     "status": "completed"
    },
    "tags": []
   },
   "outputs": [
    {
     "data": {
      "text/html": [
       "<div>\n",
       "<style scoped>\n",
       "    .dataframe tbody tr th:only-of-type {\n",
       "        vertical-align: middle;\n",
       "    }\n",
       "\n",
       "    .dataframe tbody tr th {\n",
       "        vertical-align: top;\n",
       "    }\n",
       "\n",
       "    .dataframe thead th {\n",
       "        text-align: right;\n",
       "    }\n",
       "</style>\n",
       "<table border=\"1\" class=\"dataframe\">\n",
       "  <thead>\n",
       "    <tr style=\"text-align: right;\">\n",
       "      <th></th>\n",
       "      <th>index</th>\n",
       "      <th>price</th>\n",
       "    </tr>\n",
       "  </thead>\n",
       "  <tbody>\n",
       "    <tr>\n",
       "      <th>0</th>\n",
       "      <td>0</td>\n",
       "      <td>191.0</td>\n",
       "    </tr>\n",
       "    <tr>\n",
       "      <th>1</th>\n",
       "      <td>1</td>\n",
       "      <td>191.0</td>\n",
       "    </tr>\n",
       "    <tr>\n",
       "      <th>2</th>\n",
       "      <td>2</td>\n",
       "      <td>191.0</td>\n",
       "    </tr>\n",
       "    <tr>\n",
       "      <th>3</th>\n",
       "      <td>3</td>\n",
       "      <td>191.0</td>\n",
       "    </tr>\n",
       "    <tr>\n",
       "      <th>4</th>\n",
       "      <td>4</td>\n",
       "      <td>191.0</td>\n",
       "    </tr>\n",
       "  </tbody>\n",
       "</table>\n",
       "</div>"
      ],
      "text/plain": [
       "   index  price\n",
       "0      0  191.0\n",
       "1      1  191.0\n",
       "2      2  191.0\n",
       "3      3  191.0\n",
       "4      4  191.0"
      ]
     },
     "execution_count": 11,
     "metadata": {},
     "output_type": "execute_result"
    }
   ],
   "source": [
    "sample_submission = pd.read_csv('../input/defi-ia-2023/sample_submission.csv')\n",
    "sample_submission.head()"
   ]
  },
  {
   "cell_type": "code",
   "execution_count": 12,
   "metadata": {
    "execution": {
     "iopub.execute_input": "2022-10-06T11:59:42.077543Z",
     "iopub.status.busy": "2022-10-06T11:59:42.077158Z",
     "iopub.status.idle": "2022-10-06T11:59:42.094916Z",
     "shell.execute_reply": "2022-10-06T11:59:42.093676Z"
    },
    "papermill": {
     "duration": 0.027487,
     "end_time": "2022-10-06T11:59:42.097411",
     "exception": false,
     "start_time": "2022-10-06T11:59:42.069924",
     "status": "completed"
    },
    "tags": []
   },
   "outputs": [],
   "source": [
    "sample_submission.to_csv('submission.csv', index=False)"
   ]
  }
 ],
 "metadata": {
  "kernelspec": {
   "display_name": "Python 3",
   "language": "python",
   "name": "python3"
  },
  "language_info": {
   "codemirror_mode": {
    "name": "ipython",
    "version": 3
   },
   "file_extension": ".py",
   "mimetype": "text/x-python",
   "name": "python",
   "nbconvert_exporter": "python",
   "pygments_lexer": "ipython3",
   "version": "3.7.4"
  },
  "papermill": {
   "default_parameters": {},
   "duration": 11.143049,
   "end_time": "2022-10-06T11:59:42.724449",
   "environment_variables": {},
   "exception": null,
   "input_path": "__notebook__.ipynb",
   "output_path": "__notebook__.ipynb",
   "parameters": {},
   "start_time": "2022-10-06T11:59:31.581400",
   "version": "2.3.4"
  }
 },
 "nbformat": 4,
 "nbformat_minor": 5
}
